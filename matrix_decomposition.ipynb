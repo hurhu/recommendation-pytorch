{
 "cells": [
  {
   "cell_type": "code",
   "execution_count": 1,
   "metadata": {},
   "outputs": [],
   "source": [
    "import numpy as np\n",
    "import pandas as pd"
   ]
  },
  {
   "cell_type": "markdown",
   "metadata": {},
   "source": [
    "### 奇异值分解"
   ]
  },
  {
   "cell_type": "code",
   "execution_count": 2,
   "metadata": {},
   "outputs": [
    {
     "data": {
      "text/plain": [
       "array([[9, 4, 9, 9],\n",
       "       [2, 5, 8, 4],\n",
       "       [7, 2, 7, 9],\n",
       "       [1, 5, 8, 1],\n",
       "       [3, 9, 3, 5],\n",
       "       [2, 6, 9, 7],\n",
       "       [5, 8, 5, 6],\n",
       "       [7, 9, 3, 7]])"
      ]
     },
     "execution_count": 2,
     "metadata": {},
     "output_type": "execute_result"
    }
   ],
   "source": [
    "#随机生成8个用户对4个物品的评分矩阵\n",
    "A = np.random.randint(1, 10, (8, 4))\n",
    "A"
   ]
  },
  {
   "cell_type": "code",
   "execution_count": 5,
   "metadata": {},
   "outputs": [
    {
     "name": "stdout",
     "output_type": "stream",
     "text": [
      "(8, 4) (4,) (4, 4)\n"
     ]
    }
   ],
   "source": [
    "#实现矩阵分解\n",
    "U, S, V = np.linalg.svd(A, full_matrices=False)\n",
    "print(U.shape, S.shape, V.shape)"
   ]
  },
  {
   "cell_type": "code",
   "execution_count": 6,
   "metadata": {},
   "outputs": [
    {
     "data": {
      "text/plain": [
       "array([[-0.46258098,  0.47852477, -0.14491341,  0.36752958],\n",
       "       [-0.29419065, -0.02542881,  0.41631837,  0.01554843],\n",
       "       [-0.37549051,  0.5375596 , -0.18771883, -0.2380621 ],\n",
       "       [-0.23358352, -0.14457362,  0.59721348,  0.54200071],\n",
       "       [-0.30002354, -0.52558728, -0.13776278, -0.2133592 ],\n",
       "       [-0.37365907, -0.00093302,  0.38810369, -0.65554762],\n",
       "       [-0.35872944, -0.26509575, -0.12843753,  0.07790508],\n",
       "       [-0.38156819, -0.33760471, -0.4771557 ,  0.18140529]])"
      ]
     },
     "execution_count": 6,
     "metadata": {},
     "output_type": "execute_result"
    }
   ],
   "source": [
    "U"
   ]
  },
  {
   "cell_type": "code",
   "execution_count": 9,
   "metadata": {},
   "outputs": [
    {
     "data": {
      "text/plain": [
       "array([33.34833138,  8.94702598,  8.55836735,  2.93153011])"
      ]
     },
     "execution_count": 9,
     "metadata": {},
     "output_type": "execute_result"
    }
   ],
   "source": [
    "#因为是对角矩阵，这里进行了简写\n",
    "S"
   ]
  },
  {
   "cell_type": "code",
   "execution_count": 8,
   "metadata": {},
   "outputs": [
    {
     "data": {
      "text/plain": [
       "array([[-0.41158403, -0.4943663 , -0.54621053, -0.53652084],\n",
       "       [ 0.29136714, -0.86686748,  0.31140726,  0.25820821],\n",
       "       [-0.56176144, -0.01408872,  0.75902239, -0.32880177],\n",
       "       [ 0.65584134,  0.06280319,  0.1690106 , -0.73305069]])"
      ]
     },
     "execution_count": 8,
     "metadata": {},
     "output_type": "execute_result"
    }
   ],
   "source": [
    "V"
   ]
  },
  {
   "cell_type": "code",
   "execution_count": 11,
   "metadata": {},
   "outputs": [
    {
     "data": {
      "text/plain": [
       "array([[-0.46258098,  0.47852477],\n",
       "       [-0.29419065, -0.02542881],\n",
       "       [-0.37549051,  0.5375596 ],\n",
       "       [-0.23358352, -0.14457362],\n",
       "       [-0.30002354, -0.52558728],\n",
       "       [-0.37365907, -0.00093302],\n",
       "       [-0.35872944, -0.26509575],\n",
       "       [-0.38156819, -0.33760471]])"
      ]
     },
     "execution_count": 11,
     "metadata": {},
     "output_type": "execute_result"
    }
   ],
   "source": [
    "#假设用户和物品的隐向量维度k为2，则用户隐向量矩阵为\n",
    "user_matrix = U[:, 0:2]\n",
    "user_matrix"
   ]
  },
  {
   "cell_type": "code",
   "execution_count": 12,
   "metadata": {},
   "outputs": [
    {
     "data": {
      "text/plain": [
       "array([[-0.41158403, -0.4943663 , -0.54621053, -0.53652084],\n",
       "       [ 0.29136714, -0.86686748,  0.31140726,  0.25820821]])"
      ]
     },
     "execution_count": 12,
     "metadata": {},
     "output_type": "execute_result"
    }
   ],
   "source": [
    "#物品隐向量矩阵为\n",
    "item_matrix = V[0:2,:]\n",
    "item_matrix"
   ]
  },
  {
   "cell_type": "markdown",
   "metadata": {},
   "source": [
    "### 梯度下降法"
   ]
  },
  {
   "cell_type": "code",
   "execution_count": 106,
   "metadata": {},
   "outputs": [],
   "source": [
    "data = pd.DataFrame({'user_id':[1,1,1,1,1,1,1,1,2,2,2,2,2,2,2,2,2,2,2,2],\n",
    "                    'item_id':[1119,167,6265,1440,1427,5404,259,4156,419,415,2834,228,107,440,44,455,44,44,44,44],\n",
    "                    'score':[9.00,8.00,8.00,9.00,9.00,8.00,7.00,8.00,9.00,10.00,9.00,10.00,10.00,9.00,10.00,10.00,10.00,10.00,10.00,10.00]})"
   ]
  },
  {
   "cell_type": "code",
   "execution_count": 102,
   "metadata": {},
   "outputs": [],
   "source": [
    "from sklearn.model_selection import train_test_split\n",
    "from sklearn.metrics import mean_squared_error"
   ]
  },
  {
   "cell_type": "code",
   "execution_count": 107,
   "metadata": {},
   "outputs": [
    {
     "name": "stdout",
     "output_type": "stream",
     "text": [
      "{1: 0, 2: 1}\n",
      "{1119: 0, 167: 1, 6265: 2, 1440: 3, 1427: 4, 5404: 5, 259: 6, 4156: 7, 419: 8, 415: 9, 2834: 10, 228: 11, 107: 12, 440: 13, 44: 14, 455: 15}\n"
     ]
    }
   ],
   "source": [
    "unique_user = data['user_id'].unique()\n",
    "unique_item = data['item_id'].unique()\n",
    "len_users = len(unique_user)\n",
    "len_items =len(unique_item)\n",
    "user_map = dict(zip(unique_user, range(len_users)))\n",
    "item_map = dict(zip(unique_item, range(len_items)))\n",
    "print(user_map)\n",
    "print(item_map)\n",
    "data['user_id'] = data['user_id'].apply(lambda x:user_map[x])\n",
    "data['item_id'] = data['item_id'].apply(lambda x:item_map[x])"
   ]
  },
  {
   "cell_type": "code",
   "execution_count": 83,
   "metadata": {},
   "outputs": [
    {
     "data": {
      "text/html": [
       "<div>\n",
       "<style scoped>\n",
       "    .dataframe tbody tr th:only-of-type {\n",
       "        vertical-align: middle;\n",
       "    }\n",
       "\n",
       "    .dataframe tbody tr th {\n",
       "        vertical-align: top;\n",
       "    }\n",
       "\n",
       "    .dataframe thead th {\n",
       "        text-align: right;\n",
       "    }\n",
       "</style>\n",
       "<table border=\"1\" class=\"dataframe\">\n",
       "  <thead>\n",
       "    <tr style=\"text-align: right;\">\n",
       "      <th></th>\n",
       "      <th>user_id</th>\n",
       "      <th>item_id</th>\n",
       "      <th>score</th>\n",
       "    </tr>\n",
       "  </thead>\n",
       "  <tbody>\n",
       "    <tr>\n",
       "      <th>0</th>\n",
       "      <td>0</td>\n",
       "      <td>0</td>\n",
       "      <td>9.0</td>\n",
       "    </tr>\n",
       "    <tr>\n",
       "      <th>1</th>\n",
       "      <td>0</td>\n",
       "      <td>1</td>\n",
       "      <td>8.0</td>\n",
       "    </tr>\n",
       "    <tr>\n",
       "      <th>2</th>\n",
       "      <td>0</td>\n",
       "      <td>2</td>\n",
       "      <td>8.0</td>\n",
       "    </tr>\n",
       "    <tr>\n",
       "      <th>3</th>\n",
       "      <td>0</td>\n",
       "      <td>3</td>\n",
       "      <td>9.0</td>\n",
       "    </tr>\n",
       "    <tr>\n",
       "      <th>4</th>\n",
       "      <td>0</td>\n",
       "      <td>4</td>\n",
       "      <td>9.0</td>\n",
       "    </tr>\n",
       "    <tr>\n",
       "      <th>5</th>\n",
       "      <td>0</td>\n",
       "      <td>5</td>\n",
       "      <td>8.0</td>\n",
       "    </tr>\n",
       "    <tr>\n",
       "      <th>6</th>\n",
       "      <td>0</td>\n",
       "      <td>6</td>\n",
       "      <td>7.0</td>\n",
       "    </tr>\n",
       "    <tr>\n",
       "      <th>7</th>\n",
       "      <td>0</td>\n",
       "      <td>7</td>\n",
       "      <td>8.0</td>\n",
       "    </tr>\n",
       "    <tr>\n",
       "      <th>8</th>\n",
       "      <td>1</td>\n",
       "      <td>8</td>\n",
       "      <td>9.0</td>\n",
       "    </tr>\n",
       "    <tr>\n",
       "      <th>9</th>\n",
       "      <td>1</td>\n",
       "      <td>9</td>\n",
       "      <td>10.0</td>\n",
       "    </tr>\n",
       "    <tr>\n",
       "      <th>10</th>\n",
       "      <td>1</td>\n",
       "      <td>10</td>\n",
       "      <td>9.0</td>\n",
       "    </tr>\n",
       "    <tr>\n",
       "      <th>11</th>\n",
       "      <td>1</td>\n",
       "      <td>11</td>\n",
       "      <td>10.0</td>\n",
       "    </tr>\n",
       "    <tr>\n",
       "      <th>12</th>\n",
       "      <td>1</td>\n",
       "      <td>12</td>\n",
       "      <td>10.0</td>\n",
       "    </tr>\n",
       "    <tr>\n",
       "      <th>13</th>\n",
       "      <td>1</td>\n",
       "      <td>13</td>\n",
       "      <td>9.0</td>\n",
       "    </tr>\n",
       "    <tr>\n",
       "      <th>14</th>\n",
       "      <td>1</td>\n",
       "      <td>14</td>\n",
       "      <td>10.0</td>\n",
       "    </tr>\n",
       "    <tr>\n",
       "      <th>15</th>\n",
       "      <td>1</td>\n",
       "      <td>15</td>\n",
       "      <td>10.0</td>\n",
       "    </tr>\n",
       "    <tr>\n",
       "      <th>16</th>\n",
       "      <td>1</td>\n",
       "      <td>14</td>\n",
       "      <td>10.0</td>\n",
       "    </tr>\n",
       "    <tr>\n",
       "      <th>17</th>\n",
       "      <td>1</td>\n",
       "      <td>14</td>\n",
       "      <td>10.0</td>\n",
       "    </tr>\n",
       "    <tr>\n",
       "      <th>18</th>\n",
       "      <td>1</td>\n",
       "      <td>14</td>\n",
       "      <td>10.0</td>\n",
       "    </tr>\n",
       "    <tr>\n",
       "      <th>19</th>\n",
       "      <td>1</td>\n",
       "      <td>14</td>\n",
       "      <td>10.0</td>\n",
       "    </tr>\n",
       "  </tbody>\n",
       "</table>\n",
       "</div>"
      ],
      "text/plain": [
       "    user_id  item_id  score\n",
       "0         0        0    9.0\n",
       "1         0        1    8.0\n",
       "2         0        2    8.0\n",
       "3         0        3    9.0\n",
       "4         0        4    9.0\n",
       "5         0        5    8.0\n",
       "6         0        6    7.0\n",
       "7         0        7    8.0\n",
       "8         1        8    9.0\n",
       "9         1        9   10.0\n",
       "10        1       10    9.0\n",
       "11        1       11   10.0\n",
       "12        1       12   10.0\n",
       "13        1       13    9.0\n",
       "14        1       14   10.0\n",
       "15        1       15   10.0\n",
       "16        1       14   10.0\n",
       "17        1       14   10.0\n",
       "18        1       14   10.0\n",
       "19        1       14   10.0"
      ]
     },
     "execution_count": 83,
     "metadata": {},
     "output_type": "execute_result"
    }
   ],
   "source": [
    "data"
   ]
  },
  {
   "cell_type": "code",
   "execution_count": 84,
   "metadata": {},
   "outputs": [],
   "source": [
    "train, test = train_test_split(data, test_size=0.25)"
   ]
  },
  {
   "cell_type": "code",
   "execution_count": 85,
   "metadata": {},
   "outputs": [
    {
     "name": "stdout",
     "output_type": "stream",
     "text": [
      "(15, 3) (5, 3)\n"
     ]
    }
   ],
   "source": [
    "print(train.shape, test.shape)"
   ]
  },
  {
   "cell_type": "code",
   "execution_count": 108,
   "metadata": {},
   "outputs": [],
   "source": [
    "class MatrixDecomposition():\n",
    "    def __init__(self, lr, n_epochs, n_factors, lmd):\n",
    "        self.lr = lr #梯度下降法的学习率\n",
    "        self.n_epochs = n_epochs #梯度下降法的迭代次数\n",
    "        self.n_factors = n_factors #分解的矩阵的秩，即影响用户打分的隐藏因子，用户向量和物品向量的维度\n",
    "        self.lmd = lmd #正则化参数\n",
    "    def fit(self, train):\n",
    "        print('Fitting data...')\n",
    "        #随机初始化u和p矩阵\n",
    "        len_train_users = train['user_id'].nunique()\n",
    "        len_train_items = train['item_id'].nunique()\n",
    "        self.users = train['user_id'].unique()\n",
    "        self.items = train['item_id'].unique()\n",
    "        self.train_scores = train['score'].values\n",
    "        u_value = np.random.normal(0, 0.1, (len_train_users, self.n_factors)) #均值为0，方差为0.1，(行数，列数)\n",
    "        p_value = np.random.normal(0, 0.1, (len_train_items, self.n_factors))\n",
    "        u = dict(zip(sorted(self.users), u_value))\n",
    "        p = dict(zip(sorted(self.items), p_value))        \n",
    "        \n",
    "        #梯度下降法\n",
    "        for _ in range(self.n_epochs):\n",
    "            print('Round:', _)\n",
    "            for i, j, score_ij in train.values:\n",
    "                i = int(i)\n",
    "                j = int(j)\n",
    "                #套用上面的梯度下降计算公式\n",
    "                err = score_ij - np.dot(u[i], p[j])\n",
    "                u[i] -= -self.lr * err * p[j] + self.lr * self.lmd * u[i]\n",
    "                p[j] -= -self.lr * err * u[i] + self.lr * self.lmd * p[j]\n",
    "            #计算每轮的误差mse\n",
    "            error = 0\n",
    "            for i, j, score_ij in train.values:\n",
    "                pred_score = np.dot(u[i], p[j])\n",
    "                error = (pred_score - score_ij) ** 2\n",
    "            print('train_error:', error / len(train))\n",
    "        self.u, self.p = u, p\n",
    "        print('End fitting!')\n",
    "    def estimate(self, i, j):\n",
    "        if i in self.users and j in self.items:\n",
    "            return np.dot(self.u[i], self.p[j])\n",
    "        else:\n",
    "            return np.mean(self.train_scores)  #返回训练数据的打分平均值\n"
   ]
  },
  {
   "cell_type": "code",
   "execution_count": 109,
   "metadata": {},
   "outputs": [
    {
     "name": "stdout",
     "output_type": "stream",
     "text": [
      "Fitting data...\n",
      "Round: 0\n",
      "train_error: 6.686679083874237\n",
      "Round: 1\n",
      "train_error: 6.688432772274144\n",
      "Round: 2\n",
      "train_error: 6.690490162880588\n",
      "Round: 3\n",
      "train_error: 6.692321831614551\n",
      "Round: 4\n",
      "train_error: 6.693138644133296\n",
      "Round: 5\n",
      "train_error: 6.6916951156577\n",
      "Round: 6\n",
      "train_error: 6.686009402655358\n",
      "Round: 7\n",
      "train_error: 6.67296621704104\n",
      "Round: 8\n",
      "train_error: 6.6477768369349075\n",
      "Round: 9\n",
      "train_error: 6.60330853014129\n",
      "Round: 10\n",
      "train_error: 6.529400590335553\n",
      "Round: 11\n",
      "train_error: 6.412504063224415\n",
      "Round: 12\n",
      "train_error: 6.236325896465087\n",
      "Round: 13\n",
      "train_error: 5.984442891393699\n",
      "Round: 14\n",
      "train_error: 5.645497670319372\n",
      "Round: 15\n",
      "train_error: 5.2198403235027575\n",
      "Round: 16\n",
      "train_error: 4.723796349643274\n",
      "Round: 17\n",
      "train_error: 4.187221295763323\n",
      "Round: 18\n",
      "train_error: 3.6444170784847985\n",
      "Round: 19\n",
      "train_error: 3.1241933897313388\n",
      "Round: 20\n",
      "train_error: 2.6448947770879134\n",
      "Round: 21\n",
      "train_error: 2.2150699090823065\n",
      "Round: 22\n",
      "train_error: 1.8367409388821518\n",
      "Round: 23\n",
      "train_error: 1.5084795251270364\n",
      "Round: 24\n",
      "train_error: 1.2272917057872212\n",
      "Round: 25\n",
      "train_error: 0.9894883136150016\n",
      "Round: 26\n",
      "train_error: 0.7910112104779993\n",
      "Round: 27\n",
      "train_error: 0.627568572279395\n",
      "Round: 28\n",
      "train_error: 0.49475089480884754\n",
      "Round: 29\n",
      "train_error: 0.388173855036509\n",
      "Round: 30\n",
      "train_error: 0.30363421241825006\n",
      "Round: 31\n",
      "train_error: 0.2372493611508567\n",
      "Round: 32\n",
      "train_error: 0.1855579406558196\n",
      "Round: 33\n",
      "train_error: 0.14557261889929998\n",
      "Round: 34\n",
      "train_error: 0.11478820897569571\n",
      "Round: 35\n",
      "train_error: 0.09115540938023536\n",
      "Round: 36\n",
      "train_error: 0.07303271336233355\n",
      "Round: 37\n",
      "train_error: 0.05912792592193639\n",
      "Round: 38\n",
      "train_error: 0.048437985976393684\n",
      "Round: 39\n",
      "train_error: 0.040192729668597355\n",
      "Round: 40\n",
      "train_error: 0.03380559581596765\n",
      "Round: 41\n",
      "train_error: 0.028832347713189956\n",
      "Round: 42\n",
      "train_error: 0.024937660107274207\n",
      "Round: 43\n",
      "train_error: 0.02186875650696817\n",
      "Round: 44\n",
      "train_error: 0.01943500927912287\n",
      "Round: 45\n",
      "train_error: 0.017492382994310274\n",
      "Round: 46\n",
      "train_error: 0.015931698322872865\n",
      "Round: 47\n",
      "train_error: 0.014669845437516505\n",
      "Round: 48\n",
      "train_error: 0.013643238403014374\n",
      "Round: 49\n",
      "train_error: 0.0128029524439563\n",
      "Round: 50\n",
      "train_error: 0.012111114516367287\n",
      "Round: 51\n",
      "train_error: 0.01153822208013105\n",
      "Round: 52\n",
      "train_error: 0.011061147040717265\n",
      "Round: 53\n",
      "train_error: 0.010661644768702998\n",
      "Round: 54\n",
      "train_error: 0.010325235540824321\n",
      "Round: 55\n",
      "train_error: 0.010040361047883082\n",
      "Round: 56\n",
      "train_error: 0.009797744650250066\n",
      "Round: 57\n",
      "train_error: 0.009589903143878338\n",
      "Round: 58\n",
      "train_error: 0.009410771730043356\n",
      "Round: 59\n",
      "train_error: 0.009255414029807396\n",
      "Round: 60\n",
      "train_error: 0.00911979637239835\n",
      "Round: 61\n",
      "train_error: 0.009000610970004473\n",
      "Round: 62\n",
      "train_error: 0.00889513652163417\n",
      "Round: 63\n",
      "train_error: 0.008801127666506887\n",
      "Round: 64\n",
      "train_error: 0.008716726822855356\n",
      "Round: 65\n",
      "train_error: 0.008640393510239501\n",
      "Round: 66\n",
      "train_error: 0.008570847413266514\n",
      "Round: 67\n",
      "train_error: 0.008507022310676564\n",
      "Round: 68\n",
      "train_error: 0.008448028644505811\n",
      "Round: 69\n",
      "train_error: 0.008393122996214903\n",
      "Round: 70\n",
      "train_error: 0.008341683111410054\n",
      "Round: 71\n",
      "train_error: 0.008293187402035915\n",
      "Round: 72\n",
      "train_error: 0.008247198076598716\n",
      "Round: 73\n",
      "train_error: 0.008203347221175465\n",
      "Round: 74\n",
      "train_error: 0.008161325288579794\n",
      "Round: 75\n",
      "train_error: 0.008120871558928268\n",
      "Round: 76\n",
      "train_error: 0.00808176621860208\n",
      "Round: 77\n",
      "train_error: 0.008043823771200064\n",
      "Round: 78\n",
      "train_error: 0.008006887547313662\n",
      "Round: 79\n",
      "train_error: 0.007970825122697757\n",
      "Round: 80\n",
      "train_error: 0.007935524488875995\n",
      "Round: 81\n",
      "train_error: 0.007900890848116312\n",
      "Round: 82\n",
      "train_error: 0.007866843927372972\n",
      "Round: 83\n",
      "train_error: 0.007833315724257522\n",
      "Round: 84\n",
      "train_error: 0.007800248613190739\n",
      "Round: 85\n",
      "train_error: 0.007767593752251036\n",
      "Round: 86\n",
      "train_error: 0.007735309741392068\n",
      "Round: 87\n",
      "train_error: 0.007703361491058537\n",
      "Round: 88\n",
      "train_error: 0.007671719267121512\n",
      "Round: 89\n",
      "train_error: 0.007640357883753384\n",
      "Round: 90\n",
      "train_error: 0.007609256020569959\n",
      "Round: 91\n",
      "train_error: 0.007578395644278947\n",
      "Round: 92\n",
      "train_error: 0.007547761518310916\n",
      "Round: 93\n",
      "train_error: 0.00751734078660888\n",
      "Round: 94\n",
      "train_error: 0.007487122619989156\n",
      "Round: 95\n",
      "train_error: 0.007457097915358735\n",
      "Round: 96\n",
      "train_error: 0.007427259039631529\n",
      "Round: 97\n",
      "train_error: 0.007397599611484528\n",
      "Round: 98\n",
      "train_error: 0.007368114315186194\n",
      "Round: 99\n",
      "train_error: 0.007338798741636496\n",
      "End fitting!\n"
     ]
    }
   ],
   "source": [
    "algo = MatrixDecomposition(0.005, 100, 3, 0.2)\n",
    "algo.fit(train)"
   ]
  },
  {
   "cell_type": "code",
   "execution_count": 110,
   "metadata": {},
   "outputs": [
    {
     "name": "stdout",
     "output_type": "stream",
     "text": [
      "{0: array([-0.49013096,  0.7253354 ,  3.84417913]), 1: array([ 1.80577376,  1.47375112, -3.10494444])}\n",
      "{0: array([-0.3874915 ,  0.2975015 ,  2.16270361]), 1: array([-0.25798899,  0.39343715,  1.90585049]), 2: array([-0.14546386,  0.4416525 ,  1.91258043]), 3: array([-0.36671139,  0.3749567 ,  2.14808294]), 4: array([-0.10810608,  0.35944011,  2.18499754]), 7: array([-0.28335907,  0.45634565,  1.89347671]), 8: array([ 1.03752673,  0.8277211 , -1.80343724]), 9: array([ 1.10587084,  0.93231241, -2.02814095]), 10: array([ 1.05646818,  0.68653602, -1.85911325]), 12: array([ 1.14123404,  1.15143614, -1.89780977]), 13: array([ 1.20960729,  0.84918809, -1.69337897]), 14: array([ 1.11602184,  0.93567402, -2.06841065])}\n"
     ]
    }
   ],
   "source": [
    "print(algo.u)\n",
    "print(algo.p)"
   ]
  },
  {
   "cell_type": "code",
   "execution_count": 111,
   "metadata": {},
   "outputs": [
    {
     "name": "stdout",
     "output_type": "stream",
     "text": [
      "9.816533732556527\n",
      "9.2\n",
      "9.2\n",
      "9.2\n",
      "9.2\n"
     ]
    },
    {
     "name": "stderr",
     "output_type": "stream",
     "text": [
      "/home/guoyuhao/.local/lib/python3.6/site-packages/ipykernel_launcher.py:2: SettingWithCopyWarning: \n",
      "A value is trying to be set on a copy of a slice from a DataFrame.\n",
      "Try using .loc[row_indexer,col_indexer] = value instead\n",
      "\n",
      "See the caveats in the documentation: https://pandas.pydata.org/pandas-docs/stable/user_guide/indexing.html#returning-a-view-versus-a-copy\n",
      "  \n",
      "/data/guoyuhao/anaconda3/lib/python3.6/site-packages/pandas/core/indexing.py:1763: SettingWithCopyWarning: \n",
      "A value is trying to be set on a copy of a slice from a DataFrame.\n",
      "Try using .loc[row_indexer,col_indexer] = value instead\n",
      "\n",
      "See the caveats in the documentation: https://pandas.pydata.org/pandas-docs/stable/user_guide/indexing.html#returning-a-view-versus-a-copy\n",
      "  isetter(loc, value)\n",
      "/data/guoyuhao/anaconda3/lib/python3.6/site-packages/pandas/core/indexing.py:1763: SettingWithCopyWarning: \n",
      "A value is trying to be set on a copy of a slice from a DataFrame.\n",
      "Try using .loc[row_indexer,col_indexer] = value instead\n",
      "\n",
      "See the caveats in the documentation: https://pandas.pydata.org/pandas-docs/stable/user_guide/indexing.html#returning-a-view-versus-a-copy\n",
      "  isetter(loc, value)\n",
      "/data/guoyuhao/anaconda3/lib/python3.6/site-packages/pandas/core/indexing.py:1763: SettingWithCopyWarning: \n",
      "A value is trying to be set on a copy of a slice from a DataFrame.\n",
      "Try using .loc[row_indexer,col_indexer] = value instead\n",
      "\n",
      "See the caveats in the documentation: https://pandas.pydata.org/pandas-docs/stable/user_guide/indexing.html#returning-a-view-versus-a-copy\n",
      "  isetter(loc, value)\n",
      "/data/guoyuhao/anaconda3/lib/python3.6/site-packages/pandas/core/indexing.py:1763: SettingWithCopyWarning: \n",
      "A value is trying to be set on a copy of a slice from a DataFrame.\n",
      "Try using .loc[row_indexer,col_indexer] = value instead\n",
      "\n",
      "See the caveats in the documentation: https://pandas.pydata.org/pandas-docs/stable/user_guide/indexing.html#returning-a-view-versus-a-copy\n",
      "  isetter(loc, value)\n",
      "/data/guoyuhao/anaconda3/lib/python3.6/site-packages/pandas/core/indexing.py:1763: SettingWithCopyWarning: \n",
      "A value is trying to be set on a copy of a slice from a DataFrame.\n",
      "Try using .loc[row_indexer,col_indexer] = value instead\n",
      "\n",
      "See the caveats in the documentation: https://pandas.pydata.org/pandas-docs/stable/user_guide/indexing.html#returning-a-view-versus-a-copy\n",
      "  isetter(loc, value)\n"
     ]
    }
   ],
   "source": [
    "#预测test的打分\n",
    "test['pred_score'] = 0.0\n",
    "for i, j, tm, tm1 in test.values:\n",
    "    i = int(i)\n",
    "    j = int(j)\n",
    "    pred_score = algo.estimate(i, j)\n",
    "    print(pred_score)\n",
    "    test.loc[(test['user_id']==i) & (test['item_id']==j), 'pred_score'] = pred_score"
   ]
  },
  {
   "cell_type": "code",
   "execution_count": 112,
   "metadata": {},
   "outputs": [
    {
     "data": {
      "text/html": [
       "<div>\n",
       "<style scoped>\n",
       "    .dataframe tbody tr th:only-of-type {\n",
       "        vertical-align: middle;\n",
       "    }\n",
       "\n",
       "    .dataframe tbody tr th {\n",
       "        vertical-align: top;\n",
       "    }\n",
       "\n",
       "    .dataframe thead th {\n",
       "        text-align: right;\n",
       "    }\n",
       "</style>\n",
       "<table border=\"1\" class=\"dataframe\">\n",
       "  <thead>\n",
       "    <tr style=\"text-align: right;\">\n",
       "      <th></th>\n",
       "      <th>user_id</th>\n",
       "      <th>item_id</th>\n",
       "      <th>score</th>\n",
       "      <th>pred_score</th>\n",
       "    </tr>\n",
       "  </thead>\n",
       "  <tbody>\n",
       "    <tr>\n",
       "      <th>19</th>\n",
       "      <td>1</td>\n",
       "      <td>14</td>\n",
       "      <td>10.0</td>\n",
       "      <td>9.816534</td>\n",
       "    </tr>\n",
       "    <tr>\n",
       "      <th>15</th>\n",
       "      <td>1</td>\n",
       "      <td>15</td>\n",
       "      <td>10.0</td>\n",
       "      <td>9.200000</td>\n",
       "    </tr>\n",
       "    <tr>\n",
       "      <th>6</th>\n",
       "      <td>0</td>\n",
       "      <td>6</td>\n",
       "      <td>7.0</td>\n",
       "      <td>9.200000</td>\n",
       "    </tr>\n",
       "    <tr>\n",
       "      <th>5</th>\n",
       "      <td>0</td>\n",
       "      <td>5</td>\n",
       "      <td>8.0</td>\n",
       "      <td>9.200000</td>\n",
       "    </tr>\n",
       "    <tr>\n",
       "      <th>11</th>\n",
       "      <td>1</td>\n",
       "      <td>11</td>\n",
       "      <td>10.0</td>\n",
       "      <td>9.200000</td>\n",
       "    </tr>\n",
       "  </tbody>\n",
       "</table>\n",
       "</div>"
      ],
      "text/plain": [
       "    user_id  item_id  score  pred_score\n",
       "19        1       14   10.0    9.816534\n",
       "15        1       15   10.0    9.200000\n",
       "6         0        6    7.0    9.200000\n",
       "5         0        5    8.0    9.200000\n",
       "11        1       11   10.0    9.200000"
      ]
     },
     "execution_count": 112,
     "metadata": {},
     "output_type": "execute_result"
    }
   ],
   "source": [
    "test"
   ]
  },
  {
   "cell_type": "code",
   "execution_count": 103,
   "metadata": {},
   "outputs": [
    {
     "data": {
      "text/plain": [
       "1.5187447547634745"
      ]
     },
     "execution_count": 103,
     "metadata": {},
     "output_type": "execute_result"
    }
   ],
   "source": [
    "#计算测试集的mse误差\n",
    "test_mse = mean_squared_error(test['score'], test['pred_score'])\n",
    "test_mse"
   ]
  },
  {
   "cell_type": "code",
   "execution_count": 54,
   "metadata": {},
   "outputs": [
    {
     "data": {
      "text/plain": [
       "1"
      ]
     },
     "execution_count": 54,
     "metadata": {},
     "output_type": "execute_result"
    }
   ],
   "source": [
    "np.dot(np.array([1,0,1]), np.array(np.array([0,0,1])))"
   ]
  },
  {
   "cell_type": "code",
   "execution_count": null,
   "metadata": {},
   "outputs": [],
   "source": []
  }
 ],
 "metadata": {
  "kernelspec": {
   "display_name": "Python 3",
   "language": "python",
   "name": "python3"
  },
  "language_info": {
   "codemirror_mode": {
    "name": "ipython",
    "version": 3
   },
   "file_extension": ".py",
   "mimetype": "text/x-python",
   "name": "python",
   "nbconvert_exporter": "python",
   "pygments_lexer": "ipython3",
   "version": "3.7.0"
  }
 },
 "nbformat": 4,
 "nbformat_minor": 4
}
