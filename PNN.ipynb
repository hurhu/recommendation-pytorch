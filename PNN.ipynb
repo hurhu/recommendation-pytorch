{
 "cells": [
  {
   "cell_type": "code",
   "execution_count": 3,
   "metadata": {},
   "outputs": [],
   "source": [
    "import torch\n",
    "import numpy as np\n",
    "import pandas as pd\n",
    "from sklearn.preprocessing import MinMaxScaler, LabelEncoder\n",
    "from sklearn.model_selection import train_test_split\n",
    "\n",
    "from torch.utils.data import DataLoader, Dataset, TensorDataset\n",
    "import torch.nn as nn\n",
    "import torch.nn.functional as F\n",
    "import torch.optim as optim\n",
    "from sklearn.metrics import roc_auc_score\n",
    "import datetime\n",
    "import warnings\n",
    "warnings.filterwarnings('ignore')"
   ]
  },
  {
   "cell_type": "markdown",
   "metadata": {},
   "source": [
    "## 构造数据"
   ]
  },
  {
   "cell_type": "code",
   "execution_count": 78,
   "metadata": {},
   "outputs": [
    {
     "name": "stdout",
     "output_type": "stream",
     "text": [
      "(1439, 40) (160, 40) (400, 40)\n",
      "torch.Size([16, 39]) tensor([0., 0., 0., 0., 1., 0., 0., 1., 0., 1., 0., 0., 0., 0., 0., 0.])\n"
     ]
    }
   ],
   "source": [
    "data = pd.read_csv('train.txt')\n",
    "train_set, test_set = train_test_split(data, test_size=0.2, random_state=2020)\n",
    "\n",
    "train_label = train_set['label']\n",
    "del train_set['label']\n",
    "test_label = test_set['label']\n",
    "del test_set['label']\n",
    "data_df = pd.concat((train_set, test_set))\n",
    "\n",
    "sparse_feas = [col for col in data_df.columns if col[0] == 'C']\n",
    "dense_feas = [col for col in data_df.columns if col[0] == 'I']\n",
    "\n",
    "data_df[sparse_feas] = data_df[sparse_feas].fillna('-1')\n",
    "data_df[dense_feas] = data_df[dense_feas].fillna(0)\n",
    "\n",
    "for feat in sparse_feas:\n",
    "    le = LabelEncoder()\n",
    "    data_df[feat] = le.fit_transform(data_df[feat])\n",
    "\n",
    "mms = MinMaxScaler()\n",
    "data_df[dense_feas] = mms.fit_transform(data_df[dense_feas])\n",
    "\n",
    "train = data_df[:train_set.shape[0]]\n",
    "test = data_df[train_set.shape[0]:]\n",
    "\n",
    "train['label'] = train_label\n",
    "test['label'] = test_label\n",
    "\n",
    "train_set, val_set = train_test_split(train, test_size=0.1, random_state=2020)\n",
    "\n",
    "train_set.reset_index(drop=True, inplace=True)\n",
    "val_set.reset_index(drop=True, inplace=True)\n",
    "test.reset_index(drop=True, inplace=True)\n",
    "print(train_set.shape, val_set.shape, test.shape)\n",
    "#这里需要把特征分成数值型和离散型，因为后面的模型里面离散型的特征需要embedding，而数值型的特征直接进入stacking层\n",
    "data_df = pd.concat((train_set, val_set, test))\n",
    "dense_feas = ['I'+str(i) for i in range(1,14)]\n",
    "sparse_feas = ['C'+str(i) for i in range(1, 27)]\n",
    "#定义一个稀疏特征的embedding映射，字段{key:value},key表示每个稀疏特征，value表示数据集data_df对应列的不同取值格数，作为embedding输入维度\n",
    "sparse_feas_map = {}\n",
    "for key in sparse_feas:\n",
    "    sparse_feas_map[key] = data_df[key].nunique()\n",
    "\n",
    "#把特征信息进行封装，建立模型的时候作为参数传入\n",
    "feature_info = [dense_feas, sparse_feas, sparse_feas_map]\n",
    "\n",
    "#把数据构建成数据管道\n",
    "dl_train_dataset = TensorDataset(torch.tensor(train_set.drop(columns='label').values).float(), torch.tensor(train_set['label']).float())\n",
    "dl_val_dataset = TensorDataset(torch.tensor(val_set.drop(columns='label').values).float(), torch.tensor(val_set['label']).float())\n",
    "\n",
    "dl_train = DataLoader(dl_train_dataset, shuffle=True, batch_size=16)\n",
    "dl_valid = DataLoader(dl_val_dataset, shuffle=True, batch_size=16)\n",
    "\n",
    "#查看一下数据\n",
    "for b in iter(dl_train):\n",
    "    print(b[0].shape, b[1])\n",
    "    break"
   ]
  },
  {
   "cell_type": "markdown",
   "metadata": {},
   "source": [
    "## 建立模型"
   ]
  },
  {
   "cell_type": "code",
   "execution_count": 32,
   "metadata": {},
   "outputs": [
    {
     "data": {
      "text/plain": [
       "[(256, 128), (128, 64)]"
      ]
     },
     "execution_count": 32,
     "metadata": {},
     "output_type": "execute_result"
    }
   ],
   "source": [
    "#python生成元素对测试，这个可以帮助我们定义一个列表的全连接层\n",
    "a = [256, 128, 64]\n",
    "list(zip(a[:-1], a[1:]))"
   ]
  },
  {
   "cell_type": "code",
   "execution_count": 33,
   "metadata": {},
   "outputs": [],
   "source": [
    "#定义一个全连接层的神经网络\n",
    "class DNN(nn.Module):\n",
    "    def __init__(self, hidden_units, dropout=0.):\n",
    "        \"\"\"\n",
    "        hidden_units:列表，每个元素表示每一层的神经单元个数，比如[256,128,64]，两层网络，第一层神经单元128个，第二层神经单元64个，第一个是输入维度\n",
    "        dropout:失活率\n",
    "        \"\"\"\n",
    "        super(DNN, self).__init__()\n",
    "        #pytorch中线性层只有线性层，不带激活函数。这个要与tf里面的Dense区分开\n",
    "        self.dnn_network = nn.ModuleList([nn.Linear(layer[0], layer[1]) for layer in list(zip(hidden_units[:-1], hidden_units[1:]))])\n",
    "        self.dropout = nn.Dropout(p=dropout)\n",
    "    #前向传播中，需要遍历dnn_network,不要忘了加激活函数\n",
    "    def forward(self, x):\n",
    "        for linear in self.dnn_network:\n",
    "            x = linear(x)\n",
    "            x = F.relu(x)\n",
    "        x = self.dropout(x)\n",
    "        return x"
   ]
  },
  {
   "cell_type": "code",
   "execution_count": 34,
   "metadata": {},
   "outputs": [
    {
     "data": {
      "text/plain": [
       "DNN(\n",
       "  (dnn_network): ModuleList(\n",
       "    (0): Linear(in_features=16, out_features=8, bias=True)\n",
       "    (1): Linear(in_features=8, out_features=4, bias=True)\n",
       "    (2): Linear(in_features=4, out_features=2, bias=True)\n",
       "    (3): Linear(in_features=2, out_features=1, bias=True)\n",
       "  )\n",
       "  (dropout): Dropout(p=0.0)\n",
       ")"
      ]
     },
     "execution_count": 34,
     "metadata": {},
     "output_type": "execute_result"
    }
   ],
   "source": [
    "#测试下全连接的网络\n",
    "hidden_units = [16, 8, 4, 2, 1]\n",
    "dnn = DNN(hidden_units)\n",
    "dnn"
   ]
  },
  {
   "cell_type": "code",
   "execution_count": 39,
   "metadata": {},
   "outputs": [],
   "source": [
    "class ProductLayer(nn.Module):\n",
    "    def __init__(self, mode, embed_dim, field_num, hidden_units):\n",
    "        super(ProductLayer, self).__init__()\n",
    "        self.mode = mode\n",
    "        #product层，由于交叉这里分为两部分，一部分是单独的特征运算，也就是上面结构的z部分，一个是两两交叉，p部分，而p部分还分为了内积交叉和外积交叉\n",
    "        #所以，这里需要自己定义参数张量进行计算\n",
    "        #z部分的w,这里的神经单元个数是hidden_units[0], 上面我们说过，全连接层的第一层神经单元个数是hidden_units[1], 而0层是输入层的神经\n",
    "        #单元个数，正好是product层的输出层\n",
    "        self.w_z = nn.Parameter(torch.rand([field_num, embed_dim, hidden_units[0]]))\n",
    "        \n",
    "        #p部分，分内积和外积两种操作\n",
    "        if mode == 'in':\n",
    "            self.w_p = nn.Parameter(torch.rand([field_num, field_num, hidden_units[0]]))\n",
    "        else:\n",
    "            self.w_p = nn.Parameter(torch.rand([embed_dim, embed_dim, hidden_units[0]]))\n",
    "        self.l_b = torch.rand([hidden_units[0], ], requires_grad=True)\n",
    "    def forward(self, z, sparse_embeds):\n",
    "        #lz部分\n",
    "        l_z = torch.mm(z.reshape(z.shape[0], -1), self.w_z.permute((2, 0, 1)).reshape(self.w_z.shape[2], -1).t())#(None, hidden_units[0])\n",
    "        \n",
    "        #lp部分\n",
    "        if self.mode == 'in':#in模式 内积操作 p就是两两embedding先内积得到的[field_dim, field_dim]的矩阵\n",
    "            p = torch.matmul(sparse_embeds, sparse_embeds.permute((0,2,1))) #[None, field_num, field_num]\n",
    "        else: #外积模式 这里的p矩阵是两两embedding先外积得到n*n个[embed_dim, embed_dim]的矩阵，然后对应位置求和得到最终的1个[embed_dim, embed_dim]的矩阵\n",
    "            #所以这里实现的时候，可以先把sparse_embeds矩阵再field_num方向上先求和，然后再外积\n",
    "            f_sum = torch.unsqueeze(torch.sum(sparse_embeds, dim=1), dim=1) #[None, 1, embed_dim]\n",
    "            p = torch.matmul(f_sum.permute((0,2,1)), f_sum) #[None, embed_dim, embed_dim]\n",
    "        l_p = torch.mm(p.reshape(p.shape[0], -1), self.w_p.permute((2,0,1)).reshape(self.w_p.shape[2], -1).t()) #[None, hidden_units[0]]\n",
    "        output = l_p + l_z + self.l_b\n",
    "        return output"
   ]
  },
  {
   "cell_type": "code",
   "execution_count": 43,
   "metadata": {},
   "outputs": [],
   "source": [
    "#下面我们定义真正的PNN网络\n",
    "#这里的逻辑是底层输入(类别型特征)->embedding层->product层->DNN->输出\n",
    "class PNN(nn.Module):\n",
    "    def __init__(self, feature_info, hidden_units, mode='in', dnn_dropout=0., embed_dim=10, outdim=1):\n",
    "        \"\"\"\n",
    "        feature_info:特征信息(数值特征，类别特征，类别特征embedding映射)\n",
    "        hidden_units:列表，全连接层的每一层神经单元个数，注意，第一层神经单元个数实际上是hidden_units[1], 因为hidden_units[0]是输入层\n",
    "        dnn_dropout:Dropout层的失活比例\n",
    "        embed_dim:embedding的维度m\n",
    "        outdim:网络的输出维度\n",
    "        \"\"\"\n",
    "        super(PNN, self).__init__()\n",
    "        self.dense_feas, self.sparse_feas, self.sparse_feas_map = feature_info\n",
    "        self.field_num = len(self.sparse_feas)\n",
    "        self.dense_num = len(self.dense_feas)\n",
    "        self.mode = mode\n",
    "        self.embed_dim = embed_dim\n",
    "        \n",
    "        #embedding层，这里需要一个列表的形式，因为每个类别特征都需要embedding\n",
    "        self.embed_layers = nn.ModuleDict({\n",
    "            'embed_'+str(key):nn.Embedding(num_embeddings=val, embedding_dim=self.embed_dim) for key, val in self.sparse_feas_map.items()\n",
    "        })\n",
    "        \n",
    "        #Product层\n",
    "        self.product = ProductLayer(mode, embed_dim, self.field_num, hidden_units)\n",
    "        \n",
    "        #dnn层\n",
    "        hidden_units[0] += self.dense_num\n",
    "        self.dnn_network = DNN(hidden_units, dnn_dropout)\n",
    "        self.dense_final = nn.Linear(hidden_units[-1], 1)\n",
    "    def forward(self, x):\n",
    "        dense_inputs, sparse_inputs = x[:,:13], x[:,13:] #数值型和类别型数据分开\n",
    "        sparse_inputs = sparse_inputs.long() #需要转成长张量，这个是embedding的输入要求格式\n",
    "        sparse_embeds = [self.embed_layers['embed_'+key](sparse_inputs[:,i]) for key, i in zip(self.sparse_feas_map.keys(), range(sparse_inputs.shape[1]))]\n",
    "        #上面这个sparse_embeds的维度是[field_num, None, embed_dim]\n",
    "        sparse_embeds = torch.stack(sparse_embeds)\n",
    "        sparse_embeds = sparse_embeds.permute((1, 0, 2)) #[None, field_num, embed_dim] 注意此时空间不连续，下面改变形状不能用view，用reshape\n",
    "        z = sparse_embeds\n",
    "        \n",
    "        #product层\n",
    "        sparse_inputs = self.product(z, sparse_embeds)\n",
    "        \n",
    "        #把上面的连起来，注意此时要加上数值特征\n",
    "        l1 = F.relu(torch.cat([sparse_inputs, dense_inputs], -1))\n",
    "        #dnn_network\n",
    "        dnn_x = self.dnn_network(l1)\n",
    "        \n",
    "        outputs = F.sigmoid(self.dense_final(dnn_x))\n",
    "        return outputs"
   ]
  },
  {
   "cell_type": "code",
   "execution_count": 44,
   "metadata": {},
   "outputs": [
    {
     "data": {
      "text/plain": [
       "PNN(\n",
       "  (embed_layers): ModuleDict(\n",
       "    (embed_C1): Embedding(79, 10)\n",
       "    (embed_C10): Embedding(908, 10)\n",
       "    (embed_C11): Embedding(926, 10)\n",
       "    (embed_C12): Embedding(1239, 10)\n",
       "    (embed_C13): Embedding(824, 10)\n",
       "    (embed_C14): Embedding(20, 10)\n",
       "    (embed_C15): Embedding(819, 10)\n",
       "    (embed_C16): Embedding(1159, 10)\n",
       "    (embed_C17): Embedding(9, 10)\n",
       "    (embed_C18): Embedding(534, 10)\n",
       "    (embed_C19): Embedding(201, 10)\n",
       "    (embed_C2): Embedding(252, 10)\n",
       "    (embed_C20): Embedding(4, 10)\n",
       "    (embed_C21): Embedding(1204, 10)\n",
       "    (embed_C22): Embedding(7, 10)\n",
       "    (embed_C23): Embedding(12, 10)\n",
       "    (embed_C24): Embedding(729, 10)\n",
       "    (embed_C25): Embedding(33, 10)\n",
       "    (embed_C26): Embedding(554, 10)\n",
       "    (embed_C3): Embedding(1293, 10)\n",
       "    (embed_C4): Embedding(1043, 10)\n",
       "    (embed_C5): Embedding(30, 10)\n",
       "    (embed_C6): Embedding(7, 10)\n",
       "    (embed_C7): Embedding(1164, 10)\n",
       "    (embed_C8): Embedding(39, 10)\n",
       "    (embed_C9): Embedding(2, 10)\n",
       "  )\n",
       "  (product): ProductLayer()\n",
       "  (dnn_network): DNN(\n",
       "    (dnn_network): ModuleList(\n",
       "      (0): Linear(in_features=269, out_features=128, bias=True)\n",
       "      (1): Linear(in_features=128, out_features=64, bias=True)\n",
       "    )\n",
       "    (dropout): Dropout(p=0.0)\n",
       "  )\n",
       "  (dense_final): Linear(in_features=64, out_features=1, bias=True)\n",
       ")"
      ]
     },
     "execution_count": 44,
     "metadata": {},
     "output_type": "execute_result"
    }
   ],
   "source": [
    "hidden_units = [256, 128, 64]\n",
    "hidden_units_copy = hidden_units.copy()\n",
    "net = PNN(feature_info, hidden_units, mode='in')\n",
    "net"
   ]
  },
  {
   "cell_type": "code",
   "execution_count": 45,
   "metadata": {},
   "outputs": [
    {
     "name": "stdout",
     "output_type": "stream",
     "text": [
      "torch.Size([16, 39]) torch.Size([16])\n",
      "tensor([[7.4395e-07],\n",
      "        [7.6509e-03],\n",
      "        [4.4846e-04],\n",
      "        [2.1721e-04],\n",
      "        [1.4404e-07],\n",
      "        [1.9756e-05],\n",
      "        [7.2756e-06],\n",
      "        [2.0074e-04],\n",
      "        [2.6625e-05],\n",
      "        [1.6862e-04],\n",
      "        [7.7166e-03],\n",
      "        [2.3469e-03],\n",
      "        [2.0464e-07],\n",
      "        [1.7575e-04],\n",
      "        [5.6376e-05],\n",
      "        [1.7268e-02]], grad_fn=<SigmoidBackward>)\n"
     ]
    }
   ],
   "source": [
    "#测试一下模型，确定模型是可以跑通的\n",
    "for fea, label in iter(dl_train):\n",
    "    print(fea.shape, label.shape)\n",
    "    out = net(fea)\n",
    "    print(out)\n",
    "    break"
   ]
  },
  {
   "cell_type": "markdown",
   "metadata": {},
   "source": [
    "## 模型的训练"
   ]
  },
  {
   "cell_type": "code",
   "execution_count": 46,
   "metadata": {},
   "outputs": [],
   "source": [
    "def auc(y_pred, y_true):\n",
    "    pred = y_pred.data\n",
    "    y = y_true.data\n",
    "    return roc_auc_score(y, pred)\n",
    "loss_func = nn.BCELoss()\n",
    "optimizer = optim.Adam(params=net.parameters(), lr=0.0001)\n",
    "metric_func = auc\n",
    "metric_name = 'auc'"
   ]
  },
  {
   "cell_type": "code",
   "execution_count": 49,
   "metadata": {},
   "outputs": [
    {
     "name": "stdout",
     "output_type": "stream",
     "text": [
      "Start Training...\n",
      "========================================================================2022-08-01 16:31:38\n",
      "[step=10] loss:0.460, auc:0.743\n",
      "[step=20] loss:0.503, auc:0.712\n",
      "[step=30] loss:0.511, auc:0.706\n",
      "[step=40] loss:0.467, auc:0.699\n",
      "[step=50] loss:0.456, auc:0.714\n",
      "[step=60] loss:0.486, auc:0.716\n",
      "[step=70] loss:0.487, auc:0.712\n",
      "[step=80] loss:0.487, auc:0.706\n",
      "[step=90] loss:0.484, auc:0.708\n",
      "\n",
      "EPOCH=1, loss=0.484,auc =0.708, val_loss=0.650. val_auc =0.609\n",
      "\n",
      "========================================================2022-08-01 16:31:40\n",
      "[step=10] loss:0.455, auc:0.705\n",
      "[step=20] loss:0.424, auc:0.782\n",
      "[step=30] loss:0.438, auc:0.768\n",
      "[step=40] loss:0.448, auc:0.771\n",
      "[step=50] loss:0.447, auc:0.779\n",
      "[step=60] loss:0.462, auc:0.767\n",
      "[step=70] loss:0.459, auc:0.764\n",
      "[step=80] loss:0.468, auc:0.758\n",
      "[step=90] loss:0.463, auc:0.768\n",
      "\n",
      "EPOCH=2, loss=0.463,auc =0.768, val_loss=0.763. val_auc =0.597\n",
      "\n",
      "========================================================2022-08-01 16:31:41\n",
      "[step=10] loss:0.505, auc:0.682\n",
      "[step=20] loss:0.484, auc:0.715\n",
      "[step=30] loss:0.463, auc:0.717\n",
      "[step=40] loss:0.436, auc:0.744\n",
      "[step=50] loss:0.436, auc:0.767\n",
      "[step=60] loss:0.435, auc:0.778\n",
      "[step=70] loss:0.433, auc:0.778\n",
      "[step=80] loss:0.431, auc:0.780\n",
      "[step=90] loss:0.443, auc:0.776\n",
      "\n",
      "EPOCH=3, loss=0.443,auc =0.776, val_loss=0.591. val_auc =0.641\n",
      "\n",
      "========================================================2022-08-01 16:31:42\n",
      "[step=10] loss:0.423, auc:0.782\n",
      "[step=20] loss:0.403, auc:0.841\n",
      "[step=30] loss:0.408, auc:0.828\n",
      "[step=40] loss:0.404, auc:0.818\n",
      "[step=50] loss:0.410, auc:0.815\n",
      "[step=60] loss:0.413, auc:0.809\n",
      "[step=70] loss:0.419, auc:0.811\n",
      "[step=80] loss:0.426, auc:0.805\n",
      "[step=90] loss:0.428, auc:0.807\n",
      "\n",
      "EPOCH=4, loss=0.428,auc =0.807, val_loss=0.632. val_auc =0.657\n",
      "\n",
      "========================================================2022-08-01 16:31:43\n",
      "[step=10] loss:0.400, auc:0.838\n",
      "[step=20] loss:0.390, auc:0.852\n",
      "[step=30] loss:0.386, auc:0.826\n",
      "[step=40] loss:0.392, auc:0.827\n",
      "[step=50] loss:0.387, auc:0.823\n",
      "[step=60] loss:0.382, auc:0.829\n",
      "[step=70] loss:0.399, auc:0.831\n",
      "[step=80] loss:0.394, auc:0.826\n",
      "[step=90] loss:0.388, auc:0.834\n",
      "\n",
      "EPOCH=5, loss=0.388,auc =0.834, val_loss=0.596. val_auc =0.655\n",
      "\n",
      "========================================================2022-08-01 16:31:45\n",
      "[step=10] loss:0.263, auc:0.849\n",
      "[step=20] loss:0.334, auc:0.827\n",
      "[step=30] loss:0.352, auc:0.831\n",
      "[step=40] loss:0.385, auc:0.829\n",
      "[step=50] loss:0.387, auc:0.828\n",
      "[step=60] loss:0.385, auc:0.838\n",
      "[step=70] loss:0.388, auc:0.836\n",
      "[step=80] loss:0.394, auc:0.829\n",
      "[step=90] loss:0.393, auc:0.832\n",
      "\n",
      "EPOCH=6, loss=0.393,auc =0.832, val_loss=0.603. val_auc =0.620\n",
      "\n",
      "========================================================2022-08-01 16:31:46\n",
      "Finished Training...\n"
     ]
    }
   ],
   "source": [
    "epochs = 6\n",
    "log_step_freq = 10\n",
    "dfhistory = pd.DataFrame(columns=['epoch', 'loss', metric_name, 'val_loss', 'val_'+metric_name])\n",
    "print('Start Training...')\n",
    "nowtime = datetime.datetime.now().strftime('%Y-%m-%d %H:%M:%S')\n",
    "print('========='*8+'%s'%nowtime)\n",
    "\n",
    "for epoch in range(1, epochs+1):\n",
    "    #训练阶段\n",
    "    net.train()\n",
    "    loss_sum = 0.0\n",
    "    metric_sum = 0.0\n",
    "    step = 1\n",
    "    for step, (features, labels) in enumerate(dl_train, 1):\n",
    "        #梯度清零\n",
    "        optimizer.zero_grad()\n",
    "        #正向传播\n",
    "        predictions = net(features)\n",
    "        loss = loss_func(predictions, labels)\n",
    "        try:    #这里就是如果当前批次里面的y只有一个类别，跳过去\n",
    "            metric = metric_func(predictions, labels)\n",
    "        except ValueError:\n",
    "            pass\n",
    "        #反向传播求梯度\n",
    "        loss.backward()\n",
    "        optimizer.step()\n",
    "        #打印batch级别日志\n",
    "        loss_sum += loss.item()\n",
    "        metric_sum += metric.item()\n",
    "        if step % log_step_freq == 0:\n",
    "            print(('[step=%d] loss:%.3f, '+metric_name+':%.3f') % (step, loss_sum/step, metric_sum/step))\n",
    "    \n",
    "    #验证阶段\n",
    "    net.eval()\n",
    "    val_loss_sum = 0.0\n",
    "    val_metric_sum = 0.0\n",
    "    val_step = 1\n",
    "    for val_step, (features, labels) in enumerate(dl_valid, 1):\n",
    "        with torch.no_grad():\n",
    "            predictions = net(features)\n",
    "            val_loss = loss_func(predictions, labels)\n",
    "            try:\n",
    "                val_metric = metric_func(predictions, labels)\n",
    "            except ValueError:\n",
    "                pass\n",
    "        val_loss_sum += val_loss.item()\n",
    "        val_metric_sum += val_metric.item()\n",
    "    #记录日志\n",
    "    info = (epoch, loss_sum/step, metric_sum/step, val_loss_sum/val_step, val_metric_sum/val_step)\n",
    "    dfhistory.loc[epoch-1] = info\n",
    "    \n",
    "    #打印epoch级别日志\n",
    "    print(('\\nEPOCH=%d, loss=%.3f,' + metric_name + ' =%.3f, val_loss=%.3f. '+'val_'+metric_name+' =%.3f')%info)\n",
    "    nowtime = datetime.datetime.now().strftime('%Y-%m-%d %H:%M:%S')\n",
    "    print('\\n'+'======='*8+'%s'%nowtime)\n",
    "print('Finished Training...')"
   ]
  },
  {
   "cell_type": "code",
   "execution_count": 51,
   "metadata": {},
   "outputs": [
    {
     "data": {
      "image/png": "[encoded data removed]",
      "text/plain": [
       "<Figure size 432x288 with 1 Axes>"
      ]
     },
     "metadata": {
      "needs_background": "light"
     },
     "output_type": "display_data"
    },
    {
     "data": {
      "image/png": "[encoded data removed]",
      "text/plain": [
       "<Figure size 432x288 with 1 Axes>"
      ]
     },
     "metadata": {
      "needs_background": "light"
     },
     "output_type": "display_data"
    }
   ],
   "source": [
    "import matplotlib.pyplot as plt\n",
    "def plot_metric(dfhistory, metric):\n",
    "    train_metrics = dfhistory[metric]\n",
    "    val_metrics = dfhistory['val_'+metric]\n",
    "    epochs = range(1, len(train_metrics) + 1)\n",
    "    plt.plot(epochs, train_metrics, 'bo--')\n",
    "    plt.plot(epochs, val_metrics, 'ro-')\n",
    "    plt.title('Training and validation '+ metric)\n",
    "    plt.xlabel('Epochs')\n",
    "    plt.ylabel(metric)\n",
    "    plt.legend(['train_'+metric, 'val_'+metric])\n",
    "    plt.show()\n",
    "\n",
    "#观察损失和准确率的变化\n",
    "plot_metric(dfhistory, 'loss')\n",
    "plot_metric(dfhistory, 'auc')"
   ]
  },
  {
   "cell_type": "code",
   "execution_count": 77,
   "metadata": {},
   "outputs": [
    {
     "name": "stdout",
     "output_type": "stream",
     "text": [
      "test_auc:0.539, test_acc:0.725\n"
     ]
    }
   ],
   "source": [
    "#预测\n",
    "# test_label = test['label']\n",
    "# del test['label']\n",
    "y_pred_probs = net(torch.tensor(test.values).float())\n",
    "#对于auc传参时 真实标签值必须在前面，第一个参数位置\n",
    "test_auc = roc_auc_score(test_label.values, y_pred_probs.data.numpy())\n",
    "y_pred = torch.where(y_pred_probs>0.5, torch.ones_like(y_pred_probs), torch.zeros_like(y_pred_probs))\n",
    "from sklearn.metrics import accuracy_score\n",
    "test_acc = accuracy_score(test_label.values, y_pred.data.numpy())\n",
    "print('test_auc:%.3f, test_acc:%.3f' % (test_auc, test_acc))"
   ]
  },
  {
   "cell_type": "code",
   "execution_count": null,
   "metadata": {},
   "outputs": [],
   "source": []
  }
 ],
 "metadata": {
  "kernelspec": {
   "display_name": "Python 3",
   "language": "python",
   "name": "python3"
  },
  "language_info": {
   "codemirror_mode": {
    "name": "ipython",
    "version": 3
   },
   "file_extension": ".py",
   "mimetype": "text/x-python",
   "name": "python",
   "nbconvert_exporter": "python",
   "pygments_lexer": "ipython3",
   "version": "3.7.0"
  }
 },
 "nbformat": 4,
 "nbformat_minor": 4
}
