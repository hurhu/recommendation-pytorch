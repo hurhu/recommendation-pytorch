{
 "cells": [
  {
   "cell_type": "code",
   "execution_count": 19,
   "metadata": {},
   "outputs": [],
   "source": [
    "import torch\n",
    "import torch.nn as nn\n",
    "import torch.optim as optim\n",
    "from torch.utils.data import Dataset, DataLoader\n",
    "import torch.nn.functional as F\n",
    "import pandas as pd\n",
    "from sklearn.preprocessing import MinMaxScaler, LabelEncoder\n",
    "import numpy as np\n",
    "from sklearn.metrics import roc_auc_score, accuracy_score\n",
    "from sklearn.model_selection import train_test_split"
   ]
  },
  {
   "cell_type": "markdown",
   "metadata": {},
   "source": [
    "## 构造数据"
   ]
  },
  {
   "cell_type": "code",
   "execution_count": 10,
   "metadata": {},
   "outputs": [
    {
     "name": "stdout",
     "output_type": "stream",
     "text": [
      "(1599, 40) (1599,) (400, 40) (400,)\n",
      "            I1        I2        I3        I4        I5        I6        I7  \\\n",
      "1427  0.000000  0.003814  0.000118  0.022989  0.001697  0.012290  0.000603   \n",
      "1648  0.178947  0.000254  0.001301  0.114943  0.000111  0.004528  0.010253   \n",
      "307   0.000000  0.000127  0.000236  0.000000  0.040571  0.000000  0.000000   \n",
      "1979  0.021053  0.002288  0.000118  0.022989  0.000007  0.000431  0.001206   \n",
      "651   0.000000  0.184973  0.000946  0.034483  0.007000  0.034066  0.001206   \n",
      "\n",
      "            I8        I9   I10  ...  C18  C19  C20   C21  C22  C23  C24  C25  \\\n",
      "1427  0.018282  0.021111  0.00  ...  309   23    3  1062    0    0  531    4   \n",
      "1648  0.018282  0.002838  0.25  ...  174   23    2   911    0    3  655    1   \n",
      "307   0.000000  0.018272  0.00  ...    2   23    3   472    0    0   67   27   \n",
      "1979  0.001828  0.000355  0.25  ...  331    0    0   883    0    0  647    0   \n",
      "651   0.023766  0.021820  0.00  ...  404  148    3  1182    0    1  175   18   \n",
      "\n",
      "      C26  label  \n",
      "1427  538    0.0  \n",
      "1648  436    0.0  \n",
      "307   330    1.0  \n",
      "1979    0    0.0  \n",
      "651   150    0.0  \n",
      "\n",
      "[5 rows x 40 columns]\n"
     ]
    },
    {
     "name": "stderr",
     "output_type": "stream",
     "text": [
      "/home/guoyuhao/.local/lib/python3.6/site-packages/ipykernel_launcher.py:24: SettingWithCopyWarning: \n",
      "A value is trying to be set on a copy of a slice from a DataFrame.\n",
      "Try using .loc[row_indexer,col_indexer] = value instead\n",
      "\n",
      "See the caveats in the documentation: https://pandas.pydata.org/pandas-docs/stable/user_guide/indexing.html#returning-a-view-versus-a-copy\n",
      "/home/guoyuhao/.local/lib/python3.6/site-packages/ipykernel_launcher.py:25: SettingWithCopyWarning: \n",
      "A value is trying to be set on a copy of a slice from a DataFrame.\n",
      "Try using .loc[row_indexer,col_indexer] = value instead\n",
      "\n",
      "See the caveats in the documentation: https://pandas.pydata.org/pandas-docs/stable/user_guide/indexing.html#returning-a-view-versus-a-copy\n"
     ]
    }
   ],
   "source": [
    "data = pd.read_csv('train.txt')\n",
    "columns = data.columns.tolist()\n",
    "categorical_features = [col for col in columns if 'C' in col]\n",
    "numeric_features = [col for col in columns if col not in categorical_features]\n",
    "numeric_features.remove('label')\n",
    "data[categorical_features] = data[categorical_features].fillna('-1')\n",
    "data[numeric_features] = data[numeric_features].fillna(0.0)\n",
    "\n",
    "le = LabelEncoder()\n",
    "for fea in categorical_features:\n",
    "    data[fea] = le.fit_transform(data[fea])\n",
    "scaler = MinMaxScaler()\n",
    "data[numeric_features] = scaler.fit_transform(data[numeric_features])\n",
    "\n",
    "sparse_map = {}\n",
    "for fea in categorical_features:\n",
    "    sparse_map[fea] = data[fea].nunique()\n",
    "\n",
    "feature_info = [numeric_features, categorical_features, sparse_map]\n",
    "data_X = data.drop('label', axis=1)\n",
    "data_y = data['label'].astype(np.float64)\n",
    "\n",
    "trains, tests, y_train, y_test = train_test_split(data_X, data_y, test_size=0.2)\n",
    "trains['label'] = y_train\n",
    "tests['label'] = y_test\n",
    "\n",
    "print(trains.shape, y_train.shape, tests.shape, y_test.shape)\n",
    "print(trains.head())"
   ]
  },
  {
   "cell_type": "code",
   "execution_count": 11,
   "metadata": {},
   "outputs": [
    {
     "name": "stdout",
     "output_type": "stream",
     "text": [
      "tensor([0., 0., 1., 0., 0., 1., 0., 1., 0., 0.], dtype=torch.float64)\n",
      "torch.Size([10, 39])\n"
     ]
    }
   ],
   "source": [
    "device = torch.device('cuda:1' if torch.cuda.is_available() else 'cpu')\n",
    "batch_size = 10\n",
    "num_workers = 4\n",
    "lr = 1e-4\n",
    "epochs = 20\n",
    "class MyDataset(Dataset):\n",
    "    def __init__(self, df):\n",
    "        self.df = df\n",
    "        cols = df.columns.tolist()\n",
    "        cols.remove('label')\n",
    "        self.X = df.loc[:, cols].values\n",
    "        self.y = df.loc[:, 'label'].values\n",
    "    def __len__(self):\n",
    "        return len(self.X)\n",
    "    def __getitem__(self, idx):\n",
    "        data_x = self.X[idx]\n",
    "        data_y = self.y[idx]\n",
    "        return data_x, data_y\n",
    "\n",
    "train_data = MyDataset(trains)\n",
    "test_data = MyDataset(tests)\n",
    "\n",
    "train_loader = DataLoader(train_data, batch_size=batch_size, shuffle=True, num_workers=num_workers)\n",
    "test_loader = DataLoader(test_data, batch_size=batch_size, shuffle=False, num_workers=num_workers)\n",
    "\n",
    "iter_x, iter_y = next(iter(train_loader))\n",
    "print(iter_y)\n",
    "print(iter_x.shape)"
   ]
  },
  {
   "cell_type": "markdown",
   "metadata": {},
   "source": [
    "## 搭建模型"
   ]
  },
  {
   "cell_type": "markdown",
   "metadata": {},
   "source": [
    "### 定义残差块"
   ]
  },
  {
   "cell_type": "code",
   "execution_count": 99,
   "metadata": {},
   "outputs": [],
   "source": [
    "class Residual_block(nn.Module):\n",
    "    def __init__(self, hidden_unit, dim_stack):\n",
    "        super(Residual_block, self).__init__()\n",
    "        self.linear1 = nn.Linear(dim_stack, hidden_unit)\n",
    "        self.linear2 = nn.Linear(hidden_unit, dim_stack)\n",
    "        self.relu = nn.ReLU()\n",
    "    def forward(self, x):\n",
    "        orig_x = x.clone()\n",
    "        x = self.linear1(x)\n",
    "        x = self.linear2(x)\n",
    "        output = self.relu(x + orig_x)\n",
    "        return output"
   ]
  },
  {
   "cell_type": "markdown",
   "metadata": {},
   "source": [
    "### 定义DeepCrossing模型"
   ]
  },
  {
   "cell_type": "code",
   "execution_count": 100,
   "metadata": {},
   "outputs": [],
   "source": [
    "class DeepCrossing(nn.Module):\n",
    "    def __init__(self, feature_info,  hidden_units, dropout=0., embed_dim=10, output_dim=1):\n",
    "        #feature_info:特征信息(数值特征，类别特征，类别特征embedding映射)\n",
    "        #hidden_unit 残差网络中的隐藏层神经元数量\n",
    "        #embed_dim embedding维度\n",
    "        #dropout:dropout层的失活比例\n",
    "        super(DeepCrossing, self).__init__()\n",
    "        self.dense_feas, self.sparse_feas, self.sparse_map = feature_info\n",
    "        \n",
    "        #embedding层，这里需要一个列表的形式，因为每个类别特征都需要embedding\n",
    "        self.embed_layers = nn.ModuleDict({\n",
    "            'embed_' + str(key):nn.Embedding(num_embeddings=val, embedding_dim=embed_dim) for key, val in self.sparse_map.items()\n",
    "        })\n",
    "        \n",
    "        #统计embedding层的输出维度\n",
    "        embed_dim_sum = sum([embed_dim] * len(self.sparse_feas))\n",
    "        \n",
    "        #stack layers的总维度\n",
    "        dim_stack = len(self.dense_feas) + embed_dim_sum\n",
    "        \n",
    "        #残差层，可能会有多层\n",
    "        self.res_layers = nn.ModuleList([\n",
    "            Residual_block(unit, dim_stack) for unit in hidden_units\n",
    "        ])\n",
    "\n",
    "        #dropout层\n",
    "        self.res_dropout = nn.Dropout(dropout)\n",
    "        \n",
    "        #线性层\n",
    "        self.linear = nn.Linear(dim_stack, output_dim)\n",
    "    def forward(self, x):\n",
    "        dense_inputs, sparse_inputs = x[:, :13], x[:, 13:]\n",
    "        sparse_inputs = sparse_inputs.long()  #需要转成长张量，这个是embedding的输入格式要求\n",
    "        sparse_embeds = [self.embed_layers['embed_'+key](sparse_inputs[:, i]) for key, i in zip(self.sparse_map.keys(), range(sparse_inputs.shape[1]))]\n",
    "        sparse_embed = torch.cat(sparse_embeds, dim=-1)\n",
    "        \n",
    "        stack = torch.cat([sparse_embed, dense_inputs], dim=-1)\n",
    "        r = stack\n",
    "        for res in self.res_layers:\n",
    "            r = res(r)\n",
    "        r = self.res_dropout(r)\n",
    "        outputs = F.sigmoid(self.linear(r))\n",
    "        outputs = outputs.squeeze(-1)\n",
    "        return outputs"
   ]
  },
  {
   "cell_type": "code",
   "execution_count": 94,
   "metadata": {},
   "outputs": [
    {
     "data": {
      "text/plain": [
       "DeepCrossing(\n",
       "  (embed_layers): ModuleDict(\n",
       "    (embed_C1): Embedding(79, 10)\n",
       "    (embed_C10): Embedding(908, 10)\n",
       "    (embed_C11): Embedding(926, 10)\n",
       "    (embed_C12): Embedding(1239, 10)\n",
       "    (embed_C13): Embedding(824, 10)\n",
       "    (embed_C14): Embedding(20, 10)\n",
       "    (embed_C15): Embedding(819, 10)\n",
       "    (embed_C16): Embedding(1159, 10)\n",
       "    (embed_C17): Embedding(9, 10)\n",
       "    (embed_C18): Embedding(534, 10)\n",
       "    (embed_C19): Embedding(201, 10)\n",
       "    (embed_C2): Embedding(252, 10)\n",
       "    (embed_C20): Embedding(4, 10)\n",
       "    (embed_C21): Embedding(1204, 10)\n",
       "    (embed_C22): Embedding(7, 10)\n",
       "    (embed_C23): Embedding(12, 10)\n",
       "    (embed_C24): Embedding(729, 10)\n",
       "    (embed_C25): Embedding(33, 10)\n",
       "    (embed_C26): Embedding(554, 10)\n",
       "    (embed_C3): Embedding(1293, 10)\n",
       "    (embed_C4): Embedding(1043, 10)\n",
       "    (embed_C5): Embedding(30, 10)\n",
       "    (embed_C6): Embedding(7, 10)\n",
       "    (embed_C7): Embedding(1164, 10)\n",
       "    (embed_C8): Embedding(39, 10)\n",
       "    (embed_C9): Embedding(2, 10)\n",
       "  )\n",
       "  (res_layers): ModuleList(\n",
       "    (0): Residual_block(\n",
       "      (linear1): Linear(in_features=273, out_features=256, bias=True)\n",
       "      (linear2): Linear(in_features=256, out_features=273, bias=True)\n",
       "      (relu): ReLU()\n",
       "    )\n",
       "    (1): Residual_block(\n",
       "      (linear1): Linear(in_features=273, out_features=128, bias=True)\n",
       "      (linear2): Linear(in_features=128, out_features=273, bias=True)\n",
       "      (relu): ReLU()\n",
       "    )\n",
       "    (2): Residual_block(\n",
       "      (linear1): Linear(in_features=273, out_features=64, bias=True)\n",
       "      (linear2): Linear(in_features=64, out_features=273, bias=True)\n",
       "      (relu): ReLU()\n",
       "    )\n",
       "    (3): Residual_block(\n",
       "      (linear1): Linear(in_features=273, out_features=32, bias=True)\n",
       "      (linear2): Linear(in_features=32, out_features=273, bias=True)\n",
       "      (relu): ReLU()\n",
       "    )\n",
       "  )\n",
       "  (res_dropout): Dropout(p=0.0)\n",
       "  (linear): Linear(in_features=273, out_features=1, bias=True)\n",
       ")"
      ]
     },
     "execution_count": 94,
     "metadata": {},
     "output_type": "execute_result"
    }
   ],
   "source": [
    "hidden_units = [256, 128, 64, 32]\n",
    "net = DeepCrossing(feature_info, hidden_units)\n",
    "net"
   ]
  },
  {
   "cell_type": "markdown",
   "metadata": {},
   "source": [
    "## 训练和评估模型"
   ]
  },
  {
   "cell_type": "code",
   "execution_count": 108,
   "metadata": {},
   "outputs": [],
   "source": [
    "def train(epoch):\n",
    "    #训练模型并输出测试集每一轮的loss\n",
    "    criterion = nn.BCELoss(reduction='mean')\n",
    "    for t, (batch_x, batch_y) in enumerate(train_loader):\n",
    "        batch_x = batch_x.float().to(device)\n",
    "        batch_y = batch_y.float().to(device)\n",
    "        total = net.forward(batch_x)\n",
    "        loss = criterion(total, batch_y)\n",
    "        optimizer.zero_grad()\n",
    "        loss.backward()\n",
    "        optimizer.step()\n",
    "    r = test()\n",
    "    print('Epoch %d, loss=%.4f' % (epoch, r))\n",
    "def test():\n",
    "    #测试集测试\n",
    "    criterion = nn.BCELoss(reduction='mean')\n",
    "    all_loss = 0\n",
    "    gt_labels = []\n",
    "    pred_labels = []\n",
    "    i = 0\n",
    "    with torch.no_grad():\n",
    "        for t, (batch_x, batch_y) in enumerate(test_loader):\n",
    "            batch_x = batch_x.float().to(device)\n",
    "            batch_y = batch_y.float().to(device)\n",
    "            pred = net.forward(batch_x)\n",
    "            gt_label = batch_y.cpu().data.numpy()\n",
    "            pred_proba = pred.cpu().data.numpy()\n",
    "            gt_labels.append(gt_label)\n",
    "            pred_labels.append(pred_proba)\n",
    "            loss = criterion(pred, batch_y)\n",
    "            all_loss += loss.item()\n",
    "            i += 1\n",
    "        gt_labels, pred_labels = np.concatenate(gt_labels), np.concatenate(pred_labels)\n",
    "        pred_labels = pred_labels.reshape(-1)\n",
    "        auc = roc_auc_score(gt_labels, pred_labels)\n",
    "        print('auc:', auc, 'gt_labels:', gt_labels.shape, 'pred_labels:', pred_labels.shape)\n",
    "    return all_loss / i\n",
    "def predict(x):\n",
    "    with torch.no_grad():\n",
    "        x = torch.from_numpy(x)\n",
    "        x = x.float().to(device)\n",
    "        out1 = net.forward(x)\n",
    "        out = out1.cpu().data.numpy()\n",
    "        out[out>=0.5] = 1.0\n",
    "        out[out<0.5] = 0.0\n",
    "        return out"
   ]
  },
  {
   "cell_type": "code",
   "execution_count": 105,
   "metadata": {},
   "outputs": [
    {
     "name": "stderr",
     "output_type": "stream",
     "text": [
      "/data1/guoyuhao/anaconda3/lib/python3.6/site-packages/torch/nn/functional.py:1386: UserWarning: nn.functional.sigmoid is deprecated. Use torch.sigmoid instead.\n",
      "  warnings.warn(\"nn.functional.sigmoid is deprecated. Use torch.sigmoid instead.\")\n"
     ]
    },
    {
     "name": "stdout",
     "output_type": "stream",
     "text": [
      "auc: 0.6140201451636794 gt_labels: (400,) pred_labels: (400,)\n",
      "Epoch 0, loss=2.4239\n"
     ]
    },
    {
     "name": "stderr",
     "output_type": "stream",
     "text": [
      "/data1/guoyuhao/anaconda3/lib/python3.6/site-packages/torch/nn/functional.py:1386: UserWarning: nn.functional.sigmoid is deprecated. Use torch.sigmoid instead.\n",
      "  warnings.warn(\"nn.functional.sigmoid is deprecated. Use torch.sigmoid instead.\")\n"
     ]
    },
    {
     "name": "stdout",
     "output_type": "stream",
     "text": [
      "auc: 0.6069100873944601 gt_labels: (400,) pred_labels: (400,)\n",
      "Epoch 1, loss=2.5303\n"
     ]
    },
    {
     "name": "stderr",
     "output_type": "stream",
     "text": [
      "/data1/guoyuhao/anaconda3/lib/python3.6/site-packages/torch/nn/functional.py:1386: UserWarning: nn.functional.sigmoid is deprecated. Use torch.sigmoid instead.\n",
      "  warnings.warn(\"nn.functional.sigmoid is deprecated. Use torch.sigmoid instead.\")\n"
     ]
    },
    {
     "name": "stdout",
     "output_type": "stream",
     "text": [
      "auc: 0.6168345430306621 gt_labels: (400,) pred_labels: (400,)\n",
      "Epoch 2, loss=2.4241\n"
     ]
    },
    {
     "name": "stderr",
     "output_type": "stream",
     "text": [
      "/data1/guoyuhao/anaconda3/lib/python3.6/site-packages/torch/nn/functional.py:1386: UserWarning: nn.functional.sigmoid is deprecated. Use torch.sigmoid instead.\n",
      "  warnings.warn(\"nn.functional.sigmoid is deprecated. Use torch.sigmoid instead.\")\n"
     ]
    },
    {
     "name": "stdout",
     "output_type": "stream",
     "text": [
      "auc: 0.6205747296696786 gt_labels: (400,) pred_labels: (400,)\n",
      "Epoch 3, loss=2.0746\n"
     ]
    },
    {
     "name": "stderr",
     "output_type": "stream",
     "text": [
      "/data1/guoyuhao/anaconda3/lib/python3.6/site-packages/torch/nn/functional.py:1386: UserWarning: nn.functional.sigmoid is deprecated. Use torch.sigmoid instead.\n",
      "  warnings.warn(\"nn.functional.sigmoid is deprecated. Use torch.sigmoid instead.\")\n"
     ]
    },
    {
     "name": "stdout",
     "output_type": "stream",
     "text": [
      "auc: 0.619982224855577 gt_labels: (400,) pred_labels: (400,)\n",
      "Epoch 4, loss=2.1385\n"
     ]
    },
    {
     "name": "stderr",
     "output_type": "stream",
     "text": [
      "/data1/guoyuhao/anaconda3/lib/python3.6/site-packages/torch/nn/functional.py:1386: UserWarning: nn.functional.sigmoid is deprecated. Use torch.sigmoid instead.\n",
      "  warnings.warn(\"nn.functional.sigmoid is deprecated. Use torch.sigmoid instead.\")\n"
     ]
    },
    {
     "name": "stdout",
     "output_type": "stream",
     "text": [
      "auc: 0.6209820767293734 gt_labels: (400,) pred_labels: (400,)\n",
      "Epoch 5, loss=2.1779\n"
     ]
    },
    {
     "name": "stderr",
     "output_type": "stream",
     "text": [
      "/data1/guoyuhao/anaconda3/lib/python3.6/site-packages/torch/nn/functional.py:1386: UserWarning: nn.functional.sigmoid is deprecated. Use torch.sigmoid instead.\n",
      "  warnings.warn(\"nn.functional.sigmoid is deprecated. Use torch.sigmoid instead.\")\n"
     ]
    },
    {
     "name": "stdout",
     "output_type": "stream",
     "text": [
      "auc: 0.6213894237890683 gt_labels: (400,) pred_labels: (400,)\n",
      "Epoch 6, loss=2.2163\n"
     ]
    },
    {
     "name": "stderr",
     "output_type": "stream",
     "text": [
      "/data1/guoyuhao/anaconda3/lib/python3.6/site-packages/torch/nn/functional.py:1386: UserWarning: nn.functional.sigmoid is deprecated. Use torch.sigmoid instead.\n",
      "  warnings.warn(\"nn.functional.sigmoid is deprecated. Use torch.sigmoid instead.\")\n"
     ]
    },
    {
     "name": "stdout",
     "output_type": "stream",
     "text": [
      "auc: 0.6215005184417124 gt_labels: (400,) pred_labels: (400,)\n",
      "Epoch 7, loss=2.2516\n"
     ]
    },
    {
     "name": "stderr",
     "output_type": "stream",
     "text": [
      "/data1/guoyuhao/anaconda3/lib/python3.6/site-packages/torch/nn/functional.py:1386: UserWarning: nn.functional.sigmoid is deprecated. Use torch.sigmoid instead.\n",
      "  warnings.warn(\"nn.functional.sigmoid is deprecated. Use torch.sigmoid instead.\")\n"
     ]
    },
    {
     "name": "stdout",
     "output_type": "stream",
     "text": [
      "auc: 0.621574581543475 gt_labels: (400,) pred_labels: (400,)\n",
      "Epoch 8, loss=2.2841\n"
     ]
    },
    {
     "name": "stderr",
     "output_type": "stream",
     "text": [
      "/data1/guoyuhao/anaconda3/lib/python3.6/site-packages/torch/nn/functional.py:1386: UserWarning: nn.functional.sigmoid is deprecated. Use torch.sigmoid instead.\n",
      "  warnings.warn(\"nn.functional.sigmoid is deprecated. Use torch.sigmoid instead.\")\n"
     ]
    },
    {
     "name": "stdout",
     "output_type": "stream",
     "text": [
      "auc: 0.6216486446452377 gt_labels: (400,) pred_labels: (400,)\n",
      "Epoch 9, loss=2.3173\n"
     ]
    },
    {
     "name": "stderr",
     "output_type": "stream",
     "text": [
      "/data1/guoyuhao/anaconda3/lib/python3.6/site-packages/torch/nn/functional.py:1386: UserWarning: nn.functional.sigmoid is deprecated. Use torch.sigmoid instead.\n",
      "  warnings.warn(\"nn.functional.sigmoid is deprecated. Use torch.sigmoid instead.\")\n"
     ]
    },
    {
     "name": "stdout",
     "output_type": "stream",
     "text": [
      "auc: 0.6217227077470004 gt_labels: (400,) pred_labels: (400,)\n",
      "Epoch 10, loss=2.3476\n"
     ]
    },
    {
     "name": "stderr",
     "output_type": "stream",
     "text": [
      "/data1/guoyuhao/anaconda3/lib/python3.6/site-packages/torch/nn/functional.py:1386: UserWarning: nn.functional.sigmoid is deprecated. Use torch.sigmoid instead.\n",
      "  warnings.warn(\"nn.functional.sigmoid is deprecated. Use torch.sigmoid instead.\")\n"
     ]
    },
    {
     "name": "stdout",
     "output_type": "stream",
     "text": [
      "auc: 0.6213894237890684 gt_labels: (400,) pred_labels: (400,)\n",
      "Epoch 11, loss=2.3781\n"
     ]
    },
    {
     "name": "stderr",
     "output_type": "stream",
     "text": [
      "/data1/guoyuhao/anaconda3/lib/python3.6/site-packages/torch/nn/functional.py:1386: UserWarning: nn.functional.sigmoid is deprecated. Use torch.sigmoid instead.\n",
      "  warnings.warn(\"nn.functional.sigmoid is deprecated. Use torch.sigmoid instead.\")\n"
     ]
    },
    {
     "name": "stdout",
     "output_type": "stream",
     "text": [
      "auc: 0.6214264553399497 gt_labels: (400,) pred_labels: (400,)\n",
      "Epoch 12, loss=2.4066\n"
     ]
    },
    {
     "name": "stderr",
     "output_type": "stream",
     "text": [
      "/data1/guoyuhao/anaconda3/lib/python3.6/site-packages/torch/nn/functional.py:1386: UserWarning: nn.functional.sigmoid is deprecated. Use torch.sigmoid instead.\n",
      "  warnings.warn(\"nn.functional.sigmoid is deprecated. Use torch.sigmoid instead.\")\n"
     ]
    },
    {
     "name": "stdout",
     "output_type": "stream",
     "text": [
      "auc: 0.621352392238187 gt_labels: (400,) pred_labels: (400,)\n",
      "Epoch 13, loss=2.4351\n"
     ]
    },
    {
     "name": "stderr",
     "output_type": "stream",
     "text": [
      "/data1/guoyuhao/anaconda3/lib/python3.6/site-packages/torch/nn/functional.py:1386: UserWarning: nn.functional.sigmoid is deprecated. Use torch.sigmoid instead.\n",
      "  warnings.warn(\"nn.functional.sigmoid is deprecated. Use torch.sigmoid instead.\")\n"
     ]
    },
    {
     "name": "stdout",
     "output_type": "stream",
     "text": [
      "auc: 0.6213894237890683 gt_labels: (400,) pred_labels: (400,)\n",
      "Epoch 14, loss=2.4620\n"
     ]
    },
    {
     "name": "stderr",
     "output_type": "stream",
     "text": [
      "/data1/guoyuhao/anaconda3/lib/python3.6/site-packages/torch/nn/functional.py:1386: UserWarning: nn.functional.sigmoid is deprecated. Use torch.sigmoid instead.\n",
      "  warnings.warn(\"nn.functional.sigmoid is deprecated. Use torch.sigmoid instead.\")\n"
     ]
    },
    {
     "name": "stdout",
     "output_type": "stream",
     "text": [
      "auc: 0.621463486890831 gt_labels: (400,) pred_labels: (400,)\n",
      "Epoch 15, loss=2.4886\n"
     ]
    },
    {
     "name": "stderr",
     "output_type": "stream",
     "text": [
      "/data1/guoyuhao/anaconda3/lib/python3.6/site-packages/torch/nn/functional.py:1386: UserWarning: nn.functional.sigmoid is deprecated. Use torch.sigmoid instead.\n",
      "  warnings.warn(\"nn.functional.sigmoid is deprecated. Use torch.sigmoid instead.\")\n"
     ]
    },
    {
     "name": "stdout",
     "output_type": "stream",
     "text": [
      "auc: 0.6211672344837802 gt_labels: (400,) pred_labels: (400,)\n",
      "Epoch 16, loss=2.5151\n"
     ]
    },
    {
     "name": "stderr",
     "output_type": "stream",
     "text": [
      "/data1/guoyuhao/anaconda3/lib/python3.6/site-packages/torch/nn/functional.py:1386: UserWarning: nn.functional.sigmoid is deprecated. Use torch.sigmoid instead.\n",
      "  warnings.warn(\"nn.functional.sigmoid is deprecated. Use torch.sigmoid instead.\")\n"
     ]
    },
    {
     "name": "stdout",
     "output_type": "stream",
     "text": [
      "auc: 0.6211302029328988 gt_labels: (400,) pred_labels: (400,)\n",
      "Epoch 17, loss=2.5408\n"
     ]
    },
    {
     "name": "stderr",
     "output_type": "stream",
     "text": [
      "/data1/guoyuhao/anaconda3/lib/python3.6/site-packages/torch/nn/functional.py:1386: UserWarning: nn.functional.sigmoid is deprecated. Use torch.sigmoid instead.\n",
      "  warnings.warn(\"nn.functional.sigmoid is deprecated. Use torch.sigmoid instead.\")\n"
     ]
    },
    {
     "name": "stdout",
     "output_type": "stream",
     "text": [
      "auc: 0.6212042660346616 gt_labels: (400,) pred_labels: (400,)\n",
      "Epoch 18, loss=2.5667\n"
     ]
    },
    {
     "name": "stderr",
     "output_type": "stream",
     "text": [
      "/data1/guoyuhao/anaconda3/lib/python3.6/site-packages/torch/nn/functional.py:1386: UserWarning: nn.functional.sigmoid is deprecated. Use torch.sigmoid instead.\n",
      "  warnings.warn(\"nn.functional.sigmoid is deprecated. Use torch.sigmoid instead.\")\n"
     ]
    },
    {
     "name": "stdout",
     "output_type": "stream",
     "text": [
      "auc: 0.621296844911865 gt_labels: (400,) pred_labels: (400,)\n",
      "Epoch 19, loss=2.5911\n"
     ]
    }
   ],
   "source": [
    "net.to(device)\n",
    "optimizer = optim.Adam(net.parameters(), lr=lr, weight_decay=0.0)\n",
    "for epoch in range(epochs):\n",
    "    train(epoch)"
   ]
  },
  {
   "cell_type": "code",
   "execution_count": 109,
   "metadata": {},
   "outputs": [
    {
     "name": "stdout",
     "output_type": "stream",
     "text": [
      "accuracy: 0.7225\n"
     ]
    },
    {
     "name": "stderr",
     "output_type": "stream",
     "text": [
      "/data1/guoyuhao/anaconda3/lib/python3.6/site-packages/torch/nn/functional.py:1386: UserWarning: nn.functional.sigmoid is deprecated. Use torch.sigmoid instead.\n",
      "  warnings.warn(\"nn.functional.sigmoid is deprecated. Use torch.sigmoid instead.\")\n"
     ]
    }
   ],
   "source": [
    "#训练好的模型预测测试集\n",
    "test_x = tests.drop('label', axis=1).values\n",
    "test_pred = predict(test_x)\n",
    "test_label = tests['label'].values\n",
    "acc = accuracy_score(test_pred, test_label)\n",
    "print('accuracy:',acc)"
   ]
  },
  {
   "cell_type": "code",
   "execution_count": null,
   "metadata": {},
   "outputs": [],
   "source": []
  }
 ],
 "metadata": {
  "kernelspec": {
   "display_name": "Python 3",
   "language": "python",
   "name": "python3"
  },
  "language_info": {
   "codemirror_mode": {
    "name": "ipython",
    "version": 3
   },
   "file_extension": ".py",
   "mimetype": "text/x-python",
   "name": "python",
   "nbconvert_exporter": "python",
   "pygments_lexer": "ipython3",
   "version": "3.7.0"
  }
 },
 "nbformat": 4,
 "nbformat_minor": 4
}
