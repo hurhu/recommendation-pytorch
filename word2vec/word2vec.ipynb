{
 "cells": [
  {
   "cell_type": "code",
   "execution_count": 1,
   "metadata": {},
   "outputs": [],
   "source": [
    "import jieba\n",
    "import jieba.analyse"
   ]
  },
  {
   "cell_type": "code",
   "execution_count": 2,
   "metadata": {},
   "outputs": [
    {
     "name": "stderr",
     "output_type": "stream",
     "text": [
      "Building prefix dict from the default dictionary ...\n",
      "Dumping model to file cache /tmp/jieba.cache\n",
      "Loading model cost 1.012 seconds.\n",
      "Prefix dict has been built successfully.\n"
     ]
    },
    {
     "data": {
      "text/plain": [
       "1"
      ]
     },
     "execution_count": 2,
     "metadata": {},
     "output_type": "execute_result"
    }
   ],
   "source": [
    "jieba.suggest_freq('沙瑞金', True)\n",
    "jieba.suggest_freq('田国富', True)\n",
    "jieba.suggest_freq('高育良', True)\n",
    "jieba.suggest_freq('侯亮平', True)\n",
    "jieba.suggest_freq('钟小艾', True)\n",
    "jieba.suggest_freq('陈岩石', True)\n",
    "jieba.suggest_freq('欧阳菁', True)\n",
    "jieba.suggest_freq('易学习', True)\n",
    "jieba.suggest_freq('王大路', True)\n",
    "jieba.suggest_freq('蔡成功', True)\n",
    "jieba.suggest_freq('孙连城', True)\n",
    "jieba.suggest_freq('季昌明', True)\n",
    "jieba.suggest_freq('丁义诊', True)\n",
    "jieba.suggest_freq('郑西坡', True)\n",
    "jieba.suggest_freq('赵东来', True)\n",
    "jieba.suggest_freq('高小琴', True)\n",
    "jieba.suggest_freq('赵瑞龙', True)\n",
    "jieba.suggest_freq('林华华', True)\n",
    "jieba.suggest_freq('陆亦可', True)\n",
    "jieba.suggest_freq('刘新建', True)\n",
    "jieba.suggest_freq('刘庆祝', True)"
   ]
  },
  {
   "cell_type": "code",
   "execution_count": 7,
   "metadata": {},
   "outputs": [
    {
     "name": "stdout",
     "output_type": "stream",
     "text": [
      "<class 'str'>\n"
     ]
    }
   ],
   "source": [
    "with open('./in_the_name_of_people.txt') as f:\n",
    "    document = f.read()\n",
    "    document_cut = jieba.cut(document)\n",
    "    result = ' '.join(document_cut)\n",
    "#     result = result.encode('utf-8')\n",
    "    print(type(result))\n",
    "    with open('./in_the_name_of_people_segment.txt', 'w', encoding=\"utf-8\") as f2:\n",
    "        f2.write(result)\n",
    "f.close()\n",
    "f2.close()"
   ]
  },
  {
   "cell_type": "code",
   "execution_count": 8,
   "metadata": {},
   "outputs": [
    {
     "name": "stderr",
     "output_type": "stream",
     "text": [
      "2022-08-23 10:57:51,857:WARNING:consider setting layer size to a multiple of 4 for greater performance\n",
      "2022-08-23 10:57:51,859:INFO:collecting all words and their counts\n",
      "2022-08-23 10:57:51,860:INFO:PROGRESS: at sentence #0, processed 0 words, keeping 0 word types\n",
      "2022-08-23 10:57:51,939:INFO:collected 17909 word types from a corpus of 161345 raw words and 2311 sentences\n",
      "2022-08-23 10:57:51,940:INFO:Loading a fresh vocabulary\n",
      "2022-08-23 10:57:52,008:INFO:effective_min_count=1 retains 17909 unique words (100% of original 17909, drops 0)\n",
      "2022-08-23 10:57:52,009:INFO:effective_min_count=1 leaves 161345 word corpus (100% of original 161345, drops 0)\n",
      "2022-08-23 10:57:52,066:INFO:deleting the raw counts dictionary of 17909 items\n",
      "2022-08-23 10:57:52,068:INFO:sample=0.001 downsamples 38 most-common words\n",
      "2022-08-23 10:57:52,069:INFO:downsampling leaves estimated 120581 word corpus (74.7% of prior 161345)\n",
      "2022-08-23 10:57:52,081:INFO:constructing a huffman tree from 17909 words\n",
      "2022-08-23 10:57:52,587:INFO:built huffman tree with maximum node depth 17\n",
      "2022-08-23 10:57:52,649:INFO:estimated required memory for 17909 words and 50 dimensions: 23281700 bytes\n",
      "2022-08-23 10:57:52,650:INFO:resetting layer weights\n",
      "2022-08-23 10:57:56,888:INFO:training model with 3 workers on 17909 vocabulary and 50 features, using sg=0 hs=1 sample=0.001 negative=5 window=3\n",
      "2022-08-23 10:57:57,224:INFO:worker thread finished; awaiting finish of 2 more threads\n",
      "2022-08-23 10:57:57,237:INFO:worker thread finished; awaiting finish of 1 more threads\n",
      "2022-08-23 10:57:57,244:INFO:worker thread finished; awaiting finish of 0 more threads\n",
      "2022-08-23 10:57:57,245:INFO:EPOCH - 1 : training on 161345 raw words (120769 effective words) took 0.3s, 370288 effective words/s\n",
      "2022-08-23 10:57:57,508:INFO:worker thread finished; awaiting finish of 2 more threads\n",
      "2022-08-23 10:57:57,515:INFO:worker thread finished; awaiting finish of 1 more threads\n",
      "2022-08-23 10:57:57,521:INFO:worker thread finished; awaiting finish of 0 more threads\n",
      "2022-08-23 10:57:57,522:INFO:EPOCH - 2 : training on 161345 raw words (120397 effective words) took 0.3s, 438891 effective words/s\n",
      "2022-08-23 10:57:57,710:INFO:worker thread finished; awaiting finish of 2 more threads\n",
      "2022-08-23 10:57:57,716:INFO:worker thread finished; awaiting finish of 1 more threads\n",
      "2022-08-23 10:57:57,725:INFO:worker thread finished; awaiting finish of 0 more threads\n",
      "2022-08-23 10:57:57,725:INFO:EPOCH - 3 : training on 161345 raw words (120532 effective words) took 0.2s, 596295 effective words/s\n",
      "2022-08-23 10:57:57,921:INFO:worker thread finished; awaiting finish of 2 more threads\n",
      "2022-08-23 10:57:57,923:INFO:worker thread finished; awaiting finish of 1 more threads\n",
      "2022-08-23 10:57:57,929:INFO:worker thread finished; awaiting finish of 0 more threads\n",
      "2022-08-23 10:57:57,930:INFO:EPOCH - 4 : training on 161345 raw words (120628 effective words) took 0.2s, 594966 effective words/s\n",
      "2022-08-23 10:57:58,127:INFO:worker thread finished; awaiting finish of 2 more threads\n",
      "2022-08-23 10:57:58,129:INFO:worker thread finished; awaiting finish of 1 more threads\n",
      "2022-08-23 10:57:58,134:INFO:worker thread finished; awaiting finish of 0 more threads\n",
      "2022-08-23 10:57:58,134:INFO:EPOCH - 5 : training on 161345 raw words (120484 effective words) took 0.2s, 597725 effective words/s\n",
      "2022-08-23 10:57:58,135:INFO:training on a 806725 raw words (602810 effective words) took 1.2s, 484430 effective words/s\n"
     ]
    }
   ],
   "source": [
    "import logging\n",
    "import os\n",
    "from gensim.models import word2vec\n",
    "\n",
    "logging.basicConfig(format='%(asctime)s:%(levelname)s:%(message)s', level=logging.INFO)\n",
    "sentences = word2vec.LineSentence('./in_the_name_of_people_segment.txt')\n",
    "model = word2vec.Word2Vec(sentences, hs=1, min_count=1, window=3, size=50)"
   ]
  },
  {
   "cell_type": "code",
   "execution_count": 12,
   "metadata": {},
   "outputs": [
    {
     "name": "stdout",
     "output_type": "stream",
     "text": [
      "[ 0.6621488  -1.1149225  -0.11694497  0.02234062  0.42441866 -0.09725267\n",
      "  0.4819392  -0.7902301  -0.45728472 -0.82467204  1.0630845   1.0519795\n",
      "  1.0941498  -0.3898728   2.069208    1.0043895  -0.30748424  0.02002987\n",
      " -0.8718013  -0.5912618   0.26955327 -0.96660894 -0.2984004  -1.321293\n",
      "  0.5591378  -0.18979725 -0.6657408  -0.3759716  -0.02216974 -0.01666509\n",
      "  0.62174916  0.26634827 -0.24235299 -0.5939171   0.01583285 -0.37952688\n",
      " -0.73073894 -0.15891269  0.0778012  -0.97717744  0.73111737  0.6350482\n",
      " -0.28800723  0.33400854 -0.02505377 -1.261184    0.40887886 -1.037023\n",
      "  0.84892595 -0.31440634]\n"
     ]
    }
   ],
   "source": [
    "#输出沙瑞金的词向量,wv中保存了所有词的词向量\n",
    "print(model.wv['沙瑞金'])"
   ]
  },
  {
   "cell_type": "code",
   "execution_count": 14,
   "metadata": {},
   "outputs": [
    {
     "name": "stderr",
     "output_type": "stream",
     "text": [
      "2022-08-23 11:09:35,288:INFO:precomputing L2-norms of word weight vectors\n"
     ]
    },
    {
     "name": "stdout",
     "output_type": "stream",
     "text": [
      "高育良 0.9597758054733276\n",
      "季昌明 0.9257538318634033\n",
      "田国富 0.9236945509910583\n",
      "易学习 0.9210533499717712\n",
      "李达康 0.9131230711936951\n"
     ]
    }
   ],
   "source": [
    "#找出某一个词向量最相近的词集合，可以看下沙瑞金最相近的一些3个字的词，取出前5个\n",
    "req_count = 5\n",
    "for key in model.wv.similar_by_word('沙瑞金', topn=100):\n",
    "    if len(key[0]) == 3:\n",
    "        req_count -= 1\n",
    "        print(key[0], key[1])\n",
    "        if req_count == 0:\n",
    "            break"
   ]
  },
  {
   "cell_type": "code",
   "execution_count": 16,
   "metadata": {},
   "outputs": [
    {
     "name": "stdout",
     "output_type": "stream",
     "text": [
      "0.95977575\n",
      "0.9301737\n"
     ]
    }
   ],
   "source": [
    "#看两个词向量的相近程度，如下书中两组人的相似程度\n",
    "print(model.wv.similarity('沙瑞金', '高育良'))\n",
    "print(model.wv.similarity('李达康', '王大路'))"
   ]
  },
  {
   "cell_type": "code",
   "execution_count": 17,
   "metadata": {},
   "outputs": [
    {
     "name": "stdout",
     "output_type": "stream",
     "text": [
      "刘庆祝\n"
     ]
    },
    {
     "name": "stderr",
     "output_type": "stream",
     "text": [
      "/data1/guoyuhao/anaconda3/lib/python3.6/site-packages/gensim/models/keyedvectors.py:877: FutureWarning: arrays to stack must be passed as a \"sequence\" type such as list or tuple. Support for non-sequence iterables such as generators is deprecated as of NumPy 1.16 and will raise an error in the future.\n",
      "  vectors = vstack(self.word_vec(word, use_norm=True) for word in used_words).astype(REAL)\n"
     ]
    }
   ],
   "source": [
    "#找出不同类的词，比如下面的人物分类题\n",
    "print(model.wv.doesnt_match(u\"沙瑞金 高育良 李达康 刘庆祝\".split()))"
   ]
  },
  {
   "cell_type": "code",
   "execution_count": null,
   "metadata": {},
   "outputs": [],
   "source": []
  }
 ],
 "metadata": {
  "kernelspec": {
   "display_name": "Python 3.6.10 64-bit ('anaconda3': virtualenv)",
   "language": "python",
   "name": "python3610jvsc74a57bd06b1511be9513fc759ecfb232ab57c7974d575220b70bfe4e49edc0a0cfa638a0"
  },
  "language_info": {
   "codemirror_mode": {
    "name": "ipython",
    "version": 3
   },
   "file_extension": ".py",
   "mimetype": "text/x-python",
   "name": "python",
   "nbconvert_exporter": "python",
   "pygments_lexer": "ipython3",
   "version": "3.6.10"
  }
 },
 "nbformat": 4,
 "nbformat_minor": 4
}
