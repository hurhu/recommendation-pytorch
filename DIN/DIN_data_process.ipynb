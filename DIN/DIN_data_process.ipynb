{
 "cells": [
  {
   "cell_type": "code",
   "execution_count": 1,
   "metadata": {},
   "outputs": [],
   "source": [
    "import numpy as np\n",
    "import pandas as pd\n",
    "import pickle\n",
    "import gc\n",
    "import random\n",
    "from tqdm import tqdm\n",
    "\n",
    "random.seed(2020)"
   ]
  },
  {
   "cell_type": "code",
   "execution_count": 2,
   "metadata": {},
   "outputs": [],
   "source": [
    "def to_df(file_path):\n",
    "    with open(file_path, 'r') as fin:\n",
    "        df = {}\n",
    "        i = 0\n",
    "        for line in tqdm(fin):\n",
    "            df[i] = eval(line)\n",
    "            i += 1\n",
    "            \n",
    "            if i > 1000000:\n",
    "                break\n",
    "        df = pd.DataFrame.from_dict(df, orient='index')\n",
    "        return df"
   ]
  },
  {
   "cell_type": "code",
   "execution_count": 3,
   "metadata": {},
   "outputs": [
    {
     "name": "stderr",
     "output_type": "stream",
     "text": [
      "1000000it [01:30, 11026.40it/s]\n"
     ]
    }
   ],
   "source": [
    "review_df = to_df('./Electronics_5.json')"
   ]
  },
  {
   "cell_type": "code",
   "execution_count": 4,
   "metadata": {},
   "outputs": [
    {
     "data": {
      "text/html": [
       "<div>\n",
       "<style scoped>\n",
       "    .dataframe tbody tr th:only-of-type {\n",
       "        vertical-align: middle;\n",
       "    }\n",
       "\n",
       "    .dataframe tbody tr th {\n",
       "        vertical-align: top;\n",
       "    }\n",
       "\n",
       "    .dataframe thead th {\n",
       "        text-align: right;\n",
       "    }\n",
       "</style>\n",
       "<table border=\"1\" class=\"dataframe\">\n",
       "  <thead>\n",
       "    <tr style=\"text-align: right;\">\n",
       "      <th></th>\n",
       "      <th>reviewerID</th>\n",
       "      <th>asin</th>\n",
       "      <th>reviewerName</th>\n",
       "      <th>helpful</th>\n",
       "      <th>reviewText</th>\n",
       "      <th>overall</th>\n",
       "      <th>summary</th>\n",
       "      <th>unixReviewTime</th>\n",
       "      <th>reviewTime</th>\n",
       "    </tr>\n",
       "  </thead>\n",
       "  <tbody>\n",
       "    <tr>\n",
       "      <th>0</th>\n",
       "      <td>AO94DHGC771SJ</td>\n",
       "      <td>0528881469</td>\n",
       "      <td>amazdnu</td>\n",
       "      <td>[0, 0]</td>\n",
       "      <td>We got this GPS for my husband who is an (OTR)...</td>\n",
       "      <td>5.0</td>\n",
       "      <td>Gotta have GPS!</td>\n",
       "      <td>1370131200</td>\n",
       "      <td>06 2, 2013</td>\n",
       "    </tr>\n",
       "    <tr>\n",
       "      <th>1</th>\n",
       "      <td>AMO214LNFCEI4</td>\n",
       "      <td>0528881469</td>\n",
       "      <td>Amazon Customer</td>\n",
       "      <td>[12, 15]</td>\n",
       "      <td>I'm a professional OTR truck driver, and I bou...</td>\n",
       "      <td>1.0</td>\n",
       "      <td>Very Disappointed</td>\n",
       "      <td>1290643200</td>\n",
       "      <td>11 25, 2010</td>\n",
       "    </tr>\n",
       "    <tr>\n",
       "      <th>2</th>\n",
       "      <td>A3N7T0DY83Y4IG</td>\n",
       "      <td>0528881469</td>\n",
       "      <td>C. A. Freeman</td>\n",
       "      <td>[43, 45]</td>\n",
       "      <td>Well, what can I say.  I've had this unit in m...</td>\n",
       "      <td>3.0</td>\n",
       "      <td>1st impression</td>\n",
       "      <td>1283990400</td>\n",
       "      <td>09 9, 2010</td>\n",
       "    </tr>\n",
       "    <tr>\n",
       "      <th>3</th>\n",
       "      <td>A1H8PY3QHMQQA0</td>\n",
       "      <td>0528881469</td>\n",
       "      <td>Dave M. Shaw \"mack dave\"</td>\n",
       "      <td>[9, 10]</td>\n",
       "      <td>Not going to write a long review, even thought...</td>\n",
       "      <td>2.0</td>\n",
       "      <td>Great grafics, POOR GPS</td>\n",
       "      <td>1290556800</td>\n",
       "      <td>11 24, 2010</td>\n",
       "    </tr>\n",
       "    <tr>\n",
       "      <th>4</th>\n",
       "      <td>A24EV6RXELQZ63</td>\n",
       "      <td>0528881469</td>\n",
       "      <td>Wayne Smith</td>\n",
       "      <td>[0, 0]</td>\n",
       "      <td>I've had mine for a year and here's what we go...</td>\n",
       "      <td>1.0</td>\n",
       "      <td>Major issues, only excuses for support</td>\n",
       "      <td>1317254400</td>\n",
       "      <td>09 29, 2011</td>\n",
       "    </tr>\n",
       "  </tbody>\n",
       "</table>\n",
       "</div>"
      ],
      "text/plain": [
       "       reviewerID        asin              reviewerName   helpful  \\\n",
       "0   AO94DHGC771SJ  0528881469                   amazdnu    [0, 0]   \n",
       "1   AMO214LNFCEI4  0528881469           Amazon Customer  [12, 15]   \n",
       "2  A3N7T0DY83Y4IG  0528881469             C. A. Freeman  [43, 45]   \n",
       "3  A1H8PY3QHMQQA0  0528881469  Dave M. Shaw \"mack dave\"   [9, 10]   \n",
       "4  A24EV6RXELQZ63  0528881469               Wayne Smith    [0, 0]   \n",
       "\n",
       "                                          reviewText  overall  \\\n",
       "0  We got this GPS for my husband who is an (OTR)...      5.0   \n",
       "1  I'm a professional OTR truck driver, and I bou...      1.0   \n",
       "2  Well, what can I say.  I've had this unit in m...      3.0   \n",
       "3  Not going to write a long review, even thought...      2.0   \n",
       "4  I've had mine for a year and here's what we go...      1.0   \n",
       "\n",
       "                                  summary  unixReviewTime   reviewTime  \n",
       "0                         Gotta have GPS!      1370131200   06 2, 2013  \n",
       "1                       Very Disappointed      1290643200  11 25, 2010  \n",
       "2                          1st impression      1283990400   09 9, 2010  \n",
       "3                 Great grafics, POOR GPS      1290556800  11 24, 2010  \n",
       "4  Major issues, only excuses for support      1317254400  09 29, 2011  "
      ]
     },
     "execution_count": 4,
     "metadata": {},
     "output_type": "execute_result"
    }
   ],
   "source": [
    "review_df.head()"
   ]
  },
  {
   "cell_type": "code",
   "execution_count": 6,
   "metadata": {},
   "outputs": [],
   "source": [
    "with open('./reviews.pkl', 'wb') as f:\n",
    "    pickle.dump(review_df, f, pickle.HIGHEST_PROTOCOL)"
   ]
  },
  {
   "cell_type": "code",
   "execution_count": 7,
   "metadata": {},
   "outputs": [],
   "source": [
    "unique_asin = review_df['asin'].unique()"
   ]
  },
  {
   "cell_type": "code",
   "execution_count": 8,
   "metadata": {},
   "outputs": [
    {
     "data": {
      "text/plain": [
       "29"
      ]
     },
     "execution_count": 8,
     "metadata": {},
     "output_type": "execute_result"
    }
   ],
   "source": [
    "del review_df\n",
    "gc.collect()"
   ]
  },
  {
   "cell_type": "code",
   "execution_count": 9,
   "metadata": {},
   "outputs": [
    {
     "name": "stderr",
     "output_type": "stream",
     "text": [
      "498196it [00:59, 8419.27it/s] \n"
     ]
    }
   ],
   "source": [
    "meta_df = to_df('./meta_Electronics.json')\n",
    "meta_df = meta_df[meta_df['asin'].isin(unique_asin)]\n",
    "meta_df = meta_df.reset_index(drop=True)"
   ]
  },
  {
   "cell_type": "code",
   "execution_count": 10,
   "metadata": {},
   "outputs": [
    {
     "data": {
      "text/html": [
       "<div>\n",
       "<style scoped>\n",
       "    .dataframe tbody tr th:only-of-type {\n",
       "        vertical-align: middle;\n",
       "    }\n",
       "\n",
       "    .dataframe tbody tr th {\n",
       "        vertical-align: top;\n",
       "    }\n",
       "\n",
       "    .dataframe thead th {\n",
       "        text-align: right;\n",
       "    }\n",
       "</style>\n",
       "<table border=\"1\" class=\"dataframe\">\n",
       "  <thead>\n",
       "    <tr style=\"text-align: right;\">\n",
       "      <th></th>\n",
       "      <th>asin</th>\n",
       "      <th>imUrl</th>\n",
       "      <th>description</th>\n",
       "      <th>categories</th>\n",
       "      <th>title</th>\n",
       "      <th>price</th>\n",
       "      <th>salesRank</th>\n",
       "      <th>related</th>\n",
       "      <th>brand</th>\n",
       "    </tr>\n",
       "  </thead>\n",
       "  <tbody>\n",
       "    <tr>\n",
       "      <th>0</th>\n",
       "      <td>0528881469</td>\n",
       "      <td>http://ecx.images-amazon.com/images/I/51FnRkJq...</td>\n",
       "      <td>Like its award-winning predecessor, the Intell...</td>\n",
       "      <td>[[Electronics, GPS &amp; Navigation, Vehicle GPS, ...</td>\n",
       "      <td>Rand McNally 528881469 7-inch Intelliroute TND...</td>\n",
       "      <td>299.99</td>\n",
       "      <td>NaN</td>\n",
       "      <td>{'also_viewed': ['B006ZOI9OY', 'B00C7FKT2A', '...</td>\n",
       "      <td>NaN</td>\n",
       "    </tr>\n",
       "    <tr>\n",
       "      <th>1</th>\n",
       "      <td>0594451647</td>\n",
       "      <td>http://ecx.images-amazon.com/images/I/51RjSETO...</td>\n",
       "      <td>HDTV Adapter Kit for NOOK HD and NOOK HD+\\nThi...</td>\n",
       "      <td>[[Electronics, Computers &amp; Accessories, Touch ...</td>\n",
       "      <td>Barnes &amp;amp; Noble HDTV Adapter Kit for NOOK H...</td>\n",
       "      <td>49.95</td>\n",
       "      <td>NaN</td>\n",
       "      <td>{'also_bought': ['B009L7EEZA', 'B00AGAYQEU', '...</td>\n",
       "      <td>NaN</td>\n",
       "    </tr>\n",
       "    <tr>\n",
       "      <th>2</th>\n",
       "      <td>0594481813</td>\n",
       "      <td>http://ecx.images-amazon.com/images/I/41K7ymN5...</td>\n",
       "      <td>Power up your device with this Barnes &amp;amp; No...</td>\n",
       "      <td>[[Electronics, eBook Readers &amp; Accessories, Po...</td>\n",
       "      <td>Barnes &amp;amp; Noble OV/HB-ADP Universal Power Kit</td>\n",
       "      <td>19.65</td>\n",
       "      <td>NaN</td>\n",
       "      <td>{'also_bought': ['B00AAKLIIS', 'B00A668GUO', '...</td>\n",
       "      <td>Barnes &amp;amp; Noble</td>\n",
       "    </tr>\n",
       "    <tr>\n",
       "      <th>3</th>\n",
       "      <td>0972683275</td>\n",
       "      <td>http://ecx.images-amazon.com/images/I/41hYJ9Mw...</td>\n",
       "      <td>The VideoSecu TV mount is a mounting solution ...</td>\n",
       "      <td>[[Electronics, Accessories &amp; Supplies, Audio &amp;...</td>\n",
       "      <td>VideoSecu 24&amp;quot; Long Arm TV Wall Mount Low ...</td>\n",
       "      <td>29.99</td>\n",
       "      <td>{}</td>\n",
       "      <td>{'also_bought': ['B000X3KOD2', 'B0074FGR74', '...</td>\n",
       "      <td>VideoSecu</td>\n",
       "    </tr>\n",
       "    <tr>\n",
       "      <th>4</th>\n",
       "      <td>1400532620</td>\n",
       "      <td>http://ecx.images-amazon.com/images/I/519ca3cu...</td>\n",
       "      <td>Barnes &amp; Noble Nook eReader - no 3GMeet nook. ...</td>\n",
       "      <td>[[Electronics, eBook Readers &amp; Accessories]]</td>\n",
       "      <td>Barnes &amp;amp; Noble Nook eReader - no 3G</td>\n",
       "      <td>74.95</td>\n",
       "      <td>{'Electronics': 23071}</td>\n",
       "      <td>{'also_bought': ['B0035CLBT4', 'B004X18N24', '...</td>\n",
       "      <td>Barnes &amp;amp; Noble</td>\n",
       "    </tr>\n",
       "  </tbody>\n",
       "</table>\n",
       "</div>"
      ],
      "text/plain": [
       "         asin                                              imUrl  \\\n",
       "0  0528881469  http://ecx.images-amazon.com/images/I/51FnRkJq...   \n",
       "1  0594451647  http://ecx.images-amazon.com/images/I/51RjSETO...   \n",
       "2  0594481813  http://ecx.images-amazon.com/images/I/41K7ymN5...   \n",
       "3  0972683275  http://ecx.images-amazon.com/images/I/41hYJ9Mw...   \n",
       "4  1400532620  http://ecx.images-amazon.com/images/I/519ca3cu...   \n",
       "\n",
       "                                         description  \\\n",
       "0  Like its award-winning predecessor, the Intell...   \n",
       "1  HDTV Adapter Kit for NOOK HD and NOOK HD+\\nThi...   \n",
       "2  Power up your device with this Barnes &amp; No...   \n",
       "3  The VideoSecu TV mount is a mounting solution ...   \n",
       "4  Barnes & Noble Nook eReader - no 3GMeet nook. ...   \n",
       "\n",
       "                                          categories  \\\n",
       "0  [[Electronics, GPS & Navigation, Vehicle GPS, ...   \n",
       "1  [[Electronics, Computers & Accessories, Touch ...   \n",
       "2  [[Electronics, eBook Readers & Accessories, Po...   \n",
       "3  [[Electronics, Accessories & Supplies, Audio &...   \n",
       "4       [[Electronics, eBook Readers & Accessories]]   \n",
       "\n",
       "                                               title   price  \\\n",
       "0  Rand McNally 528881469 7-inch Intelliroute TND...  299.99   \n",
       "1  Barnes &amp; Noble HDTV Adapter Kit for NOOK H...   49.95   \n",
       "2   Barnes &amp; Noble OV/HB-ADP Universal Power Kit   19.65   \n",
       "3  VideoSecu 24&quot; Long Arm TV Wall Mount Low ...   29.99   \n",
       "4            Barnes &amp; Noble Nook eReader - no 3G   74.95   \n",
       "\n",
       "                salesRank                                            related  \\\n",
       "0                     NaN  {'also_viewed': ['B006ZOI9OY', 'B00C7FKT2A', '...   \n",
       "1                     NaN  {'also_bought': ['B009L7EEZA', 'B00AGAYQEU', '...   \n",
       "2                     NaN  {'also_bought': ['B00AAKLIIS', 'B00A668GUO', '...   \n",
       "3                      {}  {'also_bought': ['B000X3KOD2', 'B0074FGR74', '...   \n",
       "4  {'Electronics': 23071}  {'also_bought': ['B0035CLBT4', 'B004X18N24', '...   \n",
       "\n",
       "                brand  \n",
       "0                 NaN  \n",
       "1                 NaN  \n",
       "2  Barnes &amp; Noble  \n",
       "3           VideoSecu  \n",
       "4  Barnes &amp; Noble  "
      ]
     },
     "execution_count": 10,
     "metadata": {},
     "output_type": "execute_result"
    }
   ],
   "source": [
    "meta_df.head()"
   ]
  },
  {
   "cell_type": "code",
   "execution_count": 14,
   "metadata": {},
   "outputs": [],
   "source": [
    "pickle.dump(meta_df, open('./meta.pkl', 'wb'), pickle.HIGHEST_PROTOCOL)"
   ]
  },
  {
   "cell_type": "code",
   "execution_count": 15,
   "metadata": {},
   "outputs": [
    {
     "data": {
      "text/plain": [
       "0"
      ]
     },
     "execution_count": 15,
     "metadata": {},
     "output_type": "execute_result"
    }
   ],
   "source": [
    "reviews = pd.read_pickle('./reviews.pkl')\n",
    "reviews_df = reviews[['reviewerID', 'asin', 'unixReviewTime']]\n",
    "\n",
    "meta = pd.read_pickle('./meta.pkl')\n",
    "meta_df = meta[['asin', 'categories']]\n",
    "\n",
    "del reviews, meta\n",
    "gc.collect()"
   ]
  },
  {
   "cell_type": "code",
   "execution_count": 16,
   "metadata": {},
   "outputs": [],
   "source": [
    "meta_df['categories'] = meta_df['categories'].map(lambda x:x[-1][-1])"
   ]
  },
  {
   "cell_type": "code",
   "execution_count": 17,
   "metadata": {},
   "outputs": [
    {
     "data": {
      "text/html": [
       "<div>\n",
       "<style scoped>\n",
       "    .dataframe tbody tr th:only-of-type {\n",
       "        vertical-align: middle;\n",
       "    }\n",
       "\n",
       "    .dataframe tbody tr th {\n",
       "        vertical-align: top;\n",
       "    }\n",
       "\n",
       "    .dataframe thead th {\n",
       "        text-align: right;\n",
       "    }\n",
       "</style>\n",
       "<table border=\"1\" class=\"dataframe\">\n",
       "  <thead>\n",
       "    <tr style=\"text-align: right;\">\n",
       "      <th></th>\n",
       "      <th>asin</th>\n",
       "      <th>categories</th>\n",
       "    </tr>\n",
       "  </thead>\n",
       "  <tbody>\n",
       "    <tr>\n",
       "      <th>0</th>\n",
       "      <td>0528881469</td>\n",
       "      <td>Trucking GPS</td>\n",
       "    </tr>\n",
       "    <tr>\n",
       "      <th>1</th>\n",
       "      <td>0594451647</td>\n",
       "      <td>Chargers &amp; Adapters</td>\n",
       "    </tr>\n",
       "    <tr>\n",
       "      <th>2</th>\n",
       "      <td>0594481813</td>\n",
       "      <td>Power Adapters</td>\n",
       "    </tr>\n",
       "    <tr>\n",
       "      <th>3</th>\n",
       "      <td>0972683275</td>\n",
       "      <td>TV Ceiling &amp; Wall Mounts</td>\n",
       "    </tr>\n",
       "    <tr>\n",
       "      <th>4</th>\n",
       "      <td>1400532620</td>\n",
       "      <td>eBook Readers &amp; Accessories</td>\n",
       "    </tr>\n",
       "  </tbody>\n",
       "</table>\n",
       "</div>"
      ],
      "text/plain": [
       "         asin                   categories\n",
       "0  0528881469                 Trucking GPS\n",
       "1  0594451647          Chargers & Adapters\n",
       "2  0594481813               Power Adapters\n",
       "3  0972683275     TV Ceiling & Wall Mounts\n",
       "4  1400532620  eBook Readers & Accessories"
      ]
     },
     "execution_count": 17,
     "metadata": {},
     "output_type": "execute_result"
    }
   ],
   "source": [
    "meta_df.head()"
   ]
  },
  {
   "cell_type": "code",
   "execution_count": 18,
   "metadata": {},
   "outputs": [
    {
     "data": {
      "text/html": [
       "<div>\n",
       "<style scoped>\n",
       "    .dataframe tbody tr th:only-of-type {\n",
       "        vertical-align: middle;\n",
       "    }\n",
       "\n",
       "    .dataframe tbody tr th {\n",
       "        vertical-align: top;\n",
       "    }\n",
       "\n",
       "    .dataframe thead th {\n",
       "        text-align: right;\n",
       "    }\n",
       "</style>\n",
       "<table border=\"1\" class=\"dataframe\">\n",
       "  <thead>\n",
       "    <tr style=\"text-align: right;\">\n",
       "      <th></th>\n",
       "      <th>reviewerID</th>\n",
       "      <th>asin</th>\n",
       "      <th>unixReviewTime</th>\n",
       "    </tr>\n",
       "  </thead>\n",
       "  <tbody>\n",
       "    <tr>\n",
       "      <th>0</th>\n",
       "      <td>AO94DHGC771SJ</td>\n",
       "      <td>0528881469</td>\n",
       "      <td>1370131200</td>\n",
       "    </tr>\n",
       "    <tr>\n",
       "      <th>1</th>\n",
       "      <td>AMO214LNFCEI4</td>\n",
       "      <td>0528881469</td>\n",
       "      <td>1290643200</td>\n",
       "    </tr>\n",
       "    <tr>\n",
       "      <th>2</th>\n",
       "      <td>A3N7T0DY83Y4IG</td>\n",
       "      <td>0528881469</td>\n",
       "      <td>1283990400</td>\n",
       "    </tr>\n",
       "    <tr>\n",
       "      <th>3</th>\n",
       "      <td>A1H8PY3QHMQQA0</td>\n",
       "      <td>0528881469</td>\n",
       "      <td>1290556800</td>\n",
       "    </tr>\n",
       "    <tr>\n",
       "      <th>4</th>\n",
       "      <td>A24EV6RXELQZ63</td>\n",
       "      <td>0528881469</td>\n",
       "      <td>1317254400</td>\n",
       "    </tr>\n",
       "  </tbody>\n",
       "</table>\n",
       "</div>"
      ],
      "text/plain": [
       "       reviewerID        asin  unixReviewTime\n",
       "0   AO94DHGC771SJ  0528881469      1370131200\n",
       "1   AMO214LNFCEI4  0528881469      1290643200\n",
       "2  A3N7T0DY83Y4IG  0528881469      1283990400\n",
       "3  A1H8PY3QHMQQA0  0528881469      1290556800\n",
       "4  A24EV6RXELQZ63  0528881469      1317254400"
      ]
     },
     "execution_count": 18,
     "metadata": {},
     "output_type": "execute_result"
    }
   ],
   "source": [
    "reviews_df.head()"
   ]
  },
  {
   "cell_type": "code",
   "execution_count": 19,
   "metadata": {},
   "outputs": [
    {
     "name": "stdout",
     "output_type": "stream",
     "text": [
      "(37570, 2) (1000001, 3)\n"
     ]
    }
   ],
   "source": [
    "print(meta_df.shape, reviews_df.shape)"
   ]
  },
  {
   "cell_type": "code",
   "execution_count": 20,
   "metadata": {},
   "outputs": [],
   "source": [
    "select_user_id = np.random.choice(reviews_df['reviewerID'].unique(), size=100000, replace=False)\n",
    "reviews_df = reviews_df[reviews_df['reviewerID'].isin(select_user_id)]\n",
    "meta_df = meta_df[meta_df['asin'].isin(reviews_df['asin'].unique())]"
   ]
  },
  {
   "cell_type": "code",
   "execution_count": 21,
   "metadata": {},
   "outputs": [
    {
     "name": "stdout",
     "output_type": "stream",
     "text": [
      "(37392, 2) (536662, 3)\n"
     ]
    }
   ],
   "source": [
    "print(meta_df.shape, reviews_df.shape)"
   ]
  },
  {
   "cell_type": "code",
   "execution_count": 22,
   "metadata": {},
   "outputs": [],
   "source": [
    "def build_map(df, col_name):\n",
    "    key = sorted(df[col_name].unique().tolist())\n",
    "    m = dict(zip(key, range(len(key))))\n",
    "    df[col_name] = df[col_name].map(lambda x:m[x])\n",
    "    return m, key"
   ]
  },
  {
   "cell_type": "code",
   "execution_count": 23,
   "metadata": {},
   "outputs": [],
   "source": [
    "asin_map, asin_key = build_map(meta_df, 'asin')\n",
    "cate_map, cate_key = build_map(meta_df, 'categories')\n",
    "revi_map, revi_key = build_map(reviews_df, 'reviewerID')"
   ]
  },
  {
   "cell_type": "code",
   "execution_count": 24,
   "metadata": {},
   "outputs": [
    {
     "name": "stdout",
     "output_type": "stream",
     "text": [
      "100000 37392 711 536662\n"
     ]
    }
   ],
   "source": [
    "user_count, item_count, cate_count, example_count = len(revi_map), len(asin_map), len(cate_map), reviews_df.shape[0]\n",
    "print(user_count, item_count, cate_count, example_count)"
   ]
  },
  {
   "cell_type": "code",
   "execution_count": 25,
   "metadata": {},
   "outputs": [],
   "source": [
    "meta_df = meta_df.sort_values('asin').reset_index(drop=True)"
   ]
  },
  {
   "cell_type": "code",
   "execution_count": 26,
   "metadata": {},
   "outputs": [],
   "source": [
    "reviews_df['asin'] = reviews_df['asin'].map(lambda x:asin_map[x])\n",
    "reviews_df = reviews_df.sort_values(['reviewerID', 'unixReviewTime']).reset_index(drop=True)\n",
    "reviews_df = reviews_df[['reviewerID', 'asin', 'unixReviewTime']]"
   ]
  },
  {
   "cell_type": "code",
   "execution_count": 27,
   "metadata": {},
   "outputs": [],
   "source": [
    "cate_list = np.array(meta_df['categories'], dtype='int32')"
   ]
  },
  {
   "cell_type": "code",
   "execution_count": 28,
   "metadata": {},
   "outputs": [],
   "source": [
    "with open('./remap.pkl','wb') as f:\n",
    "    pickle.dump(reviews_df, f, pickle.HIGHEST_PROTOCOL)\n",
    "    pickle.dump(cate_list, f, pickle.HIGHEST_PROTOCOL)\n",
    "    pickle.dump((user_count, item_count, cate_count, example_count), f, pickle.HIGHEST_PROTOCOL)\n",
    "    pickle.dump((asin_key, cate_key, revi_key), f, pickle.HIGHEST_PROTOCOL)"
   ]
  },
  {
   "cell_type": "code",
   "execution_count": null,
   "metadata": {},
   "outputs": [],
   "source": []
  }
 ],
 "metadata": {
  "kernelspec": {
   "display_name": "Python 3",
   "language": "python",
   "name": "python3"
  },
  "language_info": {
   "codemirror_mode": {
    "name": "ipython",
    "version": 3
   },
   "file_extension": ".py",
   "mimetype": "text/x-python",
   "name": "python",
   "nbconvert_exporter": "python",
   "pygments_lexer": "ipython3",
   "version": "3.6.10"
  }
 },
 "nbformat": 4,
 "nbformat_minor": 4
}
