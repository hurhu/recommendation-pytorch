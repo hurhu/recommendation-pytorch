{
 "cells": [
  {
   "cell_type": "code",
   "execution_count": 3,
   "metadata": {},
   "outputs": [],
   "source": [
    "# 创建数据集\n",
    "import torch\n",
    "\n",
    "from sklearn.preprocessing import MinMaxScaler, LabelEncoder\n",
    "from sklearn.model_selection import train_test_split\n",
    "\n",
    "from torch.utils.data import DataLoader, Dataset, TensorDataset\n",
    "import torch.nn as nn\n",
    "import torch.nn.functional as F\n",
    "import torch.optim as optim\n",
    "from sklearn.metrics import roc_auc_score, accuracy_score\n",
    "import numpy as np\n",
    "import pandas as pd\n",
    "import pickle\n",
    "import random\n",
    "from tqdm import tqdm\n",
    "from torch.nn.utils.rnn import pad_sequence\n",
    "import warnings\n",
    "warnings.filterwarnings('ignore')"
   ]
  },
  {
   "cell_type": "code",
   "execution_count": 2,
   "metadata": {},
   "outputs": [],
   "source": [
    "from keras.preprocessing.sequence import pad_sequences"
   ]
  },
  {
   "cell_type": "markdown",
   "metadata": {},
   "source": [
    "## 构造数据"
   ]
  },
  {
   "cell_type": "code",
   "execution_count": 132,
   "metadata": {},
   "outputs": [],
   "source": [
    "def sparseFeature(feat, feat_num, embed_dim=4):\n",
    "    return {'feat':feat, 'feat_num':feat_num, 'embed_dim':embed_dim}\n",
    "def denseFeature(feat):\n",
    "    return {'feat':feat}\n",
    "def create_amazon_electronic_dataset(file, embed_dim=8, maxlen=40):\n",
    "\t\"\"\"\n",
    "\t:param file: dataset path\n",
    "\t:param embed_dim: latent factor\n",
    "\t:param maxlen\n",
    "\t:return: user_num, item_num, train_df, test_df\n",
    "\t\"\"\"\n",
    "\tprint('=========Data Preprocess Start===========')\n",
    "\twith open(file, 'rb') as f:\n",
    "\t\treviews_df = pickle.load(f)\n",
    "\t\tcate_list = pickle.load(f)\n",
    "\t\tuser_count, item_count, cate_count, example_count = pickle.load(f)\n",
    "\treviews_df = reviews_df\n",
    "\treviews_df.columns = ['user_id', 'item_id', 'time']\n",
    "\n",
    "\ttrain_data, val_data, test_data = [], [], []\n",
    "\n",
    "\tfor user_id, hist in tqdm(reviews_df.groupby('user_id')):\n",
    "\t\tpos_list = hist['item_id'].tolist()             # pos_list就是用户真实购买的商品， 下面针对每个购买的商品， 产生一个用户没有购买过的产品\n",
    "\n",
    "\t\tdef gen_neg():\n",
    "\t\t\tneg = pos_list[0]\n",
    "\t\t\twhile neg in pos_list: \n",
    "\t\t\t\tneg = random.randint(0, item_count-1)       # 这儿产生一个不在真实用户购买的里面的\n",
    "\t\t\treturn neg\n",
    "\t\tneg_list = [gen_neg() for i in range(len(pos_list))]\n",
    "\t\thist = []\n",
    "\t\tfor i in range(1, len(pos_list)):\n",
    "\t\t\thist.append([pos_list[i-1]])\n",
    "\t\t\tif i == len(pos_list) - 1:                   # 最后一个的时候\n",
    "\t\t\t\ttest_data.append([hist, [pos_list[i]], 1])\n",
    "\t\t\t\ttest_data.append([hist, [neg_list[i]], 0])\n",
    "\t\t\telif i == len(pos_list) - 2:           # 倒数第二个的时候\n",
    "\t\t\t\tval_data.append([hist, [pos_list[i]], 1])\n",
    "\t\t\t\tval_data.append([hist, [neg_list[i]], 0])\n",
    "\t\t\telse:\n",
    "\t\t\t\ttrain_data.append([hist, [pos_list[i]], 1])\n",
    "\t\t\t\ttrain_data.append([hist, [neg_list[i]], 0])\n",
    "\n",
    "\t# feature columns\n",
    "\tfeature_columns = [\n",
    "\t\t[],\n",
    "\t\t[sparseFeature('item_id', item_count, embed_dim)]\n",
    "\t]\n",
    "\n",
    "\t# behavior_list\n",
    "\tbehavior_list = ['item_id']\n",
    "\n",
    "\t# shuffle\n",
    "\trandom.shuffle(train_data)\n",
    "\trandom.shuffle(val_data)\n",
    "\trandom.shuffle(test_data)\n",
    "\n",
    "\ttrain = pd.DataFrame(train_data, columns=['hist', 'target_item', 'label'])\n",
    "\tval = pd.DataFrame(val_data, columns=['hist', 'target_item', 'label'])\n",
    "\ttest = pd.DataFrame(test_data, columns=['hist', 'target_item', 'label'])\n",
    "\n",
    "\t# if no dense or sparse features, can fill with 0\n",
    "\tprint('=================Padding================')\n",
    "\n",
    "\n",
    "\n",
    "\ttrain_X = [np.array([0.] * len(train)), np.array([0]*len(train)), pad_sequences(train['hist'], maxlen=maxlen), np.array(train['target_item'].tolist())]\n",
    "\ttrain_y = train['label'].values\n",
    "\tval_X = [np.array([0.] * len(val)), np.array([0]*len(val)), pad_sequences(val['hist'], maxlen=maxlen), np.array(val['target_item'].tolist())]\n",
    "\tval_y = val['label'].values\n",
    "\ttest_X = [np.array([0.] * len(test)), np.array([0]*len(test)), pad_sequences(test['hist'], maxlen=maxlen), np.array(test['target_item'].tolist())]\n",
    "\ttest_y = test['label'].values\n",
    "\tprint('===========Data Preprocess End====================')\n",
    "\treturn feature_columns, behavior_list, (train_X, train_y), (val_X, val_y), (test_X, test_y)"
   ]
  },
  {
   "cell_type": "code",
   "execution_count": 133,
   "metadata": {},
   "outputs": [
    {
     "name": "stdout",
     "output_type": "stream",
     "text": [
      "=========Data Preprocess Start===========\n"
     ]
    },
    {
     "name": "stderr",
     "output_type": "stream",
     "text": [
      "100%|██████████| 100000/100000 [00:14<00:00, 7088.66it/s]\n"
     ]
    },
    {
     "name": "stdout",
     "output_type": "stream",
     "text": [
      "=================Padding================\n",
      "===========Data Preprocess End====================\n"
     ]
    }
   ],
   "source": [
    "file_name = './remap.pkl'\n",
    "feature_columns, behavior_list, (train_X, train_y), (val_X, val_y), (test_X, test_y) = create_amazon_electronic_dataset(file_name)"
   ]
  },
  {
   "cell_type": "code",
   "execution_count": 249,
   "metadata": {},
   "outputs": [
    {
     "name": "stdout",
     "output_type": "stream",
     "text": [
      "4\n",
      "(528800,)\n",
      "(528800,)\n",
      "(528800, 40, 1)\n",
      "(528800, 1)\n",
      "(528800,)\n",
      "(159746,)\n",
      "(184778,)\n"
     ]
    }
   ],
   "source": [
    "print(len(train_X))\n",
    "print(train_X[0].shape)\n",
    "print(train_X[1].shape)\n",
    "print(train_X[2].shape)\n",
    "print(train_X[3].shape)\n",
    "print(train_y.shape)\n",
    "print(val_y.shape)\n",
    "print(test_y.shape)"
   ]
  },
  {
   "cell_type": "code",
   "execution_count": 142,
   "metadata": {},
   "outputs": [
    {
     "name": "stdout",
     "output_type": "stream",
     "text": [
      "[[], [{'feat': 'item_id', 'feat_num': 37392, 'embed_dim': 8}]] ['item_id']\n"
     ]
    }
   ],
   "source": [
    "print(feature_columns, behavior_list)"
   ]
  },
  {
   "cell_type": "code",
   "execution_count": 254,
   "metadata": {},
   "outputs": [
    {
     "name": "stdout",
     "output_type": "stream",
     "text": [
      "<class 'torch.Tensor'>\n",
      "torch.Size([10000, 1]) torch.Size([10000, 1]) torch.Size([10000, 40, 1]) torch.Size([10000, 1]) tensor([0., 1., 1.,  ..., 0., 1., 0.])\n"
     ]
    }
   ],
   "source": [
    "dl_train_dataset = TensorDataset(torch.tensor(train_X[0].reshape(-1,1)).float(), torch.tensor(train_X[1].reshape(-1,1)).float(), torch.tensor(train_X[2]).float(), torch.tensor(train_X[3]).float(), torch.tensor(train_y).float())\n",
    "dl_val_dataset = TensorDataset(torch.tensor(val_X[0].reshape(-1,1)).float(), torch.tensor(val_X[1].reshape(-1,1)).float(), torch.tensor(val_X[2]).float(), torch.tensor(val_X[3]).float(), torch.tensor(val_y).float())\n",
    "\n",
    "dl_train = DataLoader(dl_train_dataset, shuffle=True, batch_size=10000)\n",
    "dl_val = DataLoader(dl_val_dataset, shuffle=True, batch_size=10000)\n",
    "\n",
    "for dense_input, sparse_input, behavior_data, target_item, label in iter(dl_train):\n",
    "    print(type(dense_input))\n",
    "    print(dense_input.shape, sparse_input.shape, behavior_data.shape, target_item.shape, label)\n",
    "    break"
   ]
  },
  {
   "cell_type": "markdown",
   "metadata": {},
   "source": [
    "## 构建模型"
   ]
  },
  {
   "cell_type": "code",
   "execution_count": 240,
   "metadata": {},
   "outputs": [],
   "source": [
    "class Attention_layer(nn.Module):\n",
    "    #自定义Attenion层，其实就是一个全连接神经网络\n",
    "    def __init__(self, att_hidden_units, activation='sigmoid'):\n",
    "        super(Attention_layer, self).__init__()\n",
    "        self.att_layer = nn.ModuleList([nn.Linear(layer[0], layer[1]) for layer in list(zip(att_hidden_units[:-1], att_hidden_units[1:]))])\n",
    "        self.att_final_layer = nn.Linear(att_hidden_units[-1], 1)\n",
    "    def forward(self, inputs):\n",
    "        \"\"\"\n",
    "        这里的inputs包含四个部分:[item_embed, seq_embed, seq_embed, mask]\n",
    "        item_embed:这个是候选商品的embedding向量，维度是(None, embedding_dim * behavior_num) #behavior_num能表示用户行为的特征个数 这里是1，所以(None, embed_dim)\n",
    "        mask: 维度是(None, max_len) 这个里面每一行是[False, False, True, True, ...]的形式，False的长度表示样本填充的那部分\n",
    "        \"\"\"\n",
    "        q, k, v, key_masks = inputs\n",
    "        q = q.repeat(1, k.shape[1])   #(None. max_len*embedding) #沿着k.shape[1]的维度复制 每个历史行为都要和当前的商品计算相似关系\n",
    "        q = torch.reshape(q, (-1, k.shape[1], k.shape[2]))   #(None, max_len, embedding_dim)\n",
    "        \n",
    "        #q, k, out product should concat\n",
    "        info = torch.cat([q, k, q-k, q*k], dim=-1) #(None, max_len, 4*embedding_dim)\n",
    "        \n",
    "        #n层全连接\n",
    "        for linear in self.att_layer:\n",
    "            info = linear(info)\n",
    "            info = F.relu(info)\n",
    "        outputs = self.att_final_layer(info)   #(None, max_len, 1)\n",
    "#         print(outputs.shape)\n",
    "        outputs = torch.squeeze(outputs, dim=-1) #(None, max_len)\n",
    "#         print(outputs.shape)\n",
    "        \n",
    "        #mask 把每个行为序列填充的那部分替换成很小的一个值\n",
    "        paddings = torch.ones_like(outputs) * (-2**32+1)    #(None, max_len)这个就是之前填充的那个地方，我们补一个很小的值\n",
    "        outputs = torch.where(key_masks==0, paddings, outputs)\n",
    "#         print(outputs.shape)\n",
    "        \n",
    "        #softmax\n",
    "        outputs = F.softmax(outputs, dim=1) #(None, max_len)\n",
    "        outputs = torch.unsqueeze(outputs, 1) #(None, 1, max_len)\n",
    "        \n",
    "        outputs = torch.matmul(outputs, v) #三维矩阵相乘，(None, 1, max_len)*(None, max_len, embed_dim) = (None,1,embed_dim)\n",
    "        outputs = torch.squeeze(outputs, dim=1)  #(None,embed_dim)\n",
    "        return outputs"
   ]
  },
  {
   "cell_type": "code",
   "execution_count": 241,
   "metadata": {},
   "outputs": [],
   "source": [
    "class Dice(nn.Module):\n",
    "    def __init__(self, fea_num):\n",
    "        super(Dice, self).__init__()\n",
    "        self.fea_num = fea_num\n",
    "        self.bn = nn.BatchNorm1d(fea_num)\n",
    "        self.alpha = nn.Parameter(torch.randn(1))\n",
    "        nn.init.uniform_(self.alpha, 0, 1)\n",
    "    def forward(self, x):\n",
    "        x_normed = self.bn(x)\n",
    "        x_p = torch.sigmoid(x_normed)\n",
    "        \n",
    "        return self.alpha * (1.0-x_p) * x + x_p * x"
   ]
  },
  {
   "cell_type": "code",
   "execution_count": 242,
   "metadata": {},
   "outputs": [],
   "source": [
    "class DIN(nn.Module):\n",
    "    def __init__(self, feature_columns, behavior_feature_list, att_hidden_units=(80, 40), ffn_hidden_units=(80, 40), att_activation='sigmoid',\n",
    "                ffn_activation='prelu', maxlen=40, dnn_dropout=0., embed_reg=1e-4):\n",
    "        \"\"\"\n",
    "        feature_columns:列表，[dense_feature_columns, sparse_feature_columns], dense_feature_columns是[{'feat':'feat_name'}], 而sparse_feature_columns是[{'feat':'feat_name', 'feat_num':'nunique', 'embed_dim'}]\n",
    "        behavior_feature_list:列表，能表示用户历史行为的特征，比如商品id,店铺id['item', 'cat']\n",
    "        att_hidden_units:注意力层的隐藏单元个数。可以是一个列表或者元组，注意注意力层是一个全连接网络\n",
    "        ffn_hidden_units:全连接层的隐藏单元个数和层数，可以是一个列表或者元组\n",
    "        att_activation:激活单元的名称，字符串\n",
    "        ffn_activation:激活单元的名称，用'prelu'或者'Dice'\n",
    "        maxlen:标量，用户历史行为序列的最大长度\n",
    "        dropout:标量，失活率\n",
    "        embed_reg:标量，正则系数\n",
    "        \"\"\"\n",
    "        super(DIN, self).__init__() #初始化网络\n",
    "        self.maxlen = maxlen\n",
    "        self.dense_feature_columns, self.sparse_feature_columns = feature_columns #将连续特征和离散特征分别取出来，因为这两者后期的处理不同\n",
    "        \n",
    "        #len\n",
    "        self.other_sparse_len = len(self.sparse_feature_columns) - len(behavior_feature_list) #这个other_sparse_len就是离散特征中去掉了能表示用户行为的特征列\n",
    "        self.dense_len = len(self.dense_feature_columns)\n",
    "        self.behavior_num = len(behavior_feature_list)\n",
    "        \n",
    "        self.fea_num = 0\n",
    "        if self.other_sparse_len > 0 or self.dense_len > 0:\n",
    "            self.fea_num = self.dense_len + self.other_sparse_len + self.sparse_feature_columns[0]['embed_dim'] * 2\n",
    "        else:\n",
    "            self.fea_num = self.sparse_feature_columns[0]['embed_dim'] * 2\n",
    "        #embedding层，这里分成两部分的embedding，第一部分是普通的离散特征，第二部分是能表示用户历史行为的离散特征，这一块后面要进注意力和当前的商品计算相关性\n",
    "        self.embed_sparse_layers = nn.ModuleList([nn.Embedding(num_embeddings=feat['feat_num'], embedding_dim=feat['embed_dim']) for feat in self.sparse_feature_columns if feat['feat'] not in behavior_feature_list])\n",
    "        \n",
    "        #behavior embedding layers, item id and category id\n",
    "        self.embed_seq_layers = nn.ModuleList([nn.Embedding(num_embeddings=feat['feat_num'], embedding_dim=feat['embed_dim']) for feat in self.sparse_feature_columns if feat['feat'] in behavior_feature_list])\n",
    "        \n",
    "        #注意力机制\n",
    "        att_hidden_units.insert(0, self.sparse_feature_columns[0]['embed_dim'] * 4)\n",
    "        self.attention_layer = Attention_layer(att_hidden_units, att_activation)\n",
    "        \n",
    "        self.bn = nn.BatchNorm1d(self.fea_num)\n",
    "        \n",
    "        #全连接网络\n",
    "        self.ffn_activation = ffn_activation\n",
    "        ffn_hidden_units.insert(0, self.fea_num)\n",
    "        self.ffn = nn.ModuleList(nn.Linear(layer[0], layer[1]) for layer in list(zip(ffn_hidden_units[:-1], ffn_hidden_units[1:])))\n",
    "        self.dropout = nn.Dropout(dnn_dropout)\n",
    "        self.final_fnn_layer = nn.Linear(ffn_hidden_units[-1], 1)\n",
    "        \n",
    "        #dice\n",
    "        self.dice_fea_nums = ffn_hidden_units[1:]\n",
    "        self.dice = nn.ModuleList(Dice(dice_fea_num) for dice_fea_num in self.dice_fea_nums)\n",
    "    def forward(self, inputs):\n",
    "        \"\"\"\n",
    "        inputs:[dense_inputs, sparse_input, seq_input, item_input],第二部分是离散型的特征输入，第三部分是用户的历史行为，第四部分是当前商品的输入\n",
    "        dense_input:连续型的特征输入,维度是(None, dense_len)\n",
    "        sparse_input:离散型的特征输入,维度是(None, other_sparse_len)\n",
    "        seq_input:用户的历史行为xulie(None, maxlen, behavior_len)\n",
    "        item_input:当前的候选商品序列(None, behavior_len)\n",
    "        \"\"\"\n",
    "        dense_inputs, sparse_inputs, seq_inputs, item_inputs = inputs\n",
    "        sparse_inputs = sparse_inputs.long()\n",
    "        seq_inputs = seq_inputs.long()\n",
    "        item_inputs = item_inputs.long()\n",
    "        \n",
    "        #attention ----> mask, if the element of seq_inputs is equal 0, it must be filled in \n",
    "        mask = torch.tensor(seq_inputs[:,:,0]!=0, dtype=torch.float32)  #(None, maxlen)类型转换函数，把seq_input中不等于0的值转成float32\n",
    "        #这个函数的作用就是每一行样本中，不为0的值返回1，为0的值返回0，这样就把填充的那部分值都给标记了出来\n",
    "        \n",
    "        #下面把连续型特征和行为无关的离散型特征拼到一起先\n",
    "        other_info = dense_inputs  #(None, dense_len)\n",
    "        for i in range(self.other_sparse_len):\n",
    "            other_info = torch.cat([other_info, self.embed_sparse_layers[i](sparse_inputs[:,i])], dim=-1) #(None, dense_len+other_sparse_len)\n",
    "        \n",
    "        #下面把候选的商品和用户行为商品也各自的拼接起来\n",
    "        seq_embed = torch.cat([self.embed_seq_layers[i](seq_inputs[:,:,i]) for i in range(self.behavior_num)], dim=-1)#(None, max_len, embed_dim)\n",
    "        item_embed = torch.cat([self.embed_seq_layers[i](item_inputs[:, i]) for i in range(self.behavior_num)],dim=-1) #(None, embed_dim)\n",
    "        \n",
    "        #下面进行attention_layer的计算\n",
    "        user_info = self.attention_layer([item_embed, seq_embed, seq_embed, mask]) #(None, embed_dim)\n",
    "        \n",
    "        #所有特征拼接起来\n",
    "        if self.dense_len > 0 or self.other_sparse_len > 0:\n",
    "            info_all = torch.cat([user_info, item_embed, other_info], dim=-1) #(None, dense_len+other_sparse_len+embed_dim+embed_dim)\n",
    "        else:\n",
    "            info_all = torch.cat([user_info, item_embed], dim=-1) #(None, embed_dim+embed_dim)\n",
    "        \n",
    "        info_all = self.bn(info_all)\n",
    "        \n",
    "        #ffn\n",
    "        dice_i = 0\n",
    "        for linear in self.ffn:\n",
    "            info_all = linear(info_all)\n",
    "            if self.ffn_activation == 'prelu':\n",
    "                activation_func = nn.PReLU(num_parameters=1)\n",
    "                info_all = activation_func(info_all)\n",
    "            else:\n",
    "                info_all = self.dice[dice_i](info_all)\n",
    "                dice_i += 1\n",
    "        info_all = self.dropout(info_all)\n",
    "        outputs = torch.sigmoid(self.final_fnn_layer(info_all))\n",
    "        return outputs"
   ]
  },
  {
   "cell_type": "code",
   "execution_count": 243,
   "metadata": {},
   "outputs": [
    {
     "data": {
      "text/plain": [
       "DIN(\n",
       "  (embed_sparse_layers): ModuleList()\n",
       "  (embed_seq_layers): ModuleList(\n",
       "    (0): Embedding(37392, 8)\n",
       "  )\n",
       "  (attention_layer): Attention_layer(\n",
       "    (att_layer): ModuleList(\n",
       "      (0): Linear(in_features=32, out_features=80, bias=True)\n",
       "      (1): Linear(in_features=80, out_features=40, bias=True)\n",
       "    )\n",
       "    (att_final_layer): Linear(in_features=40, out_features=1, bias=True)\n",
       "  )\n",
       "  (bn): BatchNorm1d(16, eps=1e-05, momentum=0.1, affine=True, track_running_stats=True)\n",
       "  (ffn): ModuleList(\n",
       "    (0): Linear(in_features=16, out_features=256, bias=True)\n",
       "    (1): Linear(in_features=256, out_features=128, bias=True)\n",
       "    (2): Linear(in_features=128, out_features=64, bias=True)\n",
       "  )\n",
       "  (dropout): Dropout(p=0.5, inplace=False)\n",
       "  (final_fnn_layer): Linear(in_features=64, out_features=1, bias=True)\n",
       "  (dice): ModuleList(\n",
       "    (0): Dice(\n",
       "      (bn): BatchNorm1d(256, eps=1e-05, momentum=0.1, affine=True, track_running_stats=True)\n",
       "    )\n",
       "    (1): Dice(\n",
       "      (bn): BatchNorm1d(128, eps=1e-05, momentum=0.1, affine=True, track_running_stats=True)\n",
       "    )\n",
       "    (2): Dice(\n",
       "      (bn): BatchNorm1d(64, eps=1e-05, momentum=0.1, affine=True, track_running_stats=True)\n",
       "    )\n",
       "  )\n",
       ")"
      ]
     },
     "execution_count": 243,
     "metadata": {},
     "output_type": "execute_result"
    }
   ],
   "source": [
    "#建立模型\n",
    "maxlen = 40\n",
    "embed_dim = 8\n",
    "att_hidden_units = [80, 40]\n",
    "ffn_hidden_units = [256, 128, 64]\n",
    "dnn_dropout = 0.5\n",
    "att_activation = 'sigmoid'\n",
    "ffn_activation = 'dice'\n",
    "\n",
    "learning_rate = 0.001\n",
    "batch_size = 64\n",
    "epochs = 50\n",
    "model = DIN(feature_columns, behavior_list, att_hidden_units, ffn_hidden_units, att_activation, ffn_activation, maxlen, dnn_dropout)\n",
    "model"
   ]
  },
  {
   "cell_type": "code",
   "execution_count": 244,
   "metadata": {},
   "outputs": [
    {
     "name": "stdout",
     "output_type": "stream",
     "text": [
      "tensor([[0.4773],\n",
      "        [0.4883],\n",
      "        [0.4961],\n",
      "        [0.4883],\n",
      "        [0.4893],\n",
      "        [0.4764],\n",
      "        [0.4899],\n",
      "        [0.4837],\n",
      "        [0.4563],\n",
      "        [0.4416],\n",
      "        [0.5039],\n",
      "        [0.5024],\n",
      "        [0.4543],\n",
      "        [0.4623],\n",
      "        [0.4558],\n",
      "        [0.4797],\n",
      "        [0.4464],\n",
      "        [0.4596],\n",
      "        [0.4928],\n",
      "        [0.4748],\n",
      "        [0.4738],\n",
      "        [0.4615],\n",
      "        [0.4493],\n",
      "        [0.4704],\n",
      "        [0.5107],\n",
      "        [0.4646],\n",
      "        [0.4695],\n",
      "        [0.4568],\n",
      "        [0.4543],\n",
      "        [0.4671],\n",
      "        [0.4659],\n",
      "        [0.4743]], grad_fn=<SigmoidBackward>)\n"
     ]
    }
   ],
   "source": [
    "#测试一下模型\n",
    "for dense_input, sparse_input, behavior_input, target_item, label in iter(dl_train):\n",
    "    out = model([dense_input, sparse_input, behavior_input, target_item])\n",
    "    print(out)\n",
    "    break"
   ]
  },
  {
   "cell_type": "markdown",
   "metadata": {},
   "source": [
    "## 模型的训练和评估"
   ]
  },
  {
   "cell_type": "code",
   "execution_count": 245,
   "metadata": {},
   "outputs": [],
   "source": [
    "def auc(y_pred, y_true):\n",
    "    pred = y_pred.data\n",
    "    y = y_true.data\n",
    "    return roc_auc_score(y, pred)\n",
    "\n",
    "loss_func = nn.BCELoss()\n",
    "optimizer = optim.Adam(params=model.parameters(), lr=0.001)\n",
    "metric_func = auc\n",
    "metric_name = 'auc'\n",
    "from sklearn.metrics import roc_auc_score, accuracy_score\n",
    "import datetime"
   ]
  },
  {
   "cell_type": "code",
   "execution_count": 251,
   "metadata": {},
   "outputs": [
    {
     "name": "stdout",
     "output_type": "stream",
     "text": [
      "start_training.........\n",
      "================================================================2022-08-11 16:15:28\n",
      "[step=10] loss: 0.051, auc: 0.995\n",
      "[step=20] loss: 0.050, auc: 0.995\n",
      "[step=30] loss: 0.050, auc: 0.995\n",
      "[step=40] loss: 0.050, auc: 0.995\n",
      "[step=50] loss: 0.050, auc: 0.995\n",
      "\n",
      "EPOCH=1, loss=0.050, auc = 0.995, val_loss=0.006, val_auc = 1.000\n",
      "\n",
      "================================================================================2022-08-11 16:16:51\n",
      "[step=10] loss: 0.051, auc: 0.995\n",
      "[step=20] loss: 0.050, auc: 0.995\n",
      "[step=30] loss: 0.050, auc: 0.995\n",
      "[step=40] loss: 0.050, auc: 0.996\n",
      "[step=50] loss: 0.050, auc: 0.996\n",
      "\n",
      "EPOCH=2, loss=0.050, auc = 0.996, val_loss=0.006, val_auc = 1.000\n",
      "\n",
      "================================================================================2022-08-11 16:18:13\n",
      "[step=10] loss: 0.048, auc: 0.996\n",
      "[step=20] loss: 0.049, auc: 0.996\n",
      "[step=30] loss: 0.048, auc: 0.996\n",
      "[step=40] loss: 0.048, auc: 0.996\n",
      "[step=50] loss: 0.049, auc: 0.996\n",
      "\n",
      "EPOCH=3, loss=0.049, auc = 0.996, val_loss=0.006, val_auc = 1.000\n",
      "\n",
      "================================================================================2022-08-11 16:19:34\n",
      "[step=10] loss: 0.048, auc: 0.996\n",
      "[step=20] loss: 0.048, auc: 0.996\n",
      "[step=30] loss: 0.048, auc: 0.996\n",
      "[step=40] loss: 0.048, auc: 0.996\n",
      "[step=50] loss: 0.048, auc: 0.996\n",
      "\n",
      "EPOCH=4, loss=0.048, auc = 0.996, val_loss=0.006, val_auc = 1.000\n",
      "\n",
      "================================================================================2022-08-11 16:20:56\n",
      "[step=10] loss: 0.047, auc: 0.996\n",
      "[step=20] loss: 0.047, auc: 0.996\n",
      "[step=30] loss: 0.046, auc: 0.996\n",
      "[step=40] loss: 0.047, auc: 0.996\n",
      "[step=50] loss: 0.047, auc: 0.996\n",
      "\n",
      "EPOCH=5, loss=0.047, auc = 0.996, val_loss=0.006, val_auc = 1.000\n",
      "\n",
      "================================================================================2022-08-11 16:22:17\n",
      "Finished Training\n"
     ]
    }
   ],
   "source": [
    "epochs = 5\n",
    "log_step_freq = 10\n",
    "\n",
    "dfhistory = pd.DataFrame(columns=['epoch', 'loss', metric_name, 'val_loss', 'val_'+metric_name])\n",
    "\n",
    "print('start_training.........')\n",
    "nowtime = datetime.datetime.now().strftime('%Y-%m-%d %H:%M:%S')\n",
    "print('========'*8 + '%s' %nowtime)\n",
    "\n",
    "for epoch in range(1, epochs+1):\n",
    "    \n",
    "    # 训练阶段\n",
    "    model.train()\n",
    "    loss_sum = 0.0\n",
    "    metric_sum = 0.0\n",
    "    step = 1\n",
    "    \n",
    "    for step, (dense_input, sparse_input, behavior_input, target_item, labels) in enumerate(dl_train, 1):\n",
    "        # 梯度清零\n",
    "        optimizer.zero_grad()\n",
    "        \n",
    "        # 正向传播\n",
    "        predictions = model([dense_input, sparse_input, behavior_input, target_item])\n",
    "        loss = loss_func(predictions, labels)\n",
    "        try:\n",
    "            metric = metric_func(predictions, labels)\n",
    "        except ValueError:\n",
    "            pass\n",
    "        \n",
    "        # 反向传播\n",
    "        loss.backward()\n",
    "        optimizer.step()\n",
    "        \n",
    "        # 打印batch级别日志\n",
    "        loss_sum += loss.item()\n",
    "        metric_sum += metric.item()\n",
    "        if step % log_step_freq == 0:\n",
    "            print((\"[step=%d] loss: %.3f, \" + metric_name + \": %.3f\") % (step, loss_sum/step, metric_sum/step));\n",
    "    \n",
    "    # 验证阶段\n",
    "    model.eval()\n",
    "    val_loss_sum = 0.0\n",
    "    val_metric_sum = 0.0\n",
    "    val_step = 1\n",
    "    \n",
    "    for val_step, (dense_input, sparse_input, behavior_input, target_item, labels) in enumerate(dl_val, 1):\n",
    "        with torch.no_grad():\n",
    "            predictions = model([dense_input, sparse_input, behavior_input, target_item])\n",
    "            val_loss = loss_func(predictions, labels)\n",
    "            try:\n",
    "                val_metric = metric_func(predictions, labels)\n",
    "            except ValueError:\n",
    "                pass\n",
    "        \n",
    "        val_loss_sum += val_loss.item()\n",
    "        val_metric_sum += val_metric.item()\n",
    "    \n",
    "    # 记录日志\n",
    "    info = (epoch, loss_sum/step, metric_sum/step, val_loss_sum/val_step, val_metric_sum/val_step)\n",
    "    dfhistory.loc[epoch-1] = info\n",
    "    \n",
    "    # 打印日志\n",
    "    print((\"\\nEPOCH=%d, loss=%.3f, \" + metric_name + \" = %.3f, val_loss=%.3f, \" + \"val_\" + metric_name + \" = %.3f\") %info)\n",
    "    nowtime = datetime.datetime.now().strftime(\"%Y-%m-%d %H:%M:%S\")\n",
    "    print('\\n' + '=========='* 8 + '%s' %nowtime)\n",
    "    \n",
    "print('Finished Training')"
   ]
  },
  {
   "cell_type": "code",
   "execution_count": 252,
   "metadata": {},
   "outputs": [
    {
     "data": {
      "image/png": "[encoded data removed]",
      "text/plain": [
       "<Figure size 432x288 with 1 Axes>"
      ]
     },
     "metadata": {
      "needs_background": "light"
     },
     "output_type": "display_data"
    },
    {
     "data": {
      "image/png": "[encoded data removed]",
      "text/plain": [
       "<Figure size 432x288 with 1 Axes>"
      ]
     },
     "metadata": {
      "needs_background": "light"
     },
     "output_type": "display_data"
    }
   ],
   "source": [
    "import matplotlib.pyplot as plt\n",
    "def plot_metric(dfhistory, metric):\n",
    "    train_metrics = dfhistory[metric]\n",
    "    val_metrics = dfhistory['val_'+metric]\n",
    "    epochs = range(1, len(train_metrics) + 1)\n",
    "    plt.plot(epochs, train_metrics, 'bo--')\n",
    "    plt.plot(epochs, val_metrics, 'ro-')\n",
    "    plt.title('Training and validation '+ metric)\n",
    "    plt.xlabel(\"Epochs\")\n",
    "    plt.ylabel(metric)\n",
    "    plt.legend([\"train_\"+metric, 'val_'+metric])\n",
    "    plt.show()\n",
    "\n",
    "\n",
    "# 观察损失和准确率的变化\n",
    "plot_metric(dfhistory,\"loss\")\n",
    "plot_metric(dfhistory,\"auc\")"
   ]
  },
  {
   "cell_type": "code",
   "execution_count": 255,
   "metadata": {},
   "outputs": [
    {
     "name": "stdout",
     "output_type": "stream",
     "text": [
      "test_auc:0.504, test_acc:0.500\n"
     ]
    }
   ],
   "source": [
    "# 预测\n",
    "y_pred_probs = model([torch.tensor(test_X[0].reshape(-1,1)).float(), torch.tensor(test_X[1].reshape(-1,1)).float(), torch.tensor(test_X[2]).float(), torch.tensor(test_X[3]).float()])\n",
    "y_pred = torch.where(y_pred_probs>0.5, torch.ones_like(y_pred_probs), torch.zeros_like(y_pred_probs))\n",
    "test_auc = auc(y_pred_probs.data.numpy(), test_y)\n",
    "test_acc = accuracy_score(test_y, y_pred.data.numpy())\n",
    "print('test_auc:%.3f, test_acc:%.3f'%(test_auc, test_acc))"
   ]
  },
  {
   "cell_type": "code",
   "execution_count": null,
   "metadata": {},
   "outputs": [],
   "source": []
  }
 ],
 "metadata": {
  "kernelspec": {
   "display_name": "Python 3 (ipykernel)",
   "language": "python",
   "name": "python3"
  },
  "language_info": {
   "codemirror_mode": {
    "name": "ipython",
    "version": 3
   },
   "file_extension": ".py",
   "mimetype": "text/x-python",
   "name": "python",
   "nbconvert_exporter": "python",
   "pygments_lexer": "ipython3",
   "version": "3.7.0"
  }
 },
 "nbformat": 4,
 "nbformat_minor": 4
}
