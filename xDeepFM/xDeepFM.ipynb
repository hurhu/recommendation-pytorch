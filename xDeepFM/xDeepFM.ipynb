{
 "cells": [
  {
   "cell_type": "code",
   "execution_count": 1,
   "id": "32ca1c52",
   "metadata": {},
   "outputs": [],
   "source": [
    "from sklearn.metrics import log_loss, roc_auc_score\n",
    "from sklearn.preprocessing import LabelEncoder, MinMaxScaler\n",
    "from sklearn.model_selection import train_test_split\n",
    "import torch"
   ]
  },
  {
   "cell_type": "code",
   "execution_count": 3,
   "id": "cf8b955c",
   "metadata": {},
   "outputs": [],
   "source": [
    "import numpy as np\n",
    "import pandas as pd"
   ]
  },
  {
   "cell_type": "code",
   "execution_count": 5,
   "id": "4483cf3a",
   "metadata": {},
   "outputs": [],
   "source": [
    "data = pd.read_csv('./criteo_sample.txt')\n",
    "sparse_features = ['C'+str(i) for i in range(1,27)]\n",
    "dense_features = ['I'+str(i) for i in range(1,14)]\n",
    "data[sparse_features] = data[sparse_features].fillna('-1')\n",
    "data[dense_features] = data[dense_features].fillna(0)"
   ]
  },
  {
   "cell_type": "code",
   "execution_count": 6,
   "id": "fbc0f519",
   "metadata": {},
   "outputs": [],
   "source": [
    "target = ['label']\n",
    "for feat in sparse_features:\n",
    "    lbe = LabelEncoder()\n",
    "    data[feat] = lbe.fit_transform(data[feat])\n",
    "mms = MinMaxScaler(feature_range=(0,1))\n",
    "data[dense_features] = mms.fit_transform(data[dense_features])"
   ]
  },
  {
   "cell_type": "code",
   "execution_count": 7,
   "id": "f7b8ce76",
   "metadata": {},
   "outputs": [
    {
     "name": "stdout",
     "output_type": "stream",
     "text": [
      "[[{'feat': 'I1'}, {'feat': 'I2'}, {'feat': 'I3'}, {'feat': 'I4'}, {'feat': 'I5'}, {'feat': 'I6'}, {'feat': 'I7'}, {'feat': 'I8'}, {'feat': 'I9'}, {'feat': 'I10'}, {'feat': 'I11'}, {'feat': 'I12'}, {'feat': 'I13'}], [{'feat': 'C1', 'feat_num': 27, 'embed_dim': 8}, {'feat': 'C2', 'feat_num': 92, 'embed_dim': 8}, {'feat': 'C3', 'feat_num': 172, 'embed_dim': 8}, {'feat': 'C4', 'feat_num': 157, 'embed_dim': 8}, {'feat': 'C5', 'feat_num': 12, 'embed_dim': 8}, {'feat': 'C6', 'feat_num': 7, 'embed_dim': 8}, {'feat': 'C7', 'feat_num': 183, 'embed_dim': 8}, {'feat': 'C8', 'feat_num': 19, 'embed_dim': 8}, {'feat': 'C9', 'feat_num': 2, 'embed_dim': 8}, {'feat': 'C10', 'feat_num': 142, 'embed_dim': 8}, {'feat': 'C11', 'feat_num': 173, 'embed_dim': 8}, {'feat': 'C12', 'feat_num': 170, 'embed_dim': 8}, {'feat': 'C13', 'feat_num': 166, 'embed_dim': 8}, {'feat': 'C14', 'feat_num': 14, 'embed_dim': 8}, {'feat': 'C15', 'feat_num': 170, 'embed_dim': 8}, {'feat': 'C16', 'feat_num': 168, 'embed_dim': 8}, {'feat': 'C17', 'feat_num': 9, 'embed_dim': 8}, {'feat': 'C18', 'feat_num': 127, 'embed_dim': 8}, {'feat': 'C19', 'feat_num': 44, 'embed_dim': 8}, {'feat': 'C20', 'feat_num': 4, 'embed_dim': 8}, {'feat': 'C21', 'feat_num': 169, 'embed_dim': 8}, {'feat': 'C22', 'feat_num': 6, 'embed_dim': 8}, {'feat': 'C23', 'feat_num': 10, 'embed_dim': 8}, {'feat': 'C24', 'feat_num': 125, 'embed_dim': 8}, {'feat': 'C25', 'feat_num': 20, 'embed_dim': 8}, {'feat': 'C26', 'feat_num': 90, 'embed_dim': 8}]]\n",
      "(140, 40) (60, 40)\n"
     ]
    }
   ],
   "source": [
    "def sparseFeature(feat, feat_num, embed_dim=4):\n",
    "    return {'feat':feat, 'feat_num':feat_num, 'embed_dim':embed_dim}\n",
    "def denseFeature(feat):\n",
    "    return {'feat':feat}\n",
    "embed_dim = 8\n",
    "feature_columns = [[denseFeature(feat) for feat in dense_features]] + [[sparseFeature(feat, len(data[feat].unique()), embed_dim=embed_dim) for feat in sparse_features]]\n",
    "\n",
    "train_data, val_data = train_test_split(data, test_size=0.3, random_state=2020)\n",
    "train_data.reset_index(drop=True, inplace=True)\n",
    "val_data.reset_index(drop=True, inplace=True)\n",
    "print(feature_columns)\n",
    "print(train_data.shape, val_data.shape)"
   ]
  },
  {
   "cell_type": "code",
   "execution_count": 8,
   "id": "a4659aad",
   "metadata": {},
   "outputs": [],
   "source": [
    "from torch.utils.data import DataLoader, Dataset, TensorDataset\n",
    "import torch.nn as nn\n",
    "import torch.nn.functional as F\n",
    "import torch.optim as optim"
   ]
  },
  {
   "cell_type": "code",
   "execution_count": 57,
   "id": "688f0c20",
   "metadata": {},
   "outputs": [
    {
     "name": "stdout",
     "output_type": "stream",
     "text": [
      "torch.Size([32, 39]) tensor([0., 1., 0., 0., 1., 0., 1., 1., 1., 0., 0., 1., 0., 0., 0., 0., 0., 0.,\n",
      "        0., 0., 1., 0., 0., 0., 0., 0., 0., 0., 0., 0., 1., 0.])\n",
      "torch.Size([32])\n"
     ]
    }
   ],
   "source": [
    "trn_x = train_data.drop('label', axis=1).values\n",
    "trn_y = train_data['label'].values\n",
    "val_x = val_data.drop('label', axis=1).values\n",
    "val_y = val_data['label'].values\n",
    "dl_train_dataset = TensorDataset(torch.tensor(trn_x).float(), torch.tensor(trn_y).float())\n",
    "dl_val_dataset = TensorDataset(torch.tensor(val_x).float(), torch.tensor(val_y).float())\n",
    "\n",
    "dl_train = DataLoader(dl_train_dataset, shuffle=True, batch_size=32)\n",
    "dl_val = DataLoader(dl_val_dataset, shuffle=True, batch_size=32)\n",
    "\n",
    "for b in iter(dl_train):\n",
    "    print(b[0].shape, b[1])\n",
    "    print(b[1].shape)\n",
    "    break"
   ]
  },
  {
   "cell_type": "code",
   "execution_count": 10,
   "id": "39c39cee",
   "metadata": {},
   "outputs": [],
   "source": [
    "class CIN(nn.Module):\n",
    "    def __init__(self, field_size, layer_size=(128,128), activation='relu'):\n",
    "        super(CIN, self).__init__()\n",
    "        self.layer_size = layer_size\n",
    "        self.field_nums = [field_size]\n",
    "        if activation == 'relu':\n",
    "            self.activation = nn.ReLU(inplace=True)\n",
    "        elif activation == 'prelu':\n",
    "            self.activation = nn.PReLU()\n",
    "        elif activation == 'sigmoid':\n",
    "            self.activation = nn.Sigmoid()\n",
    "        self.conv1ds = nn.ModuleList()\n",
    "        for i, size in enumerate(self.layer_size):\n",
    "            self.conv1ds.append(nn.Conv1d(self.field_nums[-1]*self.field_nums[0], size, 1))\n",
    "            self.field_nums.append(size)\n",
    "    def forward(self, inputs):\n",
    "        if len(inputs.shape) != 3:\n",
    "            raise  ValueError('Unexpected inputs dimensions %d,expect to be 3 dimensions' % (len(inputs.shape)))\n",
    "        batch_size = inputs.shape[0]\n",
    "        dim = inputs.shape[-1]\n",
    "        hidden_nn_layers = [inputs]\n",
    "        final_result = []\n",
    "        \n",
    "        for i, size in enumerate(self.layer_size):\n",
    "            #x^(k-1)*x^0\n",
    "            x = torch.einsum('bhd,bmd->bhmd', hidden_nn_layers[-1], hidden_nn_layers[0])\n",
    "            #x.shape = (batch_size, hi*m, dim)\n",
    "            x = x.reshape(batch_size, hidden_nn_layers[-1].shape[1] * hidden_nn_layers[0].shape[1], dim)\n",
    "            x = self.conv1ds[i](x)\n",
    "            if self.activation is None:\n",
    "                curr_out = x\n",
    "            else:\n",
    "                curr_out = self.activation(x)\n",
    "            direct_connect = curr_out\n",
    "            next_hidden = curr_out\n",
    "            \n",
    "            final_result.append(direct_connect)\n",
    "            hidden_nn_layers.append(next_hidden)\n",
    "        \n",
    "        result = torch.cat(final_result, dim=1)\n",
    "        result = torch.sum(result, -1)\n",
    "        return result"
   ]
  },
  {
   "cell_type": "code",
   "execution_count": 15,
   "id": "17dbc804",
   "metadata": {},
   "outputs": [],
   "source": [
    "class Dnn(nn.Module):\n",
    "    def __init__(self, hidden_units):\n",
    "        super(Dnn, self).__init__()\n",
    "        self.dnn_network = nn.ModuleList([nn.Linear(layer[0], layer[1]) for layer in list(zip(hidden_units[:-1], hidden_units[1:]))])\n",
    "    def forward(self, x):\n",
    "        for linear in self.dnn_network:\n",
    "            x = linear(x)\n",
    "            x = F.relu(x)\n",
    "        return x"
   ]
  },
  {
   "cell_type": "code",
   "execution_count": 59,
   "id": "9bd75996",
   "metadata": {},
   "outputs": [],
   "source": [
    "class xDeepFM(nn.Module):\n",
    "    def __init__(self, feature_columns, linear_output_size, dnn_hidden_units=[256, 256], cin_layer_size=[256, 128], cin_activation='relu'):\n",
    "        super(xDeepFM, self).__init__()\n",
    "        self.dnn_hidden_units = dnn_hidden_units\n",
    "        self.dense_feature_cols, self.sparse_feature_cols = feature_columns\n",
    "        self.linear_output_size = linear_output_size\n",
    "        \n",
    "        #embedding\n",
    "        self.embed_layers = nn.ModuleDict({\n",
    "            'embed_'+str(i):nn.Embedding(num_embeddings=feat['feat_num'], embedding_dim=feat['embed_dim']) for i, feat in enumerate(self.sparse_feature_cols)\n",
    "        })\n",
    "        feature_len = len(self.dense_feature_cols) + len(self.sparse_feature_cols) * self.sparse_feature_cols[0]['embed_dim']\n",
    "        dnn_hidden_units.insert(0, len(self.dense_feature_cols) + len(self.sparse_feature_cols) * self.sparse_feature_cols[0]['embed_dim'])\n",
    "        self.dnn_network = Dnn(dnn_hidden_units)\n",
    "        self.final_linear = nn.Linear(dnn_hidden_units[-1], 1)\n",
    "        \n",
    "        \n",
    "        self.cin_layer_size = cin_layer_size\n",
    "        field_num = len(self.sparse_feature_cols)\n",
    "        self.featuremap_num = sum(cin_layer_size)\n",
    "        self.cin = CIN(field_num, cin_layer_size, cin_activation)\n",
    "        self.cin_linear = nn.Linear(self.featuremap_num, 1)\n",
    "        \n",
    "        self.linear_model = nn.Linear(feature_len, linear_output_size)\n",
    "        \n",
    "    def forward(self, x):\n",
    "        batch_size = x.shape[0]\n",
    "        dense_input, sparse_inputs = x[:, :len(self.dense_feature_cols)], x[:, len(self.dense_feature_cols):]\n",
    "#         print('dense_input:', dense_input.shape)\n",
    "#         print('sparse_inputs:', sparse_inputs.shape)\n",
    "        sparse_inputs = sparse_inputs.long()\n",
    "        sparse_embeds = [self.embed_layers['embed_'+str(i)](sparse_inputs[:,i]) for i in range(sparse_inputs.shape[1])]\n",
    "#         print('spar')\n",
    "#                 sparse_embeds = [self.embed_layers['embed_'+str(i)](sparse_inputs[:,i]) for i in range(sparse_inputs.shape[1])]\n",
    "        dnn_sparse_embeds = torch.cat(sparse_embeds, -1)\n",
    "        \n",
    "        dnn_input = torch.cat([dnn_sparse_embeds, dense_input], -1)\n",
    "        \n",
    "        #Linear 部分\n",
    "        linear_out = self.linear_model(dnn_input)\n",
    "        \n",
    "        #deep部分\n",
    "        deep_out = self.dnn_network(dnn_input)\n",
    "        deep_out = self.final_linear(deep_out)\n",
    "        \n",
    "        #cin部分\n",
    "#         print('sparse_embeds', len(sparse_embeds), sparse_embeds[0].shape)\n",
    "        cin_input = torch.cat(sparse_embeds, 1)\n",
    "        cin_input = cin_input.reshape(batch_size, -1, 8)\n",
    "#         print('cin_input', cin_input.shape)\n",
    "        cin_output = self.cin(cin_input)\n",
    "        cin_output = self.cin_linear(cin_output)\n",
    "        \n",
    "        final_output = linear_out + deep_out + cin_output\n",
    "        final_output = torch.sigmoid(final_output)\n",
    "        return final_output"
   ]
  },
  {
   "cell_type": "code",
   "execution_count": 66,
   "id": "a3dc71b0",
   "metadata": {},
   "outputs": [
    {
     "data": {
      "text/plain": [
       "xDeepFM(\n",
       "  (embed_layers): ModuleDict(\n",
       "    (embed_0): Embedding(27, 8)\n",
       "    (embed_1): Embedding(92, 8)\n",
       "    (embed_2): Embedding(172, 8)\n",
       "    (embed_3): Embedding(157, 8)\n",
       "    (embed_4): Embedding(12, 8)\n",
       "    (embed_5): Embedding(7, 8)\n",
       "    (embed_6): Embedding(183, 8)\n",
       "    (embed_7): Embedding(19, 8)\n",
       "    (embed_8): Embedding(2, 8)\n",
       "    (embed_9): Embedding(142, 8)\n",
       "    (embed_10): Embedding(173, 8)\n",
       "    (embed_11): Embedding(170, 8)\n",
       "    (embed_12): Embedding(166, 8)\n",
       "    (embed_13): Embedding(14, 8)\n",
       "    (embed_14): Embedding(170, 8)\n",
       "    (embed_15): Embedding(168, 8)\n",
       "    (embed_16): Embedding(9, 8)\n",
       "    (embed_17): Embedding(127, 8)\n",
       "    (embed_18): Embedding(44, 8)\n",
       "    (embed_19): Embedding(4, 8)\n",
       "    (embed_20): Embedding(169, 8)\n",
       "    (embed_21): Embedding(6, 8)\n",
       "    (embed_22): Embedding(10, 8)\n",
       "    (embed_23): Embedding(125, 8)\n",
       "    (embed_24): Embedding(20, 8)\n",
       "    (embed_25): Embedding(90, 8)\n",
       "  )\n",
       "  (dnn_network): Dnn(\n",
       "    (dnn_network): ModuleList(\n",
       "      (0): Linear(in_features=221, out_features=128, bias=True)\n",
       "      (1): Linear(in_features=128, out_features=64, bias=True)\n",
       "    )\n",
       "  )\n",
       "  (final_linear): Linear(in_features=64, out_features=1, bias=True)\n",
       "  (cin): CIN(\n",
       "    (activation): ReLU(inplace=True)\n",
       "    (conv1ds): ModuleList(\n",
       "      (0): Conv1d(676, 256, kernel_size=(1,), stride=(1,))\n",
       "      (1): Conv1d(6656, 128, kernel_size=(1,), stride=(1,))\n",
       "    )\n",
       "  )\n",
       "  (cin_linear): Linear(in_features=384, out_features=1, bias=True)\n",
       "  (linear_model): Linear(in_features=221, out_features=1, bias=True)\n",
       ")"
      ]
     },
     "execution_count": 66,
     "metadata": {},
     "output_type": "execute_result"
    }
   ],
   "source": [
    "linear_output_size = 1\n",
    "dnn_hidden_units = [128, 64]\n",
    "cin_layer_size = [256, 128]\n",
    "model = xDeepFM(feature_columns=feature_columns, linear_output_size=linear_output_size, dnn_hidden_units=dnn_hidden_units, cin_layer_size=cin_layer_size)\n",
    "model"
   ]
  },
  {
   "cell_type": "code",
   "execution_count": 67,
   "id": "a0238d28",
   "metadata": {},
   "outputs": [
    {
     "name": "stdout",
     "output_type": "stream",
     "text": [
      "tensor([[0.7632],\n",
      "        [0.8361],\n",
      "        [0.7483],\n",
      "        [0.8745],\n",
      "        [0.8159],\n",
      "        [0.9355],\n",
      "        [0.8084],\n",
      "        [0.8073],\n",
      "        [0.8993],\n",
      "        [0.8410],\n",
      "        [0.8483],\n",
      "        [0.7955],\n",
      "        [0.7476],\n",
      "        [0.8045],\n",
      "        [0.8451],\n",
      "        [0.8379],\n",
      "        [0.8368],\n",
      "        [0.8029],\n",
      "        [0.8928],\n",
      "        [0.7430],\n",
      "        [0.6447],\n",
      "        [0.7814],\n",
      "        [0.6495],\n",
      "        [0.7623],\n",
      "        [0.6720],\n",
      "        [0.7676],\n",
      "        [0.8685],\n",
      "        [0.6830],\n",
      "        [0.7281],\n",
      "        [0.7165],\n",
      "        [0.7984],\n",
      "        [0.7805]], grad_fn=<SigmoidBackward0>)\n"
     ]
    }
   ],
   "source": [
    "#测试一下模型\n",
    "for fea, label in iter(dl_train):\n",
    "    out = model(fea)\n",
    "    print(out)\n",
    "    break"
   ]
  },
  {
   "cell_type": "code",
   "execution_count": 68,
   "id": "c9453005",
   "metadata": {},
   "outputs": [],
   "source": [
    "def auc(y_pred, y_true):\n",
    "    pred = y_pred.data\n",
    "    y = y_true.data\n",
    "    return roc_auc_score(y, pred)\n",
    "\n",
    "loss_func = nn.BCELoss()\n",
    "optimizer = torch.optim.Adam(params=model.parameters(), lr=0.001)\n",
    "metric_func = auc\n",
    "metric_name = 'auc'\n",
    "import datetime"
   ]
  },
  {
   "cell_type": "code",
   "execution_count": 69,
   "id": "483424ed",
   "metadata": {},
   "outputs": [
    {
     "name": "stdout",
     "output_type": "stream",
     "text": [
      "start_training.........\n",
      "================================================================2022-09-27 16:24:44\n",
      "\n",
      "EPOCH=1, loss=1.179, auc = 0.470, val_loss=0.728, val_auc = 0.485\n",
      "\n",
      "================================================================================2022-09-27 16:24:44\n",
      "\n",
      "EPOCH=2, loss=0.301, auc = 0.977, val_loss=0.709, val_auc = 0.574\n",
      "\n",
      "================================================================================2022-09-27 16:24:44\n",
      "\n",
      "EPOCH=3, loss=0.042, auc = 1.000, val_loss=0.960, val_auc = 0.582\n",
      "\n",
      "================================================================================2022-09-27 16:24:45\n",
      "\n",
      "EPOCH=4, loss=0.040, auc = 1.000, val_loss=1.099, val_auc = 0.585\n",
      "\n",
      "================================================================================2022-09-27 16:24:45\n",
      "\n",
      "EPOCH=5, loss=0.014, auc = 1.000, val_loss=1.087, val_auc = 0.529\n",
      "\n",
      "================================================================================2022-09-27 16:24:45\n",
      "\n",
      "EPOCH=6, loss=0.005, auc = 1.000, val_loss=1.059, val_auc = 0.621\n",
      "\n",
      "================================================================================2022-09-27 16:24:46\n",
      "\n",
      "EPOCH=7, loss=0.003, auc = 1.000, val_loss=1.048, val_auc = 0.614\n",
      "\n",
      "================================================================================2022-09-27 16:24:46\n",
      "\n",
      "EPOCH=8, loss=0.003, auc = 1.000, val_loss=1.097, val_auc = 0.662\n",
      "\n",
      "================================================================================2022-09-27 16:24:46\n",
      "\n",
      "EPOCH=9, loss=0.002, auc = 1.000, val_loss=1.067, val_auc = 0.573\n",
      "\n",
      "================================================================================2022-09-27 16:24:47\n",
      "\n",
      "EPOCH=10, loss=0.002, auc = 1.000, val_loss=1.117, val_auc = 0.604\n",
      "\n",
      "================================================================================2022-09-27 16:24:47\n",
      "Finished Training\n"
     ]
    }
   ],
   "source": [
    "epochs = 10\n",
    "log_step_freq = 10\n",
    "\n",
    "dfhistory = pd.DataFrame(columns=['epoch', 'loss', metric_name, 'val_loss', 'val_'+metric_name])\n",
    "\n",
    "print('start_training.........')\n",
    "nowtime = datetime.datetime.now().strftime('%Y-%m-%d %H:%M:%S')\n",
    "print('========'*8 + '%s' %nowtime)\n",
    "\n",
    "for epoch in range(1, epochs+1):\n",
    "    \n",
    "    # 训练阶段\n",
    "    model.train()\n",
    "    loss_sum = 0.0\n",
    "    metric_sum = 0.0\n",
    "    step = 1\n",
    "    \n",
    "    for step, (features, labels) in enumerate(dl_train, 1):\n",
    "        # 梯度清零\n",
    "        optimizer.zero_grad()\n",
    "        \n",
    "        # 正向传播\n",
    "        predictions = model(features).reshape(-1)\n",
    "#         print('predictions', predictions.shape, labels.shape)\n",
    "        loss = loss_func(predictions, labels)\n",
    "        try:\n",
    "            metric = metric_func(predictions, labels)\n",
    "        except ValueError:\n",
    "            pass\n",
    "        \n",
    "        # 反向传播\n",
    "        loss.backward()\n",
    "        optimizer.step()\n",
    "        \n",
    "        # 打印batch级别日志\n",
    "        loss_sum += loss.item()\n",
    "        metric_sum += metric.item()\n",
    "        if step % log_step_freq == 0:\n",
    "            print((\"[step=%d] loss: %.3f, \" + metric_name + \": %.3f\") % (step, loss_sum/step, metric_sum/step));\n",
    "    \n",
    "    # 验证阶段\n",
    "    model.eval()\n",
    "    val_loss_sum = 0.0\n",
    "    val_metric_sum = 0.0\n",
    "    val_step = 1\n",
    "    \n",
    "    for val_step, (features, labels) in enumerate(dl_val, 1):\n",
    "        with torch.no_grad():\n",
    "            predictions = model(features).reshape(-1)\n",
    "            val_loss = loss_func(predictions, labels)\n",
    "            try:\n",
    "                val_metric = metric_func(predictions, labels)\n",
    "            except ValueError:\n",
    "                pass\n",
    "        \n",
    "        val_loss_sum += val_loss.item()\n",
    "        val_metric_sum += val_metric.item()\n",
    "    \n",
    "    # 记录日志\n",
    "    info = (epoch, loss_sum/step, metric_sum/step, val_loss_sum/val_step, val_metric_sum/val_step)\n",
    "    dfhistory.loc[epoch-1] = info\n",
    "    \n",
    "    # 打印日志\n",
    "    print((\"\\nEPOCH=%d, loss=%.3f, \" + metric_name + \" = %.3f, val_loss=%.3f, \" + \"val_\" + metric_name + \" = %.3f\") %info)\n",
    "    nowtime = datetime.datetime.now().strftime(\"%Y-%m-%d %H:%M:%S\")\n",
    "    print('\\n' + '=========='* 8 + '%s' %nowtime)\n",
    "    \n",
    "print('Finished Training')"
   ]
  },
  {
   "cell_type": "code",
   "execution_count": 70,
   "id": "8df24918",
   "metadata": {},
   "outputs": [
    {
     "name": "stderr",
     "output_type": "stream",
     "text": [
      "d:\\anaconda\\lib\\site-packages\\matplotlib\\cbook\\__init__.py:2064: FutureWarning: Support for multi-dimensional indexing (e.g. `obj[:, None]`) is deprecated and will be removed in a future version.  Convert to a numpy array before indexing instead.\n",
      "  x[:, None]\n",
      "d:\\anaconda\\lib\\site-packages\\matplotlib\\axes\\_base.py:250: FutureWarning: Support for multi-dimensional indexing (e.g. `obj[:, None]`) is deprecated and will be removed in a future version.  Convert to a numpy array before indexing instead.\n",
      "  y = y[:, np.newaxis]\n"
     ]
    },
    {
     "data": {
      "image/png": "[encoded data removed]",
      "text/plain": [
       "<Figure size 640x480 with 1 Axes>"
      ]
     },
     "metadata": {},
     "output_type": "display_data"
    },
    {
     "data": {
      "image/png": "[encoded data removed]",
      "text/plain": [
       "<Figure size 640x480 with 1 Axes>"
      ]
     },
     "metadata": {},
     "output_type": "display_data"
    }
   ],
   "source": [
    "import matplotlib.pyplot as plt\n",
    "%matplotlib inline\n",
    "def plot_metric(dfhistory, metric):\n",
    "    train_metrics = dfhistory[metric]\n",
    "    val_metrics = dfhistory['val_'+metric]\n",
    "    epochs = range(1, len(train_metrics) + 1)\n",
    "    plt.plot(epochs, train_metrics, 'bo--')\n",
    "    plt.plot(epochs, val_metrics, 'ro-')\n",
    "    plt.title('Training and validation '+ metric)\n",
    "    plt.xlabel(\"Epochs\")\n",
    "    plt.ylabel(metric)\n",
    "    plt.legend([\"train_\"+metric, 'val_'+metric])\n",
    "    plt.show()\n",
    "\n",
    "\n",
    "# 观察损失和准确率的变化,看loss 可以看到过拟合\n",
    "plot_metric(dfhistory,\"loss\")\n",
    "plot_metric(dfhistory,\"auc\")"
   ]
  },
  {
   "cell_type": "code",
   "execution_count": null,
   "id": "596ff221",
   "metadata": {},
   "outputs": [],
   "source": []
  }
 ],
 "metadata": {
  "kernelspec": {
   "display_name": "Python 3 (ipykernel)",
   "language": "python",
   "name": "python3"
  },
  "language_info": {
   "codemirror_mode": {
    "name": "ipython",
    "version": 3
   },
   "file_extension": ".py",
   "mimetype": "text/x-python",
   "name": "python",
   "nbconvert_exporter": "python",
   "pygments_lexer": "ipython3",
   "version": "3.7.0"
  }
 },
 "nbformat": 4,
 "nbformat_minor": 5
}
