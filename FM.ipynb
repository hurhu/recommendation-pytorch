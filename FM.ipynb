{
 "cells": [
  {
   "cell_type": "code",
   "execution_count": 15,
   "metadata": {},
   "outputs": [],
   "source": [
    "import torch\n",
    "import torch.nn as nn\n",
    "import torch.optim as optim\n",
    "from torch.utils.data import Dataset, DataLoader\n",
    "import torch.nn.functional as F\n",
    "import pandas as pd\n",
    "import numpy as np\n",
    "from sklearn import datasets\n",
    "from sklearn.model_selection import train_test_split"
   ]
  },
  {
   "cell_type": "code",
   "execution_count": 60,
   "metadata": {},
   "outputs": [],
   "source": [
    "from sklearn.metrics import roc_auc_score\n",
    "import random\n",
    "import os"
   ]
  },
  {
   "cell_type": "markdown",
   "metadata": {},
   "source": [
    "## 构建数据"
   ]
  },
  {
   "cell_type": "code",
   "execution_count": 5,
   "metadata": {},
   "outputs": [],
   "source": [
    "iris = datasets.load_iris()\n",
    "X = iris['data']\n",
    "y = iris['target']\n",
    "X = X[y!=2]\n",
    "y = y[y!=2]\n",
    "X_train, X_test, y_train, y_test = train_test_split(X, y)"
   ]
  },
  {
   "cell_type": "code",
   "execution_count": 6,
   "metadata": {},
   "outputs": [],
   "source": [
    "train_df = pd.DataFrame(X_train, columns=['a', 'b', 'c', 'd'])\n",
    "test_df = pd.DataFrame(X_test, columns=['a', 'b', 'c', 'd'])\n",
    "train_df['label'] = pd.Series(y_train)\n",
    "test_df['label'] = pd.Series(y_test)"
   ]
  },
  {
   "cell_type": "code",
   "execution_count": 7,
   "metadata": {},
   "outputs": [
    {
     "data": {
      "text/html": [
       "<div>\n",
       "<style scoped>\n",
       "    .dataframe tbody tr th:only-of-type {\n",
       "        vertical-align: middle;\n",
       "    }\n",
       "\n",
       "    .dataframe tbody tr th {\n",
       "        vertical-align: top;\n",
       "    }\n",
       "\n",
       "    .dataframe thead th {\n",
       "        text-align: right;\n",
       "    }\n",
       "</style>\n",
       "<table border=\"1\" class=\"dataframe\">\n",
       "  <thead>\n",
       "    <tr style=\"text-align: right;\">\n",
       "      <th></th>\n",
       "      <th>a</th>\n",
       "      <th>b</th>\n",
       "      <th>c</th>\n",
       "      <th>d</th>\n",
       "      <th>label</th>\n",
       "    </tr>\n",
       "  </thead>\n",
       "  <tbody>\n",
       "    <tr>\n",
       "      <th>0</th>\n",
       "      <td>6.7</td>\n",
       "      <td>3.0</td>\n",
       "      <td>5.0</td>\n",
       "      <td>1.7</td>\n",
       "      <td>1</td>\n",
       "    </tr>\n",
       "    <tr>\n",
       "      <th>1</th>\n",
       "      <td>5.9</td>\n",
       "      <td>3.2</td>\n",
       "      <td>4.8</td>\n",
       "      <td>1.8</td>\n",
       "      <td>1</td>\n",
       "    </tr>\n",
       "    <tr>\n",
       "      <th>2</th>\n",
       "      <td>4.9</td>\n",
       "      <td>2.4</td>\n",
       "      <td>3.3</td>\n",
       "      <td>1.0</td>\n",
       "      <td>1</td>\n",
       "    </tr>\n",
       "    <tr>\n",
       "      <th>3</th>\n",
       "      <td>6.1</td>\n",
       "      <td>2.8</td>\n",
       "      <td>4.7</td>\n",
       "      <td>1.2</td>\n",
       "      <td>1</td>\n",
       "    </tr>\n",
       "    <tr>\n",
       "      <th>4</th>\n",
       "      <td>6.4</td>\n",
       "      <td>3.2</td>\n",
       "      <td>4.5</td>\n",
       "      <td>1.5</td>\n",
       "      <td>1</td>\n",
       "    </tr>\n",
       "  </tbody>\n",
       "</table>\n",
       "</div>"
      ],
      "text/plain": [
       "     a    b    c    d  label\n",
       "0  6.7  3.0  5.0  1.7      1\n",
       "1  5.9  3.2  4.8  1.8      1\n",
       "2  4.9  2.4  3.3  1.0      1\n",
       "3  6.1  2.8  4.7  1.2      1\n",
       "4  6.4  3.2  4.5  1.5      1"
      ]
     },
     "execution_count": 7,
     "metadata": {},
     "output_type": "execute_result"
    }
   ],
   "source": [
    "train_df.head()"
   ]
  },
  {
   "cell_type": "code",
   "execution_count": 8,
   "metadata": {},
   "outputs": [
    {
     "data": {
      "text/html": [
       "<div>\n",
       "<style scoped>\n",
       "    .dataframe tbody tr th:only-of-type {\n",
       "        vertical-align: middle;\n",
       "    }\n",
       "\n",
       "    .dataframe tbody tr th {\n",
       "        vertical-align: top;\n",
       "    }\n",
       "\n",
       "    .dataframe thead th {\n",
       "        text-align: right;\n",
       "    }\n",
       "</style>\n",
       "<table border=\"1\" class=\"dataframe\">\n",
       "  <thead>\n",
       "    <tr style=\"text-align: right;\">\n",
       "      <th></th>\n",
       "      <th>a</th>\n",
       "      <th>b</th>\n",
       "      <th>c</th>\n",
       "      <th>d</th>\n",
       "      <th>label</th>\n",
       "    </tr>\n",
       "  </thead>\n",
       "  <tbody>\n",
       "    <tr>\n",
       "      <th>0</th>\n",
       "      <td>4.9</td>\n",
       "      <td>3.1</td>\n",
       "      <td>1.5</td>\n",
       "      <td>0.1</td>\n",
       "      <td>0</td>\n",
       "    </tr>\n",
       "    <tr>\n",
       "      <th>1</th>\n",
       "      <td>5.3</td>\n",
       "      <td>3.7</td>\n",
       "      <td>1.5</td>\n",
       "      <td>0.2</td>\n",
       "      <td>0</td>\n",
       "    </tr>\n",
       "    <tr>\n",
       "      <th>2</th>\n",
       "      <td>6.6</td>\n",
       "      <td>2.9</td>\n",
       "      <td>4.6</td>\n",
       "      <td>1.3</td>\n",
       "      <td>1</td>\n",
       "    </tr>\n",
       "    <tr>\n",
       "      <th>3</th>\n",
       "      <td>6.0</td>\n",
       "      <td>3.4</td>\n",
       "      <td>4.5</td>\n",
       "      <td>1.6</td>\n",
       "      <td>1</td>\n",
       "    </tr>\n",
       "    <tr>\n",
       "      <th>4</th>\n",
       "      <td>5.2</td>\n",
       "      <td>3.5</td>\n",
       "      <td>1.5</td>\n",
       "      <td>0.2</td>\n",
       "      <td>0</td>\n",
       "    </tr>\n",
       "  </tbody>\n",
       "</table>\n",
       "</div>"
      ],
      "text/plain": [
       "     a    b    c    d  label\n",
       "0  4.9  3.1  1.5  0.1      0\n",
       "1  5.3  3.7  1.5  0.2      0\n",
       "2  6.6  2.9  4.6  1.3      1\n",
       "3  6.0  3.4  4.5  1.6      1\n",
       "4  5.2  3.5  1.5  0.2      0"
      ]
     },
     "execution_count": 8,
     "metadata": {},
     "output_type": "execute_result"
    }
   ],
   "source": [
    "test_df.head()"
   ]
  },
  {
   "cell_type": "code",
   "execution_count": 12,
   "metadata": {},
   "outputs": [],
   "source": [
    "device = torch.device('cuda:1' if torch.cuda.is_available() else 'cpu')\n",
    "batch_size = 10\n",
    "num_workers = 4\n",
    "lr = 1e-4\n",
    "epochs = 20"
   ]
  },
  {
   "cell_type": "code",
   "execution_count": 10,
   "metadata": {},
   "outputs": [],
   "source": [
    "class MyDataset(Dataset):\n",
    "    def __init__(self, df):\n",
    "        self.df = df\n",
    "        self.X = df.loc[:, ['a', 'b', 'c', 'd']].values\n",
    "        self.y = df.loc[:, 'label'].values\n",
    "    def __len__(self):\n",
    "        return len(self.X)\n",
    "    def __getitem__(self, idx):\n",
    "        data_x = self.X[idx]\n",
    "        data_y = self.y[idx]\n",
    "        return data_x, data_y\n"
   ]
  },
  {
   "cell_type": "code",
   "execution_count": 33,
   "metadata": {},
   "outputs": [],
   "source": [
    "train_data = MyDataset(train_df)\n",
    "test_data = MyDataset(test_df)\n",
    "\n",
    "train_loader = DataLoader(train_data, batch_size=batch_size, shuffle=True, num_workers=num_workers, drop_last=True)\n",
    "test_loader = DataLoader(test_data, batch_size=batch_size, shuffle=False, num_workers=num_workers)"
   ]
  },
  {
   "cell_type": "code",
   "execution_count": 14,
   "metadata": {},
   "outputs": [
    {
     "name": "stdout",
     "output_type": "stream",
     "text": [
      "tensor([[5.2000, 4.1000, 1.5000, 0.1000],\n",
      "        [5.4000, 3.9000, 1.3000, 0.4000],\n",
      "        [4.8000, 3.1000, 1.6000, 0.2000],\n",
      "        [5.0000, 2.3000, 3.3000, 1.0000],\n",
      "        [6.0000, 2.2000, 4.0000, 1.0000],\n",
      "        [5.1000, 3.7000, 1.5000, 0.4000],\n",
      "        [5.8000, 2.7000, 3.9000, 1.2000],\n",
      "        [4.5000, 2.3000, 1.3000, 0.3000],\n",
      "        [5.4000, 3.9000, 1.7000, 0.4000],\n",
      "        [6.1000, 2.9000, 4.7000, 1.4000]], dtype=torch.float64)\n",
      "tensor([0, 0, 0, 1, 1, 0, 1, 0, 0, 1])\n"
     ]
    }
   ],
   "source": [
    "data_x, data_y = next(iter(train_loader))\n",
    "print(data_x)\n",
    "print(data_y)"
   ]
  },
  {
   "cell_type": "code",
   "execution_count": 74,
   "metadata": {},
   "outputs": [],
   "source": [
    "# def setup_seed(seed):\n",
    "#     torch.manual_seed(seed)\n",
    "#     torch.cuda.manual_seed_all(seed)\n",
    "#     np.random.seed(seed)\n",
    "#     random.seed(seed)\n",
    "#     torch.backends.cudnn.deterministic = True\n",
    "# setup_seed(2020)\n",
    "def seed_torch(seed=42):\n",
    "    random.seed(seed)\n",
    "    os.environ['PYTHONHASHSEED'] = str(seed)\n",
    "    np.random.seed(seed)\n",
    "    torch.manual_seed(seed)\n",
    "    torch.cuda.manual_seed(seed)\n",
    "    torch.cuda.manual_seed_all(seed)\n",
    "    torch.backends.cudnn.deterministic = True\n",
    "    torch.backends.cudnn.benchmark = False\n",
    "    torch.backends.cudnn.enabled = False\n",
    "seed_torch(2020)"
   ]
  },
  {
   "cell_type": "markdown",
   "metadata": {},
   "source": [
    "## 搭建模型"
   ]
  },
  {
   "cell_type": "code",
   "execution_count": 75,
   "metadata": {},
   "outputs": [],
   "source": [
    "class FMLayer(nn.Module):\n",
    "    def __init__(self, n=10, k=5):\n",
    "        \"\"\"\n",
    "        param n:特征维度\n",
    "        param k:隐向量维度\n",
    "        \"\"\"\n",
    "        super(FMLayer, self).__init__()\n",
    "        self.dtype = torch.float\n",
    "        self.n = n\n",
    "        self.k = k\n",
    "        self.linear = nn.Linear(self.n, 1)  #前两项线性层\n",
    "        self.v = nn.Parameter(torch.randn(self.n, self.k)) #交互矩阵\n",
    "        nn.init.uniform_(self.v, -0.1, 0.1)\n",
    "    def fm_layer(self, x):\n",
    "        #x的维度是(batch_size, n)\n",
    "        linear_part = self.linear(x)\n",
    "        #根据上面的公式计算二阶部分\n",
    "        inter_part1 = torch.mm(x, self.v)\n",
    "        inter_part2 = torch.mm(torch.pow(x, 2), torch.pow(self.v, 2))\n",
    "        inter = 0.5 * torch.sum(torch.sub(torch.pow(inter_part1, 2), inter_part2), 1, keepdim=True)\n",
    "        output = linear_part + inter\n",
    "        output = torch.sigmoid(output)\n",
    "        return output\n",
    "    def forward(self, x):\n",
    "        return self.fm_layer(x)\n",
    "    def fit(self, data, optimizer, epochs=100):\n",
    "        #训练模型并输出测试集每一轮的loss\n",
    "        criterion = F.binary_cross_entropy\n",
    "        for epoch in range(epochs):\n",
    "            for t, (batch_x, batch_y) in enumerate(data):\n",
    "                batch_x = batch_x.float().to(device)\n",
    "                batch_y = batch_y.float().to(device)\n",
    "                total = self.forward(batch_x)\n",
    "                loss = criterion(total, batch_y)\n",
    "                optimizer.zero_grad()\n",
    "                loss.backward()\n",
    "                optimizer.step()\n",
    "            loader_test = DataLoader(test_data, batch_size=10, shuffle=False)\n",
    "            \n",
    "            r = self.test(loader_test)\n",
    "            print('Epoch %d, loss=%.4f' % (epoch, r))\n",
    "    def test(self, data):\n",
    "        #测试集测试\n",
    "        criterion = F.binary_cross_entropy\n",
    "        all_loss = 0\n",
    "        gt_labels = []\n",
    "        pred_labels = []\n",
    "        i = 0\n",
    "        with torch.no_grad():\n",
    "            for t, (batch_x, batch_y) in enumerate(data):\n",
    "                batch_x = batch_x.float().to(device)\n",
    "                batch_y = batch_y.float().to(device)\n",
    "                pred = self.forward(batch_x)\n",
    "                gt_label = batch_y.cpu().data.numpy()\n",
    "                pred_proba = pred.cpu().data.numpy()\n",
    "                gt_labels.append(gt_label)\n",
    "                pred_labels.append(pred_proba)\n",
    "                loss = criterion(pred, batch_y)\n",
    "                all_loss += loss.item()\n",
    "                i += 1\n",
    "        gt_labels, pred_labels = np.concatenate(gt_labels), np.concatenate(pred_labels)\n",
    "        pred_labels = pred_labels.reshape(len(pred_labels),)\n",
    "        auc = roc_auc_score(gt_labels, pred_labels)\n",
    "        print('auc:', auc, 'gt_lables:', gt_labels.shape, 'pred_labels:', pred_labels.shape)\n",
    "        return all_loss / i"
   ]
  },
  {
   "cell_type": "markdown",
   "metadata": {},
   "source": [
    "## 使用数据训练和测试模型"
   ]
  },
  {
   "cell_type": "code",
   "execution_count": 76,
   "metadata": {},
   "outputs": [
    {
     "name": "stdout",
     "output_type": "stream",
     "text": [
      "auc: 0.9358974358974359 gt_lables: (25,) pred_labels: (25,)\n",
      "Epoch 0, loss=0.7545\n"
     ]
    },
    {
     "name": "stderr",
     "output_type": "stream",
     "text": [
      "/home/guoyuhao/.local/lib/python3.6/site-packages/ipykernel_launcher.py:34: UserWarning: Using a target size (torch.Size([10])) that is different to the input size (torch.Size([10, 1])) is deprecated. Please ensure they have the same size.\n",
      "/home/guoyuhao/.local/lib/python3.6/site-packages/ipykernel_launcher.py:58: UserWarning: Using a target size (torch.Size([10])) that is different to the input size (torch.Size([10, 1])) is deprecated. Please ensure they have the same size.\n",
      "/home/guoyuhao/.local/lib/python3.6/site-packages/ipykernel_launcher.py:58: UserWarning: Using a target size (torch.Size([5])) that is different to the input size (torch.Size([5, 1])) is deprecated. Please ensure they have the same size.\n"
     ]
    },
    {
     "name": "stdout",
     "output_type": "stream",
     "text": [
      "auc: 0.9487179487179487 gt_lables: (25,) pred_labels: (25,)\n",
      "Epoch 1, loss=0.7467\n"
     ]
    },
    {
     "name": "stderr",
     "output_type": "stream",
     "text": [
      "/home/guoyuhao/.local/lib/python3.6/site-packages/ipykernel_launcher.py:34: UserWarning: Using a target size (torch.Size([10])) that is different to the input size (torch.Size([10, 1])) is deprecated. Please ensure they have the same size.\n",
      "/home/guoyuhao/.local/lib/python3.6/site-packages/ipykernel_launcher.py:58: UserWarning: Using a target size (torch.Size([10])) that is different to the input size (torch.Size([10, 1])) is deprecated. Please ensure they have the same size.\n",
      "/home/guoyuhao/.local/lib/python3.6/site-packages/ipykernel_launcher.py:58: UserWarning: Using a target size (torch.Size([5])) that is different to the input size (torch.Size([5, 1])) is deprecated. Please ensure they have the same size.\n"
     ]
    },
    {
     "name": "stdout",
     "output_type": "stream",
     "text": [
      "auc: 0.9615384615384616 gt_lables: (25,) pred_labels: (25,)\n",
      "Epoch 2, loss=0.7387\n"
     ]
    },
    {
     "name": "stderr",
     "output_type": "stream",
     "text": [
      "/home/guoyuhao/.local/lib/python3.6/site-packages/ipykernel_launcher.py:34: UserWarning: Using a target size (torch.Size([10])) that is different to the input size (torch.Size([10, 1])) is deprecated. Please ensure they have the same size.\n",
      "/home/guoyuhao/.local/lib/python3.6/site-packages/ipykernel_launcher.py:58: UserWarning: Using a target size (torch.Size([10])) that is different to the input size (torch.Size([10, 1])) is deprecated. Please ensure they have the same size.\n",
      "/home/guoyuhao/.local/lib/python3.6/site-packages/ipykernel_launcher.py:58: UserWarning: Using a target size (torch.Size([5])) that is different to the input size (torch.Size([5, 1])) is deprecated. Please ensure they have the same size.\n"
     ]
    },
    {
     "name": "stdout",
     "output_type": "stream",
     "text": [
      "auc: 0.9807692307692307 gt_lables: (25,) pred_labels: (25,)\n",
      "Epoch 3, loss=0.7308\n"
     ]
    },
    {
     "name": "stderr",
     "output_type": "stream",
     "text": [
      "/home/guoyuhao/.local/lib/python3.6/site-packages/ipykernel_launcher.py:34: UserWarning: Using a target size (torch.Size([10])) that is different to the input size (torch.Size([10, 1])) is deprecated. Please ensure they have the same size.\n",
      "/home/guoyuhao/.local/lib/python3.6/site-packages/ipykernel_launcher.py:58: UserWarning: Using a target size (torch.Size([10])) that is different to the input size (torch.Size([10, 1])) is deprecated. Please ensure they have the same size.\n",
      "/home/guoyuhao/.local/lib/python3.6/site-packages/ipykernel_launcher.py:58: UserWarning: Using a target size (torch.Size([5])) that is different to the input size (torch.Size([5, 1])) is deprecated. Please ensure they have the same size.\n"
     ]
    },
    {
     "name": "stdout",
     "output_type": "stream",
     "text": [
      "auc: 0.9807692307692307 gt_lables: (25,) pred_labels: (25,)\n",
      "Epoch 4, loss=0.7235\n"
     ]
    },
    {
     "name": "stderr",
     "output_type": "stream",
     "text": [
      "/home/guoyuhao/.local/lib/python3.6/site-packages/ipykernel_launcher.py:34: UserWarning: Using a target size (torch.Size([10])) that is different to the input size (torch.Size([10, 1])) is deprecated. Please ensure they have the same size.\n",
      "/home/guoyuhao/.local/lib/python3.6/site-packages/ipykernel_launcher.py:58: UserWarning: Using a target size (torch.Size([10])) that is different to the input size (torch.Size([10, 1])) is deprecated. Please ensure they have the same size.\n",
      "/home/guoyuhao/.local/lib/python3.6/site-packages/ipykernel_launcher.py:58: UserWarning: Using a target size (torch.Size([5])) that is different to the input size (torch.Size([5, 1])) is deprecated. Please ensure they have the same size.\n"
     ]
    },
    {
     "name": "stdout",
     "output_type": "stream",
     "text": [
      "auc: 0.9807692307692307 gt_lables: (25,) pred_labels: (25,)\n",
      "Epoch 5, loss=0.7163\n"
     ]
    },
    {
     "name": "stderr",
     "output_type": "stream",
     "text": [
      "/home/guoyuhao/.local/lib/python3.6/site-packages/ipykernel_launcher.py:34: UserWarning: Using a target size (torch.Size([10])) that is different to the input size (torch.Size([10, 1])) is deprecated. Please ensure they have the same size.\n",
      "/home/guoyuhao/.local/lib/python3.6/site-packages/ipykernel_launcher.py:58: UserWarning: Using a target size (torch.Size([10])) that is different to the input size (torch.Size([10, 1])) is deprecated. Please ensure they have the same size.\n",
      "/home/guoyuhao/.local/lib/python3.6/site-packages/ipykernel_launcher.py:58: UserWarning: Using a target size (torch.Size([5])) that is different to the input size (torch.Size([5, 1])) is deprecated. Please ensure they have the same size.\n"
     ]
    },
    {
     "name": "stdout",
     "output_type": "stream",
     "text": [
      "auc: 0.9807692307692307 gt_lables: (25,) pred_labels: (25,)\n",
      "Epoch 6, loss=0.7090\n"
     ]
    },
    {
     "name": "stderr",
     "output_type": "stream",
     "text": [
      "/home/guoyuhao/.local/lib/python3.6/site-packages/ipykernel_launcher.py:34: UserWarning: Using a target size (torch.Size([10])) that is different to the input size (torch.Size([10, 1])) is deprecated. Please ensure they have the same size.\n",
      "/home/guoyuhao/.local/lib/python3.6/site-packages/ipykernel_launcher.py:58: UserWarning: Using a target size (torch.Size([10])) that is different to the input size (torch.Size([10, 1])) is deprecated. Please ensure they have the same size.\n",
      "/home/guoyuhao/.local/lib/python3.6/site-packages/ipykernel_launcher.py:58: UserWarning: Using a target size (torch.Size([5])) that is different to the input size (torch.Size([5, 1])) is deprecated. Please ensure they have the same size.\n"
     ]
    },
    {
     "name": "stdout",
     "output_type": "stream",
     "text": [
      "auc: 0.9871794871794872 gt_lables: (25,) pred_labels: (25,)\n",
      "Epoch 7, loss=0.7016\n"
     ]
    },
    {
     "name": "stderr",
     "output_type": "stream",
     "text": [
      "/home/guoyuhao/.local/lib/python3.6/site-packages/ipykernel_launcher.py:34: UserWarning: Using a target size (torch.Size([10])) that is different to the input size (torch.Size([10, 1])) is deprecated. Please ensure they have the same size.\n",
      "/home/guoyuhao/.local/lib/python3.6/site-packages/ipykernel_launcher.py:58: UserWarning: Using a target size (torch.Size([10])) that is different to the input size (torch.Size([10, 1])) is deprecated. Please ensure they have the same size.\n",
      "/home/guoyuhao/.local/lib/python3.6/site-packages/ipykernel_launcher.py:58: UserWarning: Using a target size (torch.Size([5])) that is different to the input size (torch.Size([5, 1])) is deprecated. Please ensure they have the same size.\n"
     ]
    },
    {
     "name": "stdout",
     "output_type": "stream",
     "text": [
      "auc: 0.9871794871794872 gt_lables: (25,) pred_labels: (25,)\n",
      "Epoch 8, loss=0.6939\n"
     ]
    },
    {
     "name": "stderr",
     "output_type": "stream",
     "text": [
      "/home/guoyuhao/.local/lib/python3.6/site-packages/ipykernel_launcher.py:34: UserWarning: Using a target size (torch.Size([10])) that is different to the input size (torch.Size([10, 1])) is deprecated. Please ensure they have the same size.\n",
      "/home/guoyuhao/.local/lib/python3.6/site-packages/ipykernel_launcher.py:58: UserWarning: Using a target size (torch.Size([10])) that is different to the input size (torch.Size([10, 1])) is deprecated. Please ensure they have the same size.\n",
      "/home/guoyuhao/.local/lib/python3.6/site-packages/ipykernel_launcher.py:58: UserWarning: Using a target size (torch.Size([5])) that is different to the input size (torch.Size([5, 1])) is deprecated. Please ensure they have the same size.\n"
     ]
    },
    {
     "name": "stdout",
     "output_type": "stream",
     "text": [
      "auc: 0.9871794871794872 gt_lables: (25,) pred_labels: (25,)\n",
      "Epoch 9, loss=0.6872\n"
     ]
    },
    {
     "name": "stderr",
     "output_type": "stream",
     "text": [
      "/home/guoyuhao/.local/lib/python3.6/site-packages/ipykernel_launcher.py:34: UserWarning: Using a target size (torch.Size([10])) that is different to the input size (torch.Size([10, 1])) is deprecated. Please ensure they have the same size.\n",
      "/home/guoyuhao/.local/lib/python3.6/site-packages/ipykernel_launcher.py:58: UserWarning: Using a target size (torch.Size([10])) that is different to the input size (torch.Size([10, 1])) is deprecated. Please ensure they have the same size.\n",
      "/home/guoyuhao/.local/lib/python3.6/site-packages/ipykernel_launcher.py:58: UserWarning: Using a target size (torch.Size([5])) that is different to the input size (torch.Size([5, 1])) is deprecated. Please ensure they have the same size.\n"
     ]
    },
    {
     "name": "stdout",
     "output_type": "stream",
     "text": [
      "auc: 0.9935897435897436 gt_lables: (25,) pred_labels: (25,)\n",
      "Epoch 10, loss=0.6797\n"
     ]
    },
    {
     "name": "stderr",
     "output_type": "stream",
     "text": [
      "/home/guoyuhao/.local/lib/python3.6/site-packages/ipykernel_launcher.py:34: UserWarning: Using a target size (torch.Size([10])) that is different to the input size (torch.Size([10, 1])) is deprecated. Please ensure they have the same size.\n",
      "/home/guoyuhao/.local/lib/python3.6/site-packages/ipykernel_launcher.py:58: UserWarning: Using a target size (torch.Size([10])) that is different to the input size (torch.Size([10, 1])) is deprecated. Please ensure they have the same size.\n",
      "/home/guoyuhao/.local/lib/python3.6/site-packages/ipykernel_launcher.py:58: UserWarning: Using a target size (torch.Size([5])) that is different to the input size (torch.Size([5, 1])) is deprecated. Please ensure they have the same size.\n"
     ]
    },
    {
     "name": "stdout",
     "output_type": "stream",
     "text": [
      "auc: 1.0 gt_lables: (25,) pred_labels: (25,)\n",
      "Epoch 11, loss=0.6730\n"
     ]
    },
    {
     "name": "stderr",
     "output_type": "stream",
     "text": [
      "/home/guoyuhao/.local/lib/python3.6/site-packages/ipykernel_launcher.py:34: UserWarning: Using a target size (torch.Size([10])) that is different to the input size (torch.Size([10, 1])) is deprecated. Please ensure they have the same size.\n",
      "/home/guoyuhao/.local/lib/python3.6/site-packages/ipykernel_launcher.py:58: UserWarning: Using a target size (torch.Size([10])) that is different to the input size (torch.Size([10, 1])) is deprecated. Please ensure they have the same size.\n",
      "/home/guoyuhao/.local/lib/python3.6/site-packages/ipykernel_launcher.py:58: UserWarning: Using a target size (torch.Size([5])) that is different to the input size (torch.Size([5, 1])) is deprecated. Please ensure they have the same size.\n"
     ]
    },
    {
     "name": "stdout",
     "output_type": "stream",
     "text": [
      "auc: 1.0 gt_lables: (25,) pred_labels: (25,)\n",
      "Epoch 12, loss=0.6666\n"
     ]
    },
    {
     "name": "stderr",
     "output_type": "stream",
     "text": [
      "/home/guoyuhao/.local/lib/python3.6/site-packages/ipykernel_launcher.py:34: UserWarning: Using a target size (torch.Size([10])) that is different to the input size (torch.Size([10, 1])) is deprecated. Please ensure they have the same size.\n",
      "/home/guoyuhao/.local/lib/python3.6/site-packages/ipykernel_launcher.py:58: UserWarning: Using a target size (torch.Size([10])) that is different to the input size (torch.Size([10, 1])) is deprecated. Please ensure they have the same size.\n",
      "/home/guoyuhao/.local/lib/python3.6/site-packages/ipykernel_launcher.py:58: UserWarning: Using a target size (torch.Size([5])) that is different to the input size (torch.Size([5, 1])) is deprecated. Please ensure they have the same size.\n"
     ]
    },
    {
     "name": "stdout",
     "output_type": "stream",
     "text": [
      "auc: 1.0 gt_lables: (25,) pred_labels: (25,)\n",
      "Epoch 13, loss=0.6599\n"
     ]
    },
    {
     "name": "stderr",
     "output_type": "stream",
     "text": [
      "/home/guoyuhao/.local/lib/python3.6/site-packages/ipykernel_launcher.py:34: UserWarning: Using a target size (torch.Size([10])) that is different to the input size (torch.Size([10, 1])) is deprecated. Please ensure they have the same size.\n",
      "/home/guoyuhao/.local/lib/python3.6/site-packages/ipykernel_launcher.py:58: UserWarning: Using a target size (torch.Size([10])) that is different to the input size (torch.Size([10, 1])) is deprecated. Please ensure they have the same size.\n",
      "/home/guoyuhao/.local/lib/python3.6/site-packages/ipykernel_launcher.py:58: UserWarning: Using a target size (torch.Size([5])) that is different to the input size (torch.Size([5, 1])) is deprecated. Please ensure they have the same size.\n"
     ]
    },
    {
     "name": "stdout",
     "output_type": "stream",
     "text": [
      "auc: 1.0 gt_lables: (25,) pred_labels: (25,)\n",
      "Epoch 14, loss=0.6536\n"
     ]
    },
    {
     "name": "stderr",
     "output_type": "stream",
     "text": [
      "/home/guoyuhao/.local/lib/python3.6/site-packages/ipykernel_launcher.py:34: UserWarning: Using a target size (torch.Size([10])) that is different to the input size (torch.Size([10, 1])) is deprecated. Please ensure they have the same size.\n",
      "/home/guoyuhao/.local/lib/python3.6/site-packages/ipykernel_launcher.py:58: UserWarning: Using a target size (torch.Size([10])) that is different to the input size (torch.Size([10, 1])) is deprecated. Please ensure they have the same size.\n",
      "/home/guoyuhao/.local/lib/python3.6/site-packages/ipykernel_launcher.py:58: UserWarning: Using a target size (torch.Size([5])) that is different to the input size (torch.Size([5, 1])) is deprecated. Please ensure they have the same size.\n"
     ]
    },
    {
     "name": "stdout",
     "output_type": "stream",
     "text": [
      "auc: 1.0 gt_lables: (25,) pred_labels: (25,)\n",
      "Epoch 15, loss=0.6476\n"
     ]
    },
    {
     "name": "stderr",
     "output_type": "stream",
     "text": [
      "/home/guoyuhao/.local/lib/python3.6/site-packages/ipykernel_launcher.py:34: UserWarning: Using a target size (torch.Size([10])) that is different to the input size (torch.Size([10, 1])) is deprecated. Please ensure they have the same size.\n",
      "/home/guoyuhao/.local/lib/python3.6/site-packages/ipykernel_launcher.py:58: UserWarning: Using a target size (torch.Size([10])) that is different to the input size (torch.Size([10, 1])) is deprecated. Please ensure they have the same size.\n",
      "/home/guoyuhao/.local/lib/python3.6/site-packages/ipykernel_launcher.py:58: UserWarning: Using a target size (torch.Size([5])) that is different to the input size (torch.Size([5, 1])) is deprecated. Please ensure they have the same size.\n"
     ]
    },
    {
     "name": "stdout",
     "output_type": "stream",
     "text": [
      "auc: 1.0 gt_lables: (25,) pred_labels: (25,)\n",
      "Epoch 16, loss=0.6415\n"
     ]
    },
    {
     "name": "stderr",
     "output_type": "stream",
     "text": [
      "/home/guoyuhao/.local/lib/python3.6/site-packages/ipykernel_launcher.py:34: UserWarning: Using a target size (torch.Size([10])) that is different to the input size (torch.Size([10, 1])) is deprecated. Please ensure they have the same size.\n",
      "/home/guoyuhao/.local/lib/python3.6/site-packages/ipykernel_launcher.py:58: UserWarning: Using a target size (torch.Size([10])) that is different to the input size (torch.Size([10, 1])) is deprecated. Please ensure they have the same size.\n",
      "/home/guoyuhao/.local/lib/python3.6/site-packages/ipykernel_launcher.py:58: UserWarning: Using a target size (torch.Size([5])) that is different to the input size (torch.Size([5, 1])) is deprecated. Please ensure they have the same size.\n"
     ]
    },
    {
     "name": "stdout",
     "output_type": "stream",
     "text": [
      "auc: 1.0 gt_lables: (25,) pred_labels: (25,)\n",
      "Epoch 17, loss=0.6350\n"
     ]
    },
    {
     "name": "stderr",
     "output_type": "stream",
     "text": [
      "/home/guoyuhao/.local/lib/python3.6/site-packages/ipykernel_launcher.py:34: UserWarning: Using a target size (torch.Size([10])) that is different to the input size (torch.Size([10, 1])) is deprecated. Please ensure they have the same size.\n",
      "/home/guoyuhao/.local/lib/python3.6/site-packages/ipykernel_launcher.py:58: UserWarning: Using a target size (torch.Size([10])) that is different to the input size (torch.Size([10, 1])) is deprecated. Please ensure they have the same size.\n",
      "/home/guoyuhao/.local/lib/python3.6/site-packages/ipykernel_launcher.py:58: UserWarning: Using a target size (torch.Size([5])) that is different to the input size (torch.Size([5, 1])) is deprecated. Please ensure they have the same size.\n"
     ]
    },
    {
     "name": "stdout",
     "output_type": "stream",
     "text": [
      "auc: 1.0 gt_lables: (25,) pred_labels: (25,)\n",
      "Epoch 18, loss=0.6289\n"
     ]
    },
    {
     "name": "stderr",
     "output_type": "stream",
     "text": [
      "/home/guoyuhao/.local/lib/python3.6/site-packages/ipykernel_launcher.py:34: UserWarning: Using a target size (torch.Size([10])) that is different to the input size (torch.Size([10, 1])) is deprecated. Please ensure they have the same size.\n",
      "/home/guoyuhao/.local/lib/python3.6/site-packages/ipykernel_launcher.py:58: UserWarning: Using a target size (torch.Size([10])) that is different to the input size (torch.Size([10, 1])) is deprecated. Please ensure they have the same size.\n",
      "/home/guoyuhao/.local/lib/python3.6/site-packages/ipykernel_launcher.py:58: UserWarning: Using a target size (torch.Size([5])) that is different to the input size (torch.Size([5, 1])) is deprecated. Please ensure they have the same size.\n"
     ]
    },
    {
     "name": "stdout",
     "output_type": "stream",
     "text": [
      "auc: 1.0 gt_lables: (25,) pred_labels: (25,)\n",
      "Epoch 19, loss=0.6231\n"
     ]
    },
    {
     "name": "stderr",
     "output_type": "stream",
     "text": [
      "/home/guoyuhao/.local/lib/python3.6/site-packages/ipykernel_launcher.py:34: UserWarning: Using a target size (torch.Size([10])) that is different to the input size (torch.Size([10, 1])) is deprecated. Please ensure they have the same size.\n",
      "/home/guoyuhao/.local/lib/python3.6/site-packages/ipykernel_launcher.py:58: UserWarning: Using a target size (torch.Size([10])) that is different to the input size (torch.Size([10, 1])) is deprecated. Please ensure they have the same size.\n",
      "/home/guoyuhao/.local/lib/python3.6/site-packages/ipykernel_launcher.py:58: UserWarning: Using a target size (torch.Size([5])) that is different to the input size (torch.Size([5, 1])) is deprecated. Please ensure they have the same size.\n"
     ]
    },
    {
     "name": "stdout",
     "output_type": "stream",
     "text": [
      "auc: 1.0 gt_lables: (25,) pred_labels: (25,)\n",
      "Epoch 20, loss=0.6180\n"
     ]
    },
    {
     "name": "stderr",
     "output_type": "stream",
     "text": [
      "/home/guoyuhao/.local/lib/python3.6/site-packages/ipykernel_launcher.py:34: UserWarning: Using a target size (torch.Size([10])) that is different to the input size (torch.Size([10, 1])) is deprecated. Please ensure they have the same size.\n",
      "/home/guoyuhao/.local/lib/python3.6/site-packages/ipykernel_launcher.py:58: UserWarning: Using a target size (torch.Size([10])) that is different to the input size (torch.Size([10, 1])) is deprecated. Please ensure they have the same size.\n",
      "/home/guoyuhao/.local/lib/python3.6/site-packages/ipykernel_launcher.py:58: UserWarning: Using a target size (torch.Size([5])) that is different to the input size (torch.Size([5, 1])) is deprecated. Please ensure they have the same size.\n"
     ]
    },
    {
     "name": "stdout",
     "output_type": "stream",
     "text": [
      "auc: 1.0 gt_lables: (25,) pred_labels: (25,)\n",
      "Epoch 21, loss=0.6123\n"
     ]
    },
    {
     "name": "stderr",
     "output_type": "stream",
     "text": [
      "/home/guoyuhao/.local/lib/python3.6/site-packages/ipykernel_launcher.py:34: UserWarning: Using a target size (torch.Size([10])) that is different to the input size (torch.Size([10, 1])) is deprecated. Please ensure they have the same size.\n",
      "/home/guoyuhao/.local/lib/python3.6/site-packages/ipykernel_launcher.py:58: UserWarning: Using a target size (torch.Size([10])) that is different to the input size (torch.Size([10, 1])) is deprecated. Please ensure they have the same size.\n",
      "/home/guoyuhao/.local/lib/python3.6/site-packages/ipykernel_launcher.py:58: UserWarning: Using a target size (torch.Size([5])) that is different to the input size (torch.Size([5, 1])) is deprecated. Please ensure they have the same size.\n"
     ]
    },
    {
     "name": "stdout",
     "output_type": "stream",
     "text": [
      "auc: 1.0 gt_lables: (25,) pred_labels: (25,)\n",
      "Epoch 22, loss=0.6063\n"
     ]
    },
    {
     "name": "stderr",
     "output_type": "stream",
     "text": [
      "/home/guoyuhao/.local/lib/python3.6/site-packages/ipykernel_launcher.py:34: UserWarning: Using a target size (torch.Size([10])) that is different to the input size (torch.Size([10, 1])) is deprecated. Please ensure they have the same size.\n",
      "/home/guoyuhao/.local/lib/python3.6/site-packages/ipykernel_launcher.py:58: UserWarning: Using a target size (torch.Size([10])) that is different to the input size (torch.Size([10, 1])) is deprecated. Please ensure they have the same size.\n",
      "/home/guoyuhao/.local/lib/python3.6/site-packages/ipykernel_launcher.py:58: UserWarning: Using a target size (torch.Size([5])) that is different to the input size (torch.Size([5, 1])) is deprecated. Please ensure they have the same size.\n"
     ]
    },
    {
     "name": "stdout",
     "output_type": "stream",
     "text": [
      "auc: 1.0 gt_lables: (25,) pred_labels: (25,)\n",
      "Epoch 23, loss=0.6018\n"
     ]
    },
    {
     "name": "stderr",
     "output_type": "stream",
     "text": [
      "/home/guoyuhao/.local/lib/python3.6/site-packages/ipykernel_launcher.py:34: UserWarning: Using a target size (torch.Size([10])) that is different to the input size (torch.Size([10, 1])) is deprecated. Please ensure they have the same size.\n",
      "/home/guoyuhao/.local/lib/python3.6/site-packages/ipykernel_launcher.py:58: UserWarning: Using a target size (torch.Size([10])) that is different to the input size (torch.Size([10, 1])) is deprecated. Please ensure they have the same size.\n",
      "/home/guoyuhao/.local/lib/python3.6/site-packages/ipykernel_launcher.py:58: UserWarning: Using a target size (torch.Size([5])) that is different to the input size (torch.Size([5, 1])) is deprecated. Please ensure they have the same size.\n"
     ]
    },
    {
     "name": "stdout",
     "output_type": "stream",
     "text": [
      "auc: 1.0 gt_lables: (25,) pred_labels: (25,)\n",
      "Epoch 24, loss=0.5964\n"
     ]
    },
    {
     "name": "stderr",
     "output_type": "stream",
     "text": [
      "/home/guoyuhao/.local/lib/python3.6/site-packages/ipykernel_launcher.py:34: UserWarning: Using a target size (torch.Size([10])) that is different to the input size (torch.Size([10, 1])) is deprecated. Please ensure they have the same size.\n",
      "/home/guoyuhao/.local/lib/python3.6/site-packages/ipykernel_launcher.py:58: UserWarning: Using a target size (torch.Size([10])) that is different to the input size (torch.Size([10, 1])) is deprecated. Please ensure they have the same size.\n",
      "/home/guoyuhao/.local/lib/python3.6/site-packages/ipykernel_launcher.py:58: UserWarning: Using a target size (torch.Size([5])) that is different to the input size (torch.Size([5, 1])) is deprecated. Please ensure they have the same size.\n"
     ]
    },
    {
     "name": "stdout",
     "output_type": "stream",
     "text": [
      "auc: 1.0 gt_lables: (25,) pred_labels: (25,)\n",
      "Epoch 25, loss=0.5917\n"
     ]
    },
    {
     "name": "stderr",
     "output_type": "stream",
     "text": [
      "/home/guoyuhao/.local/lib/python3.6/site-packages/ipykernel_launcher.py:34: UserWarning: Using a target size (torch.Size([10])) that is different to the input size (torch.Size([10, 1])) is deprecated. Please ensure they have the same size.\n",
      "/home/guoyuhao/.local/lib/python3.6/site-packages/ipykernel_launcher.py:58: UserWarning: Using a target size (torch.Size([10])) that is different to the input size (torch.Size([10, 1])) is deprecated. Please ensure they have the same size.\n",
      "/home/guoyuhao/.local/lib/python3.6/site-packages/ipykernel_launcher.py:58: UserWarning: Using a target size (torch.Size([5])) that is different to the input size (torch.Size([5, 1])) is deprecated. Please ensure they have the same size.\n"
     ]
    },
    {
     "name": "stdout",
     "output_type": "stream",
     "text": [
      "auc: 1.0 gt_lables: (25,) pred_labels: (25,)\n",
      "Epoch 26, loss=0.5868\n"
     ]
    },
    {
     "name": "stderr",
     "output_type": "stream",
     "text": [
      "/home/guoyuhao/.local/lib/python3.6/site-packages/ipykernel_launcher.py:34: UserWarning: Using a target size (torch.Size([10])) that is different to the input size (torch.Size([10, 1])) is deprecated. Please ensure they have the same size.\n",
      "/home/guoyuhao/.local/lib/python3.6/site-packages/ipykernel_launcher.py:58: UserWarning: Using a target size (torch.Size([10])) that is different to the input size (torch.Size([10, 1])) is deprecated. Please ensure they have the same size.\n",
      "/home/guoyuhao/.local/lib/python3.6/site-packages/ipykernel_launcher.py:58: UserWarning: Using a target size (torch.Size([5])) that is different to the input size (torch.Size([5, 1])) is deprecated. Please ensure they have the same size.\n"
     ]
    },
    {
     "name": "stdout",
     "output_type": "stream",
     "text": [
      "auc: 1.0 gt_lables: (25,) pred_labels: (25,)\n",
      "Epoch 27, loss=0.5817\n"
     ]
    },
    {
     "name": "stderr",
     "output_type": "stream",
     "text": [
      "/home/guoyuhao/.local/lib/python3.6/site-packages/ipykernel_launcher.py:34: UserWarning: Using a target size (torch.Size([10])) that is different to the input size (torch.Size([10, 1])) is deprecated. Please ensure they have the same size.\n",
      "/home/guoyuhao/.local/lib/python3.6/site-packages/ipykernel_launcher.py:58: UserWarning: Using a target size (torch.Size([10])) that is different to the input size (torch.Size([10, 1])) is deprecated. Please ensure they have the same size.\n",
      "/home/guoyuhao/.local/lib/python3.6/site-packages/ipykernel_launcher.py:58: UserWarning: Using a target size (torch.Size([5])) that is different to the input size (torch.Size([5, 1])) is deprecated. Please ensure they have the same size.\n"
     ]
    },
    {
     "name": "stdout",
     "output_type": "stream",
     "text": [
      "auc: 1.0 gt_lables: (25,) pred_labels: (25,)\n",
      "Epoch 28, loss=0.5775\n"
     ]
    },
    {
     "name": "stderr",
     "output_type": "stream",
     "text": [
      "/home/guoyuhao/.local/lib/python3.6/site-packages/ipykernel_launcher.py:34: UserWarning: Using a target size (torch.Size([10])) that is different to the input size (torch.Size([10, 1])) is deprecated. Please ensure they have the same size.\n",
      "/home/guoyuhao/.local/lib/python3.6/site-packages/ipykernel_launcher.py:58: UserWarning: Using a target size (torch.Size([10])) that is different to the input size (torch.Size([10, 1])) is deprecated. Please ensure they have the same size.\n",
      "/home/guoyuhao/.local/lib/python3.6/site-packages/ipykernel_launcher.py:58: UserWarning: Using a target size (torch.Size([5])) that is different to the input size (torch.Size([5, 1])) is deprecated. Please ensure they have the same size.\n"
     ]
    },
    {
     "name": "stdout",
     "output_type": "stream",
     "text": [
      "auc: 1.0 gt_lables: (25,) pred_labels: (25,)\n",
      "Epoch 29, loss=0.5734\n"
     ]
    },
    {
     "name": "stderr",
     "output_type": "stream",
     "text": [
      "/home/guoyuhao/.local/lib/python3.6/site-packages/ipykernel_launcher.py:34: UserWarning: Using a target size (torch.Size([10])) that is different to the input size (torch.Size([10, 1])) is deprecated. Please ensure they have the same size.\n",
      "/home/guoyuhao/.local/lib/python3.6/site-packages/ipykernel_launcher.py:58: UserWarning: Using a target size (torch.Size([10])) that is different to the input size (torch.Size([10, 1])) is deprecated. Please ensure they have the same size.\n",
      "/home/guoyuhao/.local/lib/python3.6/site-packages/ipykernel_launcher.py:58: UserWarning: Using a target size (torch.Size([5])) that is different to the input size (torch.Size([5, 1])) is deprecated. Please ensure they have the same size.\n"
     ]
    },
    {
     "name": "stdout",
     "output_type": "stream",
     "text": [
      "auc: 1.0 gt_lables: (25,) pred_labels: (25,)\n",
      "Epoch 30, loss=0.5694\n"
     ]
    },
    {
     "name": "stderr",
     "output_type": "stream",
     "text": [
      "/home/guoyuhao/.local/lib/python3.6/site-packages/ipykernel_launcher.py:34: UserWarning: Using a target size (torch.Size([10])) that is different to the input size (torch.Size([10, 1])) is deprecated. Please ensure they have the same size.\n",
      "/home/guoyuhao/.local/lib/python3.6/site-packages/ipykernel_launcher.py:58: UserWarning: Using a target size (torch.Size([10])) that is different to the input size (torch.Size([10, 1])) is deprecated. Please ensure they have the same size.\n",
      "/home/guoyuhao/.local/lib/python3.6/site-packages/ipykernel_launcher.py:58: UserWarning: Using a target size (torch.Size([5])) that is different to the input size (torch.Size([5, 1])) is deprecated. Please ensure they have the same size.\n"
     ]
    },
    {
     "name": "stdout",
     "output_type": "stream",
     "text": [
      "auc: 1.0 gt_lables: (25,) pred_labels: (25,)\n",
      "Epoch 31, loss=0.5659\n"
     ]
    },
    {
     "name": "stderr",
     "output_type": "stream",
     "text": [
      "/home/guoyuhao/.local/lib/python3.6/site-packages/ipykernel_launcher.py:34: UserWarning: Using a target size (torch.Size([10])) that is different to the input size (torch.Size([10, 1])) is deprecated. Please ensure they have the same size.\n",
      "/home/guoyuhao/.local/lib/python3.6/site-packages/ipykernel_launcher.py:58: UserWarning: Using a target size (torch.Size([10])) that is different to the input size (torch.Size([10, 1])) is deprecated. Please ensure they have the same size.\n",
      "/home/guoyuhao/.local/lib/python3.6/site-packages/ipykernel_launcher.py:58: UserWarning: Using a target size (torch.Size([5])) that is different to the input size (torch.Size([5, 1])) is deprecated. Please ensure they have the same size.\n"
     ]
    },
    {
     "name": "stdout",
     "output_type": "stream",
     "text": [
      "auc: 1.0 gt_lables: (25,) pred_labels: (25,)\n",
      "Epoch 32, loss=0.5616\n"
     ]
    },
    {
     "name": "stderr",
     "output_type": "stream",
     "text": [
      "/home/guoyuhao/.local/lib/python3.6/site-packages/ipykernel_launcher.py:34: UserWarning: Using a target size (torch.Size([10])) that is different to the input size (torch.Size([10, 1])) is deprecated. Please ensure they have the same size.\n",
      "/home/guoyuhao/.local/lib/python3.6/site-packages/ipykernel_launcher.py:58: UserWarning: Using a target size (torch.Size([10])) that is different to the input size (torch.Size([10, 1])) is deprecated. Please ensure they have the same size.\n",
      "/home/guoyuhao/.local/lib/python3.6/site-packages/ipykernel_launcher.py:58: UserWarning: Using a target size (torch.Size([5])) that is different to the input size (torch.Size([5, 1])) is deprecated. Please ensure they have the same size.\n"
     ]
    },
    {
     "name": "stdout",
     "output_type": "stream",
     "text": [
      "auc: 1.0 gt_lables: (25,) pred_labels: (25,)\n",
      "Epoch 33, loss=0.5585\n"
     ]
    },
    {
     "name": "stderr",
     "output_type": "stream",
     "text": [
      "/home/guoyuhao/.local/lib/python3.6/site-packages/ipykernel_launcher.py:34: UserWarning: Using a target size (torch.Size([10])) that is different to the input size (torch.Size([10, 1])) is deprecated. Please ensure they have the same size.\n",
      "/home/guoyuhao/.local/lib/python3.6/site-packages/ipykernel_launcher.py:58: UserWarning: Using a target size (torch.Size([10])) that is different to the input size (torch.Size([10, 1])) is deprecated. Please ensure they have the same size.\n",
      "/home/guoyuhao/.local/lib/python3.6/site-packages/ipykernel_launcher.py:58: UserWarning: Using a target size (torch.Size([5])) that is different to the input size (torch.Size([5, 1])) is deprecated. Please ensure they have the same size.\n"
     ]
    },
    {
     "name": "stdout",
     "output_type": "stream",
     "text": [
      "auc: 1.0 gt_lables: (25,) pred_labels: (25,)\n",
      "Epoch 34, loss=0.5546\n"
     ]
    },
    {
     "name": "stderr",
     "output_type": "stream",
     "text": [
      "/home/guoyuhao/.local/lib/python3.6/site-packages/ipykernel_launcher.py:34: UserWarning: Using a target size (torch.Size([10])) that is different to the input size (torch.Size([10, 1])) is deprecated. Please ensure they have the same size.\n",
      "/home/guoyuhao/.local/lib/python3.6/site-packages/ipykernel_launcher.py:58: UserWarning: Using a target size (torch.Size([10])) that is different to the input size (torch.Size([10, 1])) is deprecated. Please ensure they have the same size.\n",
      "/home/guoyuhao/.local/lib/python3.6/site-packages/ipykernel_launcher.py:58: UserWarning: Using a target size (torch.Size([5])) that is different to the input size (torch.Size([5, 1])) is deprecated. Please ensure they have the same size.\n"
     ]
    },
    {
     "name": "stdout",
     "output_type": "stream",
     "text": [
      "auc: 1.0 gt_lables: (25,) pred_labels: (25,)\n",
      "Epoch 35, loss=0.5505\n"
     ]
    },
    {
     "name": "stderr",
     "output_type": "stream",
     "text": [
      "/home/guoyuhao/.local/lib/python3.6/site-packages/ipykernel_launcher.py:34: UserWarning: Using a target size (torch.Size([10])) that is different to the input size (torch.Size([10, 1])) is deprecated. Please ensure they have the same size.\n",
      "/home/guoyuhao/.local/lib/python3.6/site-packages/ipykernel_launcher.py:58: UserWarning: Using a target size (torch.Size([10])) that is different to the input size (torch.Size([10, 1])) is deprecated. Please ensure they have the same size.\n",
      "/home/guoyuhao/.local/lib/python3.6/site-packages/ipykernel_launcher.py:58: UserWarning: Using a target size (torch.Size([5])) that is different to the input size (torch.Size([5, 1])) is deprecated. Please ensure they have the same size.\n"
     ]
    },
    {
     "name": "stdout",
     "output_type": "stream",
     "text": [
      "auc: 1.0 gt_lables: (25,) pred_labels: (25,)\n",
      "Epoch 36, loss=0.5476\n"
     ]
    },
    {
     "name": "stderr",
     "output_type": "stream",
     "text": [
      "/home/guoyuhao/.local/lib/python3.6/site-packages/ipykernel_launcher.py:34: UserWarning: Using a target size (torch.Size([10])) that is different to the input size (torch.Size([10, 1])) is deprecated. Please ensure they have the same size.\n",
      "/home/guoyuhao/.local/lib/python3.6/site-packages/ipykernel_launcher.py:58: UserWarning: Using a target size (torch.Size([10])) that is different to the input size (torch.Size([10, 1])) is deprecated. Please ensure they have the same size.\n",
      "/home/guoyuhao/.local/lib/python3.6/site-packages/ipykernel_launcher.py:58: UserWarning: Using a target size (torch.Size([5])) that is different to the input size (torch.Size([5, 1])) is deprecated. Please ensure they have the same size.\n"
     ]
    },
    {
     "name": "stdout",
     "output_type": "stream",
     "text": [
      "auc: 1.0 gt_lables: (25,) pred_labels: (25,)\n",
      "Epoch 37, loss=0.5441\n"
     ]
    },
    {
     "name": "stderr",
     "output_type": "stream",
     "text": [
      "/home/guoyuhao/.local/lib/python3.6/site-packages/ipykernel_launcher.py:34: UserWarning: Using a target size (torch.Size([10])) that is different to the input size (torch.Size([10, 1])) is deprecated. Please ensure they have the same size.\n",
      "/home/guoyuhao/.local/lib/python3.6/site-packages/ipykernel_launcher.py:58: UserWarning: Using a target size (torch.Size([10])) that is different to the input size (torch.Size([10, 1])) is deprecated. Please ensure they have the same size.\n",
      "/home/guoyuhao/.local/lib/python3.6/site-packages/ipykernel_launcher.py:58: UserWarning: Using a target size (torch.Size([5])) that is different to the input size (torch.Size([5, 1])) is deprecated. Please ensure they have the same size.\n"
     ]
    },
    {
     "name": "stdout",
     "output_type": "stream",
     "text": [
      "auc: 1.0 gt_lables: (25,) pred_labels: (25,)\n",
      "Epoch 38, loss=0.5405\n"
     ]
    },
    {
     "name": "stderr",
     "output_type": "stream",
     "text": [
      "/home/guoyuhao/.local/lib/python3.6/site-packages/ipykernel_launcher.py:34: UserWarning: Using a target size (torch.Size([10])) that is different to the input size (torch.Size([10, 1])) is deprecated. Please ensure they have the same size.\n",
      "/home/guoyuhao/.local/lib/python3.6/site-packages/ipykernel_launcher.py:58: UserWarning: Using a target size (torch.Size([10])) that is different to the input size (torch.Size([10, 1])) is deprecated. Please ensure they have the same size.\n",
      "/home/guoyuhao/.local/lib/python3.6/site-packages/ipykernel_launcher.py:58: UserWarning: Using a target size (torch.Size([5])) that is different to the input size (torch.Size([5, 1])) is deprecated. Please ensure they have the same size.\n"
     ]
    },
    {
     "name": "stdout",
     "output_type": "stream",
     "text": [
      "auc: 1.0 gt_lables: (25,) pred_labels: (25,)\n",
      "Epoch 39, loss=0.5383\n"
     ]
    },
    {
     "name": "stderr",
     "output_type": "stream",
     "text": [
      "/home/guoyuhao/.local/lib/python3.6/site-packages/ipykernel_launcher.py:34: UserWarning: Using a target size (torch.Size([10])) that is different to the input size (torch.Size([10, 1])) is deprecated. Please ensure they have the same size.\n",
      "/home/guoyuhao/.local/lib/python3.6/site-packages/ipykernel_launcher.py:58: UserWarning: Using a target size (torch.Size([10])) that is different to the input size (torch.Size([10, 1])) is deprecated. Please ensure they have the same size.\n",
      "/home/guoyuhao/.local/lib/python3.6/site-packages/ipykernel_launcher.py:58: UserWarning: Using a target size (torch.Size([5])) that is different to the input size (torch.Size([5, 1])) is deprecated. Please ensure they have the same size.\n"
     ]
    },
    {
     "name": "stdout",
     "output_type": "stream",
     "text": [
      "auc: 1.0 gt_lables: (25,) pred_labels: (25,)\n",
      "Epoch 40, loss=0.5355\n"
     ]
    },
    {
     "name": "stderr",
     "output_type": "stream",
     "text": [
      "/home/guoyuhao/.local/lib/python3.6/site-packages/ipykernel_launcher.py:34: UserWarning: Using a target size (torch.Size([10])) that is different to the input size (torch.Size([10, 1])) is deprecated. Please ensure they have the same size.\n",
      "/home/guoyuhao/.local/lib/python3.6/site-packages/ipykernel_launcher.py:58: UserWarning: Using a target size (torch.Size([10])) that is different to the input size (torch.Size([10, 1])) is deprecated. Please ensure they have the same size.\n",
      "/home/guoyuhao/.local/lib/python3.6/site-packages/ipykernel_launcher.py:58: UserWarning: Using a target size (torch.Size([5])) that is different to the input size (torch.Size([5, 1])) is deprecated. Please ensure they have the same size.\n"
     ]
    },
    {
     "name": "stdout",
     "output_type": "stream",
     "text": [
      "auc: 1.0 gt_lables: (25,) pred_labels: (25,)\n",
      "Epoch 41, loss=0.5332\n"
     ]
    },
    {
     "name": "stderr",
     "output_type": "stream",
     "text": [
      "/home/guoyuhao/.local/lib/python3.6/site-packages/ipykernel_launcher.py:34: UserWarning: Using a target size (torch.Size([10])) that is different to the input size (torch.Size([10, 1])) is deprecated. Please ensure they have the same size.\n",
      "/home/guoyuhao/.local/lib/python3.6/site-packages/ipykernel_launcher.py:58: UserWarning: Using a target size (torch.Size([10])) that is different to the input size (torch.Size([10, 1])) is deprecated. Please ensure they have the same size.\n",
      "/home/guoyuhao/.local/lib/python3.6/site-packages/ipykernel_launcher.py:58: UserWarning: Using a target size (torch.Size([5])) that is different to the input size (torch.Size([5, 1])) is deprecated. Please ensure they have the same size.\n"
     ]
    },
    {
     "name": "stdout",
     "output_type": "stream",
     "text": [
      "auc: 1.0 gt_lables: (25,) pred_labels: (25,)\n",
      "Epoch 42, loss=0.5311\n"
     ]
    },
    {
     "name": "stderr",
     "output_type": "stream",
     "text": [
      "/home/guoyuhao/.local/lib/python3.6/site-packages/ipykernel_launcher.py:34: UserWarning: Using a target size (torch.Size([10])) that is different to the input size (torch.Size([10, 1])) is deprecated. Please ensure they have the same size.\n",
      "/home/guoyuhao/.local/lib/python3.6/site-packages/ipykernel_launcher.py:58: UserWarning: Using a target size (torch.Size([10])) that is different to the input size (torch.Size([10, 1])) is deprecated. Please ensure they have the same size.\n",
      "/home/guoyuhao/.local/lib/python3.6/site-packages/ipykernel_launcher.py:58: UserWarning: Using a target size (torch.Size([5])) that is different to the input size (torch.Size([5, 1])) is deprecated. Please ensure they have the same size.\n"
     ]
    },
    {
     "name": "stdout",
     "output_type": "stream",
     "text": [
      "auc: 1.0 gt_lables: (25,) pred_labels: (25,)\n",
      "Epoch 43, loss=0.5284\n"
     ]
    },
    {
     "name": "stderr",
     "output_type": "stream",
     "text": [
      "/home/guoyuhao/.local/lib/python3.6/site-packages/ipykernel_launcher.py:34: UserWarning: Using a target size (torch.Size([10])) that is different to the input size (torch.Size([10, 1])) is deprecated. Please ensure they have the same size.\n",
      "/home/guoyuhao/.local/lib/python3.6/site-packages/ipykernel_launcher.py:58: UserWarning: Using a target size (torch.Size([10])) that is different to the input size (torch.Size([10, 1])) is deprecated. Please ensure they have the same size.\n",
      "/home/guoyuhao/.local/lib/python3.6/site-packages/ipykernel_launcher.py:58: UserWarning: Using a target size (torch.Size([5])) that is different to the input size (torch.Size([5, 1])) is deprecated. Please ensure they have the same size.\n"
     ]
    },
    {
     "name": "stdout",
     "output_type": "stream",
     "text": [
      "auc: 1.0 gt_lables: (25,) pred_labels: (25,)\n",
      "Epoch 44, loss=0.5260\n"
     ]
    },
    {
     "name": "stderr",
     "output_type": "stream",
     "text": [
      "/home/guoyuhao/.local/lib/python3.6/site-packages/ipykernel_launcher.py:34: UserWarning: Using a target size (torch.Size([10])) that is different to the input size (torch.Size([10, 1])) is deprecated. Please ensure they have the same size.\n",
      "/home/guoyuhao/.local/lib/python3.6/site-packages/ipykernel_launcher.py:58: UserWarning: Using a target size (torch.Size([10])) that is different to the input size (torch.Size([10, 1])) is deprecated. Please ensure they have the same size.\n",
      "/home/guoyuhao/.local/lib/python3.6/site-packages/ipykernel_launcher.py:58: UserWarning: Using a target size (torch.Size([5])) that is different to the input size (torch.Size([5, 1])) is deprecated. Please ensure they have the same size.\n"
     ]
    },
    {
     "name": "stdout",
     "output_type": "stream",
     "text": [
      "auc: 1.0 gt_lables: (25,) pred_labels: (25,)\n",
      "Epoch 45, loss=0.5242\n"
     ]
    },
    {
     "name": "stderr",
     "output_type": "stream",
     "text": [
      "/home/guoyuhao/.local/lib/python3.6/site-packages/ipykernel_launcher.py:34: UserWarning: Using a target size (torch.Size([10])) that is different to the input size (torch.Size([10, 1])) is deprecated. Please ensure they have the same size.\n",
      "/home/guoyuhao/.local/lib/python3.6/site-packages/ipykernel_launcher.py:58: UserWarning: Using a target size (torch.Size([10])) that is different to the input size (torch.Size([10, 1])) is deprecated. Please ensure they have the same size.\n",
      "/home/guoyuhao/.local/lib/python3.6/site-packages/ipykernel_launcher.py:58: UserWarning: Using a target size (torch.Size([5])) that is different to the input size (torch.Size([5, 1])) is deprecated. Please ensure they have the same size.\n"
     ]
    },
    {
     "name": "stdout",
     "output_type": "stream",
     "text": [
      "auc: 1.0 gt_lables: (25,) pred_labels: (25,)\n",
      "Epoch 46, loss=0.5214\n"
     ]
    },
    {
     "name": "stderr",
     "output_type": "stream",
     "text": [
      "/home/guoyuhao/.local/lib/python3.6/site-packages/ipykernel_launcher.py:34: UserWarning: Using a target size (torch.Size([10])) that is different to the input size (torch.Size([10, 1])) is deprecated. Please ensure they have the same size.\n",
      "/home/guoyuhao/.local/lib/python3.6/site-packages/ipykernel_launcher.py:58: UserWarning: Using a target size (torch.Size([10])) that is different to the input size (torch.Size([10, 1])) is deprecated. Please ensure they have the same size.\n",
      "/home/guoyuhao/.local/lib/python3.6/site-packages/ipykernel_launcher.py:58: UserWarning: Using a target size (torch.Size([5])) that is different to the input size (torch.Size([5, 1])) is deprecated. Please ensure they have the same size.\n"
     ]
    },
    {
     "name": "stdout",
     "output_type": "stream",
     "text": [
      "auc: 1.0 gt_lables: (25,) pred_labels: (25,)\n",
      "Epoch 47, loss=0.5191\n"
     ]
    },
    {
     "name": "stderr",
     "output_type": "stream",
     "text": [
      "/home/guoyuhao/.local/lib/python3.6/site-packages/ipykernel_launcher.py:34: UserWarning: Using a target size (torch.Size([10])) that is different to the input size (torch.Size([10, 1])) is deprecated. Please ensure they have the same size.\n",
      "/home/guoyuhao/.local/lib/python3.6/site-packages/ipykernel_launcher.py:58: UserWarning: Using a target size (torch.Size([10])) that is different to the input size (torch.Size([10, 1])) is deprecated. Please ensure they have the same size.\n",
      "/home/guoyuhao/.local/lib/python3.6/site-packages/ipykernel_launcher.py:58: UserWarning: Using a target size (torch.Size([5])) that is different to the input size (torch.Size([5, 1])) is deprecated. Please ensure they have the same size.\n"
     ]
    },
    {
     "name": "stdout",
     "output_type": "stream",
     "text": [
      "auc: 1.0 gt_lables: (25,) pred_labels: (25,)\n",
      "Epoch 48, loss=0.5175\n"
     ]
    },
    {
     "name": "stderr",
     "output_type": "stream",
     "text": [
      "/home/guoyuhao/.local/lib/python3.6/site-packages/ipykernel_launcher.py:34: UserWarning: Using a target size (torch.Size([10])) that is different to the input size (torch.Size([10, 1])) is deprecated. Please ensure they have the same size.\n",
      "/home/guoyuhao/.local/lib/python3.6/site-packages/ipykernel_launcher.py:58: UserWarning: Using a target size (torch.Size([10])) that is different to the input size (torch.Size([10, 1])) is deprecated. Please ensure they have the same size.\n",
      "/home/guoyuhao/.local/lib/python3.6/site-packages/ipykernel_launcher.py:58: UserWarning: Using a target size (torch.Size([5])) that is different to the input size (torch.Size([5, 1])) is deprecated. Please ensure they have the same size.\n"
     ]
    },
    {
     "name": "stdout",
     "output_type": "stream",
     "text": [
      "auc: 1.0 gt_lables: (25,) pred_labels: (25,)\n",
      "Epoch 49, loss=0.5161\n"
     ]
    },
    {
     "name": "stderr",
     "output_type": "stream",
     "text": [
      "/home/guoyuhao/.local/lib/python3.6/site-packages/ipykernel_launcher.py:34: UserWarning: Using a target size (torch.Size([10])) that is different to the input size (torch.Size([10, 1])) is deprecated. Please ensure they have the same size.\n",
      "/home/guoyuhao/.local/lib/python3.6/site-packages/ipykernel_launcher.py:58: UserWarning: Using a target size (torch.Size([10])) that is different to the input size (torch.Size([10, 1])) is deprecated. Please ensure they have the same size.\n",
      "/home/guoyuhao/.local/lib/python3.6/site-packages/ipykernel_launcher.py:58: UserWarning: Using a target size (torch.Size([5])) that is different to the input size (torch.Size([5, 1])) is deprecated. Please ensure they have the same size.\n"
     ]
    }
   ],
   "source": [
    "fm = FMLayer(n=4, k=5)\n",
    "fm = fm.to(device)\n",
    "optimizer = optim.Adam(fm.parameters(), lr=lr, weight_decay=0.0)\n",
    "fm.fit(train_loader, optimizer, epochs=50)"
   ]
  },
  {
   "cell_type": "code",
   "execution_count": 77,
   "metadata": {},
   "outputs": [
    {
     "name": "stdout",
     "output_type": "stream",
     "text": [
      "auc: 1.0 gt_lables: (25,) pred_labels: (25,)\n"
     ]
    },
    {
     "name": "stderr",
     "output_type": "stream",
     "text": [
      "/home/guoyuhao/.local/lib/python3.6/site-packages/ipykernel_launcher.py:58: UserWarning: Using a target size (torch.Size([10])) that is different to the input size (torch.Size([10, 1])) is deprecated. Please ensure they have the same size.\n",
      "/home/guoyuhao/.local/lib/python3.6/site-packages/ipykernel_launcher.py:58: UserWarning: Using a target size (torch.Size([5])) that is different to the input size (torch.Size([5, 1])) is deprecated. Please ensure they have the same size.\n"
     ]
    },
    {
     "data": {
      "text/plain": [
       "0.5160911977291107"
      ]
     },
     "execution_count": 77,
     "metadata": {},
     "output_type": "execute_result"
    }
   ],
   "source": [
    "fm.test(test_loader)"
   ]
  },
  {
   "cell_type": "code",
   "execution_count": null,
   "metadata": {},
   "outputs": [],
   "source": []
  }
 ],
 "metadata": {
  "kernelspec": {
   "display_name": "Python 3",
   "language": "python",
   "name": "python3"
  },
  "language_info": {
   "codemirror_mode": {
    "name": "ipython",
    "version": 3
   },
   "file_extension": ".py",
   "mimetype": "text/x-python",
   "name": "python",
   "nbconvert_exporter": "python",
   "pygments_lexer": "ipython3",
   "version": "3.7.0"
  }
 },
 "nbformat": 4,
 "nbformat_minor": 4
}
