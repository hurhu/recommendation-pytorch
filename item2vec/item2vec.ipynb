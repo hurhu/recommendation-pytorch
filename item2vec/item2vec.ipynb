{
 "cells": [
  {
   "cell_type": "code",
   "execution_count": 1,
   "metadata": {},
   "outputs": [
    {
     "data": {
      "text/html": [
       "<div>\n",
       "<style scoped>\n",
       "    .dataframe tbody tr th:only-of-type {\n",
       "        vertical-align: middle;\n",
       "    }\n",
       "\n",
       "    .dataframe tbody tr th {\n",
       "        vertical-align: top;\n",
       "    }\n",
       "\n",
       "    .dataframe thead th {\n",
       "        text-align: right;\n",
       "    }\n",
       "</style>\n",
       "<table border=\"1\" class=\"dataframe\">\n",
       "  <thead>\n",
       "    <tr style=\"text-align: right;\">\n",
       "      <th></th>\n",
       "      <th>movieId</th>\n",
       "      <th>title</th>\n",
       "      <th>genres</th>\n",
       "    </tr>\n",
       "  </thead>\n",
       "  <tbody>\n",
       "    <tr>\n",
       "      <th>5815</th>\n",
       "      <td>5914</td>\n",
       "      <td>Vernon, Florida (1981)</td>\n",
       "      <td>Documentary</td>\n",
       "    </tr>\n",
       "    <tr>\n",
       "      <th>2167</th>\n",
       "      <td>2252</td>\n",
       "      <td>Hero (1992)</td>\n",
       "      <td>Comedy|Drama</td>\n",
       "    </tr>\n",
       "    <tr>\n",
       "      <th>23594</th>\n",
       "      <td>112316</td>\n",
       "      <td>Jersey Boys (2014)</td>\n",
       "      <td>Drama|Musical</td>\n",
       "    </tr>\n",
       "    <tr>\n",
       "      <th>21556</th>\n",
       "      <td>104540</td>\n",
       "      <td>Immortals, The (1995)</td>\n",
       "      <td>Action|Crime|Drama</td>\n",
       "    </tr>\n",
       "    <tr>\n",
       "      <th>10087</th>\n",
       "      <td>33312</td>\n",
       "      <td>Cocoanuts, The (1929)</td>\n",
       "      <td>Comedy|Musical</td>\n",
       "    </tr>\n",
       "  </tbody>\n",
       "</table>\n",
       "</div>"
      ],
      "text/plain": [
       "       movieId                   title              genres\n",
       "5815      5914  Vernon, Florida (1981)         Documentary\n",
       "2167      2252             Hero (1992)        Comedy|Drama\n",
       "23594   112316      Jersey Boys (2014)       Drama|Musical\n",
       "21556   104540   Immortals, The (1995)  Action|Crime|Drama\n",
       "10087    33312   Cocoanuts, The (1929)      Comedy|Musical"
      ]
     },
     "metadata": {},
     "output_type": "display_data"
    },
    {
     "name": "stdout",
     "output_type": "stream",
     "text": [
      "Displaying 5 of the total 27278 data points\n"
     ]
    },
    {
     "data": {
      "text/html": [
       "<div>\n",
       "<style scoped>\n",
       "    .dataframe tbody tr th:only-of-type {\n",
       "        vertical-align: middle;\n",
       "    }\n",
       "\n",
       "    .dataframe tbody tr th {\n",
       "        vertical-align: top;\n",
       "    }\n",
       "\n",
       "    .dataframe thead th {\n",
       "        text-align: right;\n",
       "    }\n",
       "</style>\n",
       "<table border=\"1\" class=\"dataframe\">\n",
       "  <thead>\n",
       "    <tr style=\"text-align: right;\">\n",
       "      <th></th>\n",
       "      <th>userId</th>\n",
       "      <th>movieId</th>\n",
       "      <th>rating</th>\n",
       "      <th>timestamp</th>\n",
       "    </tr>\n",
       "  </thead>\n",
       "  <tbody>\n",
       "    <tr>\n",
       "      <th>8967293</th>\n",
       "      <td>61990</td>\n",
       "      <td>1203</td>\n",
       "      <td>4.0</td>\n",
       "      <td>1344131451</td>\n",
       "    </tr>\n",
       "    <tr>\n",
       "      <th>3529111</th>\n",
       "      <td>24073</td>\n",
       "      <td>2041</td>\n",
       "      <td>2.0</td>\n",
       "      <td>942966360</td>\n",
       "    </tr>\n",
       "    <tr>\n",
       "      <th>7621498</th>\n",
       "      <td>52512</td>\n",
       "      <td>59369</td>\n",
       "      <td>4.0</td>\n",
       "      <td>1363220506</td>\n",
       "    </tr>\n",
       "    <tr>\n",
       "      <th>11571687</th>\n",
       "      <td>79902</td>\n",
       "      <td>2761</td>\n",
       "      <td>4.0</td>\n",
       "      <td>1101231527</td>\n",
       "    </tr>\n",
       "    <tr>\n",
       "      <th>14098955</th>\n",
       "      <td>97384</td>\n",
       "      <td>2132</td>\n",
       "      <td>5.0</td>\n",
       "      <td>1225339185</td>\n",
       "    </tr>\n",
       "  </tbody>\n",
       "</table>\n",
       "</div>"
      ],
      "text/plain": [
       "          userId  movieId  rating   timestamp\n",
       "8967293    61990     1203     4.0  1344131451\n",
       "3529111    24073     2041     2.0   942966360\n",
       "7621498    52512    59369     4.0  1363220506\n",
       "11571687   79902     2761     4.0  1101231527\n",
       "14098955   97384     2132     5.0  1225339185"
      ]
     },
     "metadata": {},
     "output_type": "display_data"
    },
    {
     "name": "stdout",
     "output_type": "stream",
     "text": [
      "Displaying 5 of the total 20000263 data points\n"
     ]
    }
   ],
   "source": [
    "import pandas as pd\n",
    "import numpy as np\n",
    "\n",
    "df_movies = pd.read_csv('./ml-20m/movies.csv')\n",
    "df_ratings = pd.read_csv('./ml-20m/ratings.csv')\n",
    "\n",
    "movieId_to_name = pd.Series(df_movies.title.values, index=df_movies.movieId.values).to_dict()\n",
    "name_to_movieId = pd.Series(df_movies.movieId.values, index=df_movies.title).to_dict()\n",
    "\n",
    "#randomly display 5 records in the dataframe\n",
    "for df in list((df_movies, df_ratings)):\n",
    "    rand_idx = np.random.choice(len(df), 5, replace=False)\n",
    "    display(df.iloc[rand_idx,:])\n",
    "    print('Displaying 5 of the total ' + str(len(df)) + ' data points')"
   ]
  },
  {
   "cell_type": "code",
   "execution_count": 3,
   "metadata": {},
   "outputs": [
    {
     "data": {
      "image/png": "[encoded data removed]",
      "text/plain": [
       "<Figure size 576x432 with 1 Axes>"
      ]
     },
     "metadata": {
      "needs_background": "light"
     },
     "output_type": "display_data"
    }
   ],
   "source": [
    "import matplotlib.pyplot as plt\n",
    "%matplotlib inline\n",
    "\n",
    "plt.figure(figsize=(8,6))\n",
    "ax = plt.subplot(111)\n",
    "ax.set_title('Distribution of Movie Ratings', fontsize=16)\n",
    "ax.spines['top'].set_visible(False)\n",
    "ax.spines['right'].set_visible(False)\n",
    "\n",
    "plt.xticks(fontsize=12)\n",
    "plt.yticks(fontsize=12)\n",
    "\n",
    "plt.xlabel('Movie Rating', fontsize=14)\n",
    "plt.ylabel('Count', fontsize=14)\n",
    "\n",
    "plt.hist(df_ratings['rating'], color='#3F5D7D')\n",
    "plt.show()"
   ]
  },
  {
   "cell_type": "code",
   "execution_count": 17,
   "metadata": {},
   "outputs": [],
   "source": [
    "from sklearn.model_selection import train_test_split\n",
    "\n",
    "df_ratings_train, df_rating_test = train_test_split(df_ratings, stratify=df_ratings['userId'], random_state=15688, test_size=0.30)"
   ]
  },
  {
   "cell_type": "code",
   "execution_count": 18,
   "metadata": {},
   "outputs": [
    {
     "name": "stdout",
     "output_type": "stream",
     "text": [
      "Number of training data:14000184\n",
      "Number of test data:6000079\n"
     ]
    }
   ],
   "source": [
    "print('Number of training data:' +str(len(df_ratings_train)))\n",
    "print('Number of test data:'+str(len(df_rating_test)))"
   ]
  },
  {
   "cell_type": "code",
   "execution_count": 9,
   "metadata": {},
   "outputs": [],
   "source": [
    "def rating_splitter(df):\n",
    "    df['liked'] = np.where(df['rating']>=4, 1, 0)\n",
    "    df['movieId'] = df['movieId'].astype(str)\n",
    "    gp_user_like = df.groupby(['liked', 'userId'])\n",
    "    return ([gp_user_like.get_group(gp)['movieId'].tolist() for gp in gp_user_like.groups])"
   ]
  },
  {
   "cell_type": "code",
   "execution_count": 10,
   "metadata": {},
   "outputs": [],
   "source": [
    "pd.options.mode.chained_assignment = None\n",
    "splitted_movies = rating_splitter(df_ratings_train)"
   ]
  },
  {
   "cell_type": "code",
   "execution_count": 11,
   "metadata": {},
   "outputs": [],
   "source": [
    "import warnings\n",
    "warnings.filterwarnings(action='ignore', category=UserWarning, module='gensim')\n",
    "import gensim\n",
    "assert gensim.models.word2vec.FAST_VERSION > -1"
   ]
  },
  {
   "cell_type": "code",
   "execution_count": 12,
   "metadata": {},
   "outputs": [],
   "source": [
    "import random\n",
    "for movie_list in splitted_movies:\n",
    "    random.shuffle(movie_list)"
   ]
  },
  {
   "cell_type": "code",
   "execution_count": 13,
   "metadata": {},
   "outputs": [
    {
     "name": "stdout",
     "output_type": "stream",
     "text": [
      "Time passed:0:33:40.480155\n"
     ]
    }
   ],
   "source": [
    "from gensim.models import Word2Vec\n",
    "import datetime\n",
    "start = datetime.datetime.now()\n",
    "\n",
    "#用word2vec的skip-gram+negative sampling\n",
    "model = Word2Vec(sentences=splitted_movies, iter=2, min_count=10, size=30, workers=4, sg=1, hs=0, negative=5, window=9999999)\n",
    "print('Time passed:' + str(datetime.datetime.now()-start))\n",
    "model.save('item2vec_20200823')"
   ]
  },
  {
   "cell_type": "code",
   "execution_count": 14,
   "metadata": {},
   "outputs": [],
   "source": [
    "del model"
   ]
  },
  {
   "cell_type": "code",
   "execution_count": 15,
   "metadata": {},
   "outputs": [
    {
     "data": {
      "text/plain": [
       "0"
      ]
     },
     "execution_count": 15,
     "metadata": {},
     "output_type": "execute_result"
    }
   ],
   "source": [
    "import gc\n",
    "gc.collect()"
   ]
  },
  {
   "cell_type": "code",
   "execution_count": 2,
   "metadata": {},
   "outputs": [],
   "source": [
    "import warnings\n",
    "warnings.filterwarnings(action='ignore', category=UserWarning, module='gensim')\n",
    "\n",
    "from gensim.models import Word2Vec\n",
    "model = Word2Vec.load('item2vec_20200823')\n",
    "word_vectors = model.wv"
   ]
  },
  {
   "cell_type": "markdown",
   "metadata": {},
   "source": [
    "## let's make some recommendations"
   ]
  },
  {
   "cell_type": "code",
   "execution_count": 3,
   "metadata": {},
   "outputs": [],
   "source": [
    "import requests\n",
    "import re\n",
    "from bs4 import BeautifulSoup\n",
    "\n",
    "def refine_search(search_term):\n",
    "    target_url = \"http://www.imdb.com/find?ref_=nv_sr_fn&q=\"+\"+\".join(search_term.split())+\"&s=tt\"\n",
    "    html = requests.get(target_url).content\n",
    "    parsed_html = BeautifulSoup(html, 'html.parser')\n",
    "    for tag in parsed_html.find_all('td', class_=\"result_text\"):\n",
    "        search_result = re.findall('fn_tt_tt_1\">(.*)</a>(.*)</td>', str(tag))\n",
    "        if search_result:\n",
    "            if search_result[0][0].split()[0]==\"The\":\n",
    "                str_frac = \" \".join(search_result[0][0].split()[1:])+\", \"+search_result[0][0].split()[0]\n",
    "                refined_name = str_frac+\" \"+search_result[0][1].strip()\n",
    "            else:\n",
    "                refined_name = search_result[0][0]+\" \"+search_result[0][1].strip()\n",
    "    return refined_name\n",
    "def product_list_of_movieId(list_of_movieName, useRefineSearch=False):\n",
    "    list_of_movie_id = []\n",
    "    for movieName in list_of_movieName:\n",
    "        print(movieName)\n",
    "        if useRefineSearch:\n",
    "            movieName = refine_search(movieName)\n",
    "            print(\"Refined Name: \"+movieName)\n",
    "        if movieName in name_to_movieId.keys():\n",
    "            list_of_movie_id.append(str(name_to_movieId[movieName]))\n",
    "            print(str(name_to_movieId[movieName]))\n",
    "    return list_of_movie_id\n",
    "def recommender(positive_list=None, negative_list=None, useRefineSearch=False, topn=20):\n",
    "    recommend_movie_ls = []\n",
    "    if positive_list:\n",
    "        positive_list = product_list_of_movieId(positive_list, useRefineSearch)\n",
    "    if negative_list:\n",
    "        negative_list = product_list_of_movieId(negative_list, useRefineSearch)\n",
    "    print('positive_list:', positive_list)\n",
    "    print('negative_list:', negative_list)\n",
    "    for movieId, prob in model.wv.most_similar_cosmul(positive=positive_list, negative=negative_list, topn=topn):\n",
    "        recommend_movie_ls.append(movieId)\n",
    "    return recommend_movie_ls"
   ]
  },
  {
   "cell_type": "code",
   "execution_count": 27,
   "metadata": {},
   "outputs": [],
   "source": [
    "# name_to_movieId.keys()"
   ]
  },
  {
   "cell_type": "code",
   "execution_count": 9,
   "metadata": {},
   "outputs": [
    {
     "name": "stdout",
     "output_type": "stream",
     "text": [
      "Light It Up (1999)\n",
      "3050\n",
      "positive_list: ['3050']\n",
      "negative_list: None\n",
      "Recommendation Result based on \"Up\":\n"
     ]
    },
    {
     "data": {
      "text/html": [
       "<div>\n",
       "<style scoped>\n",
       "    .dataframe tbody tr th:only-of-type {\n",
       "        vertical-align: middle;\n",
       "    }\n",
       "\n",
       "    .dataframe tbody tr th {\n",
       "        vertical-align: top;\n",
       "    }\n",
       "\n",
       "    .dataframe thead th {\n",
       "        text-align: right;\n",
       "    }\n",
       "</style>\n",
       "<table border=\"1\" class=\"dataframe\">\n",
       "  <thead>\n",
       "    <tr style=\"text-align: right;\">\n",
       "      <th></th>\n",
       "      <th>movieId</th>\n",
       "      <th>title</th>\n",
       "      <th>genres</th>\n",
       "    </tr>\n",
       "  </thead>\n",
       "  <tbody>\n",
       "    <tr>\n",
       "      <th>2891</th>\n",
       "      <td>2977</td>\n",
       "      <td>Crazy in Alabama (1999)</td>\n",
       "      <td>Comedy|Drama</td>\n",
       "    </tr>\n",
       "    <tr>\n",
       "      <th>3449</th>\n",
       "      <td>3540</td>\n",
       "      <td>Passion of Mind (2000)</td>\n",
       "      <td>Drama|Mystery|Romance</td>\n",
       "    </tr>\n",
       "    <tr>\n",
       "      <th>3792</th>\n",
       "      <td>3885</td>\n",
       "      <td>Love &amp; Sex (2000)</td>\n",
       "      <td>Comedy|Drama|Romance</td>\n",
       "    </tr>\n",
       "    <tr>\n",
       "      <th>5227</th>\n",
       "      <td>5324</td>\n",
       "      <td>Life or Something Like It (2002)</td>\n",
       "      <td>Comedy|Romance</td>\n",
       "    </tr>\n",
       "    <tr>\n",
       "      <th>5565</th>\n",
       "      <td>5664</td>\n",
       "      <td>Brown Sugar (2002)</td>\n",
       "      <td>Romance</td>\n",
       "    </tr>\n",
       "  </tbody>\n",
       "</table>\n",
       "</div>"
      ],
      "text/plain": [
       "      movieId                             title                 genres\n",
       "2891     2977           Crazy in Alabama (1999)           Comedy|Drama\n",
       "3449     3540            Passion of Mind (2000)  Drama|Mystery|Romance\n",
       "3792     3885                 Love & Sex (2000)   Comedy|Drama|Romance\n",
       "5227     5324  Life or Something Like It (2002)         Comedy|Romance\n",
       "5565     5664                Brown Sugar (2002)                Romance"
      ]
     },
     "metadata": {},
     "output_type": "display_data"
    }
   ],
   "source": [
    "ls = recommender(positive_list=['Light It Up (1999)'], useRefineSearch=False, topn=5)\n",
    "print('Recommendation Result based on \"Up\":')\n",
    "display(df_movies[df_movies['movieId'].isin(ls)])"
   ]
  },
  {
   "cell_type": "code",
   "execution_count": 10,
   "metadata": {},
   "outputs": [
    {
     "name": "stdout",
     "output_type": "stream",
     "text": [
      "Matrix, The (1999)\n",
      "2571\n",
      "Django Unchained (2012)\n",
      "99114\n",
      "positive_list: ['2571']\n",
      "negative_list: ['99114']\n",
      "Recommendation Result based on \"The Matrix(1999)\" minus \"Django Unchained(2012)\":\n"
     ]
    },
    {
     "data": {
      "text/html": [
       "<div>\n",
       "<style scoped>\n",
       "    .dataframe tbody tr th:only-of-type {\n",
       "        vertical-align: middle;\n",
       "    }\n",
       "\n",
       "    .dataframe tbody tr th {\n",
       "        vertical-align: top;\n",
       "    }\n",
       "\n",
       "    .dataframe thead th {\n",
       "        text-align: right;\n",
       "    }\n",
       "</style>\n",
       "<table border=\"1\" class=\"dataframe\">\n",
       "  <thead>\n",
       "    <tr style=\"text-align: right;\">\n",
       "      <th></th>\n",
       "      <th>movieId</th>\n",
       "      <th>title</th>\n",
       "      <th>genres</th>\n",
       "    </tr>\n",
       "  </thead>\n",
       "  <tbody>\n",
       "    <tr>\n",
       "      <th>5699</th>\n",
       "      <td>5798</td>\n",
       "      <td>Escanaba in da Moonlight (2001)</td>\n",
       "      <td>Comedy</td>\n",
       "    </tr>\n",
       "    <tr>\n",
       "      <th>7202</th>\n",
       "      <td>7314</td>\n",
       "      <td>Robot Stories (2003)</td>\n",
       "      <td>Drama|Sci-Fi</td>\n",
       "    </tr>\n",
       "    <tr>\n",
       "      <th>7704</th>\n",
       "      <td>8221</td>\n",
       "      <td>War of the Buttons (1994)</td>\n",
       "      <td>Adventure|Children|Drama</td>\n",
       "    </tr>\n",
       "    <tr>\n",
       "      <th>8271</th>\n",
       "      <td>8954</td>\n",
       "      <td>Lightning in a Bottle (2004)</td>\n",
       "      <td>Documentary</td>\n",
       "    </tr>\n",
       "    <tr>\n",
       "      <th>9701</th>\n",
       "      <td>31429</td>\n",
       "      <td>Aliens of the Deep (2005)</td>\n",
       "      <td>Documentary|IMAX</td>\n",
       "    </tr>\n",
       "    <tr>\n",
       "      <th>9945</th>\n",
       "      <td>32605</td>\n",
       "      <td>Smile (2005)</td>\n",
       "      <td>Drama</td>\n",
       "    </tr>\n",
       "    <tr>\n",
       "      <th>9947</th>\n",
       "      <td>32620</td>\n",
       "      <td>Not on the Lips (Pas sur la bouche) (2003)</td>\n",
       "      <td>Comedy|Musical|Romance</td>\n",
       "    </tr>\n",
       "  </tbody>\n",
       "</table>\n",
       "</div>"
      ],
      "text/plain": [
       "      movieId                                       title  \\\n",
       "5699     5798             Escanaba in da Moonlight (2001)   \n",
       "7202     7314                        Robot Stories (2003)   \n",
       "7704     8221                   War of the Buttons (1994)   \n",
       "8271     8954                Lightning in a Bottle (2004)   \n",
       "9701    31429                   Aliens of the Deep (2005)   \n",
       "9945    32605                                Smile (2005)   \n",
       "9947    32620  Not on the Lips (Pas sur la bouche) (2003)   \n",
       "\n",
       "                        genres  \n",
       "5699                    Comedy  \n",
       "7202              Drama|Sci-Fi  \n",
       "7704  Adventure|Children|Drama  \n",
       "8271               Documentary  \n",
       "9701          Documentary|IMAX  \n",
       "9945                     Drama  \n",
       "9947    Comedy|Musical|Romance  "
      ]
     },
     "metadata": {},
     "output_type": "display_data"
    }
   ],
   "source": [
    "ls = recommender(positive_list=['Matrix, The (1999)'], negative_list=['Django Unchained (2012)'], useRefineSearch=False, topn=7)\n",
    "print('Recommendation Result based on \"The Matrix(1999)\" minus \"Django Unchained(2012)\":')\n",
    "display(df_movies[df_movies['movieId'].isin(ls)])"
   ]
  },
  {
   "cell_type": "markdown",
   "metadata": {},
   "source": [
    "## evaluating the model performance"
   ]
  },
  {
   "cell_type": "code",
   "execution_count": 24,
   "metadata": {},
   "outputs": [],
   "source": [
    "def user_liked_movies_builder(model, df, for_prediction=False):\n",
    "    df['liked'] = np.where(df['rating']>=4, 1, 0)\n",
    "    df['movieId'] = df['movieId'].astype('str')\n",
    "    df_liked = df[df['liked']==1]\n",
    "    if for_prediction:\n",
    "        df_liked = df[df['movieId'].isin(model.wv.vocab.keys())]\n",
    "    user_liked_movies = df_liked.groupby('userId').agg({'movieId':lambda x:x.tolist()})['movieId'].to_dict()\n",
    "    return user_liked_movies\n",
    "def scores_at_m(model, user_liked_movies_test, user_liked_movies_trainings, topn=10):\n",
    "    sum_liked = 0\n",
    "    sum_correct = 0\n",
    "    sum_total = 0\n",
    "    common_users = set(user_liked_movies_test.keys()).intersection(set(user_liked_movies_trainings.keys()))\n",
    "    \n",
    "    for userid in common_users:\n",
    "        current_test_set = set(user_liked_movies_test[userid])\n",
    "        pred = [pred_result[0] for pred_result in model.wv.most_similar_cosmul(positive=user_liked_movies_trainings[userid], topn=topn)]\n",
    "        sum_correct += len(set(pred).intersection(current_test_set))\n",
    "        sum_liked += len(current_test_set)\n",
    "    precision_at_m = sum_correct/(topn*len(common_users))\n",
    "    recall_at_m = sum_correct/sum_liked\n",
    "    f1 = 2 / ((1/precision_at_m)+(1/recall_at_m))\n",
    "    return [precision_at_m, recall_at_m, f1]"
   ]
  },
  {
   "cell_type": "code",
   "execution_count": 13,
   "metadata": {},
   "outputs": [
    {
     "data": {
      "text/plain": [
       "164"
      ]
     },
     "execution_count": 13,
     "metadata": {},
     "output_type": "execute_result"
    }
   ],
   "source": [
    "import gc\n",
    "# del model\n",
    "gc.collect()"
   ]
  },
  {
   "cell_type": "code",
   "execution_count": 25,
   "metadata": {},
   "outputs": [],
   "source": [
    "# pd.options.mode.chained_assignment = None\n",
    "# model = Word2Vec.load('item2vec_20200823')\n",
    "\n",
    "# user_liked_movies_train = user_liked_movies_builder(model, df_ratings_train, for_prediction=True)\n",
    "# user_liked_movies_test = user_liked_movies_builder(model, df_rating_test)\n",
    "\n",
    "model_score_sg1 = scores_at_m(model, user_liked_movies_test,user_liked_movies_train)\n",
    "del model"
   ]
  },
  {
   "cell_type": "code",
   "execution_count": 26,
   "metadata": {},
   "outputs": [
    {
     "name": "stdout",
     "output_type": "stream",
     "text": [
      "Respectivly, the [precision, recall, F-1 score] at 10 for out model are:\n",
      "[0.16218636164942446, 0.07427570865993298, 0.1018895498185145]\n"
     ]
    }
   ],
   "source": [
    "print('Respectivly, the [precision, recall, F-1 score] at 10 for out model are:')\n",
    "print(model_score_sg1)"
   ]
  },
  {
   "cell_type": "code",
   "execution_count": 28,
   "metadata": {},
   "outputs": [
    {
     "name": "stdout",
     "output_type": "stream",
     "text": [
      "////\n"
     ]
    }
   ],
   "source": [
    "print('////')"
   ]
  },
  {
   "cell_type": "code",
   "execution_count": null,
   "metadata": {},
   "outputs": [],
   "source": []
  }
 ],
 "metadata": {
  "kernelspec": {
   "display_name": "Python 3.6.10 64-bit ('anaconda3': virtualenv)",
   "language": "python",
   "name": "python3610jvsc74a57bd06b1511be9513fc759ecfb232ab57c7974d575220b70bfe4e49edc0a0cfa638a0"
  },
  "language_info": {
   "codemirror_mode": {
    "name": "ipython",
    "version": 3
   },
   "file_extension": ".py",
   "mimetype": "text/x-python",
   "name": "python",
   "nbconvert_exporter": "python",
   "pygments_lexer": "ipython3",
   "version": "3.6.10"
  }
 },
 "nbformat": 4,
 "nbformat_minor": 4
}
