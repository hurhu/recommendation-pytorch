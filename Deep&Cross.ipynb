{
 "cells": [
  {
   "cell_type": "code",
   "execution_count": 1,
   "metadata": {},
   "outputs": [],
   "source": [
    "import torch\n",
    "import numpy as np\n",
    "import pandas as pd\n",
    "from sklearn.preprocessing import MinMaxScaler, LabelEncoder\n",
    "from sklearn.model_selection import train_test_split\n",
    "\n",
    "from torch.utils.data import DataLoader, Dataset, TensorDataset\n",
    "import torch.nn as nn\n",
    "import torch.nn.functional as F\n",
    "import torch.optim as optim\n",
    "from sklearn.metrics import roc_auc_score, accuracy_score\n",
    "import datetime\n",
    "import warnings\n",
    "warnings.filterwarnings('ignore')"
   ]
  },
  {
   "cell_type": "markdown",
   "metadata": {},
   "source": [
    "## 构造数据"
   ]
  },
  {
   "cell_type": "code",
   "execution_count": 2,
   "metadata": {},
   "outputs": [
    {
     "name": "stdout",
     "output_type": "stream",
     "text": [
      "[[{'feat': 'I1'}, {'feat': 'I2'}, {'feat': 'I3'}, {'feat': 'I4'}, {'feat': 'I5'}, {'feat': 'I6'}, {'feat': 'I7'}, {'feat': 'I8'}, {'feat': 'I9'}, {'feat': 'I10'}, {'feat': 'I11'}, {'feat': 'I12'}, {'feat': 'I13'}], [{'feat': 'C1', 'feat_num': 79, 'embed_dim': 8}, {'feat': 'C2', 'feat_num': 252, 'embed_dim': 8}, {'feat': 'C3', 'feat_num': 1293, 'embed_dim': 8}, {'feat': 'C4', 'feat_num': 1043, 'embed_dim': 8}, {'feat': 'C5', 'feat_num': 30, 'embed_dim': 8}, {'feat': 'C6', 'feat_num': 7, 'embed_dim': 8}, {'feat': 'C7', 'feat_num': 1164, 'embed_dim': 8}, {'feat': 'C8', 'feat_num': 39, 'embed_dim': 8}, {'feat': 'C9', 'feat_num': 2, 'embed_dim': 8}, {'feat': 'C10', 'feat_num': 908, 'embed_dim': 8}, {'feat': 'C11', 'feat_num': 926, 'embed_dim': 8}, {'feat': 'C12', 'feat_num': 1239, 'embed_dim': 8}, {'feat': 'C13', 'feat_num': 824, 'embed_dim': 8}, {'feat': 'C14', 'feat_num': 20, 'embed_dim': 8}, {'feat': 'C15', 'feat_num': 819, 'embed_dim': 8}, {'feat': 'C16', 'feat_num': 1159, 'embed_dim': 8}, {'feat': 'C17', 'feat_num': 9, 'embed_dim': 8}, {'feat': 'C18', 'feat_num': 534, 'embed_dim': 8}, {'feat': 'C19', 'feat_num': 201, 'embed_dim': 8}, {'feat': 'C20', 'feat_num': 4, 'embed_dim': 8}, {'feat': 'C21', 'feat_num': 1204, 'embed_dim': 8}, {'feat': 'C22', 'feat_num': 7, 'embed_dim': 8}, {'feat': 'C23', 'feat_num': 12, 'embed_dim': 8}, {'feat': 'C24', 'feat_num': 729, 'embed_dim': 8}, {'feat': 'C25', 'feat_num': 33, 'embed_dim': 8}, {'feat': 'C26', 'feat_num': 554, 'embed_dim': 8}]]\n",
      "(1439, 40) (160, 40) (400, 40)\n"
     ]
    }
   ],
   "source": [
    "data = pd.read_csv('train.txt')\n",
    "train_set, test_set = train_test_split(data, test_size=0.2, random_state=2020)\n",
    "\n",
    "train_label = train_set['label']\n",
    "del train_set['label']\n",
    "test_label = test_set['label']\n",
    "del test_set['label']\n",
    "data_df = pd.concat((train_set, test_set))\n",
    "\n",
    "\n",
    "sparse_feas = [col for col in data_df.columns if col[0] == 'C']\n",
    "dense_feas = [col for col in data_df.columns if col[0] == 'I']\n",
    "\n",
    "data_df[sparse_feas] = data_df[sparse_feas].fillna('-1')\n",
    "data_df[dense_feas] = data_df[dense_feas].fillna(0)\n",
    "\n",
    "def sparseFeature(feat, feat_num, embed_dim=4):\n",
    "    return {'feat':feat, 'feat_num':feat_num, 'embed_dim':embed_dim}\n",
    "def denseFeature(feat):\n",
    "    return {'feat':feat}\n",
    "embed_dim = 8\n",
    "feature_columns = [[denseFeature(feat) for feat in dense_feas]] + [[sparseFeature(feat, len(data_df[feat].unique()), embed_dim=embed_dim) for feat in sparse_feas]]\n",
    "\n",
    "for feat in sparse_feas:\n",
    "    le = LabelEncoder()\n",
    "    data_df[feat] = le.fit_transform(data_df[feat])\n",
    "\n",
    "mms = MinMaxScaler()\n",
    "data_df[dense_feas] = mms.fit_transform(data_df[dense_feas])\n",
    "\n",
    "train = data_df[:train_set.shape[0]]\n",
    "test = data_df[train_set.shape[0]:]\n",
    "\n",
    "train['label'] = train_label\n",
    "test['label'] = test_label\n",
    "\n",
    "train_set, val_set = train_test_split(train, test_size=0.1, random_state=2020)\n",
    "\n",
    "train_set.reset_index(drop=True, inplace=True)\n",
    "val_set.reset_index(drop=True, inplace=True)\n",
    "test.reset_index(drop=True, inplace=True)\n",
    "print(feature_columns)\n",
    "print(train_set.shape, val_set.shape, test.shape)"
   ]
  },
  {
   "cell_type": "code",
   "execution_count": 3,
   "metadata": {},
   "outputs": [
    {
     "name": "stdout",
     "output_type": "stream",
     "text": [
      "torch.Size([32, 39]) tensor([0., 0., 0., 0., 0., 0., 0., 0., 0., 0., 0., 0., 0., 0., 0., 0., 1., 0.,\n",
      "        0., 0., 0., 1., 0., 0., 1., 0., 0., 0., 0., 0., 0., 1.])\n"
     ]
    }
   ],
   "source": [
    "trn_x = train_set.drop('label', axis=1).values\n",
    "trn_y = train_set['label'].values\n",
    "\n",
    "val_x = val_set.drop('label', axis=1).values\n",
    "val_y = val_set['label'].values\n",
    "\n",
    "dl_train_dataset = TensorDataset(torch.tensor(trn_x).float(), torch.tensor(trn_y).float())\n",
    "dl_val_dataset = TensorDataset(torch.tensor(val_x).float(), torch.tensor(val_y).float())\n",
    "\n",
    "dl_train = DataLoader(dl_train_dataset, shuffle=True, batch_size=32)\n",
    "dl_val = DataLoader(dl_val_dataset, shuffle=True, batch_size=32)\n",
    "\n",
    "for x, y in iter(dl_train):\n",
    "    print(x.shape, y)\n",
    "    break"
   ]
  },
  {
   "cell_type": "markdown",
   "metadata": {},
   "source": [
    "## 构建模型"
   ]
  },
  {
   "cell_type": "code",
   "execution_count": 26,
   "metadata": {},
   "outputs": [],
   "source": [
    "class CrossNetwork(nn.Module):\n",
    "    def __init__(self, layer_num, input_dim):\n",
    "        \"\"\"\n",
    "        layer_num:几层的交叉\n",
    "        input_dim:特征的个数\n",
    "        \"\"\"\n",
    "        super(CrossNetwork, self).__init__()\n",
    "        self.layer_num = layer_num\n",
    "        #定义网络的参数\n",
    "        self.cross_weights = nn.ParameterList([nn.Parameter(torch.rand(input_dim, 1)) for i in range(self.layer_num)])\n",
    "        self.cross_bias = nn.ParameterList([nn.Parameter(torch.rand(input_dim, 1)) for i in range(self.layer_num)])\n",
    "    def forward(self, x):\n",
    "        #x是(None, dim)的形状，先扩展到一个维度到(None, dim, 1)\n",
    "        x_0 = torch.unsqueeze(x, dim=2)\n",
    "        x = x_0.clone()\n",
    "        xT = x_0.clone().permute((0, 2, 1)) #(None, 1,dim)\n",
    "        for i in range(self.layer_num):\n",
    "            x = torch.matmul(torch.bmm(x_0, xT), self.cross_weights[i]) + self.cross_bias[i] + x #(None, dim, 1)\n",
    "            xT = x.clone().permute((0, 2, 1)) #(None, 1, dim)\n",
    "        \n",
    "        x = torch.squeeze(x) #(None, dim)\n",
    "        return x"
   ]
  },
  {
   "cell_type": "code",
   "execution_count": 27,
   "metadata": {},
   "outputs": [],
   "source": [
    "class Dnn(nn.Module):\n",
    "    def __init__(self, hidden_units, dropout=0.):\n",
    "        super(Dnn, self).__init__()\n",
    "        self.dnn_network = nn.ModuleList([nn.Linear(layer[0], layer[1]) for layer in list(zip(hidden_units[:-1], hidden_units[1:]))])\n",
    "        self.dropout = nn.Dropout(p=dropout)\n",
    "    def forward(self, x):\n",
    "        for linear in self.dnn_network:\n",
    "            x = linear(x)\n",
    "            x = F.relu(x)\n",
    "        x = self.dropout(x)\n",
    "        return x"
   ]
  },
  {
   "cell_type": "code",
   "execution_count": 28,
   "metadata": {},
   "outputs": [],
   "source": [
    "class DCN(nn.Module):\n",
    "    def __init__(self, feature_columns, hidden_units, layer_num, dnn_dropout=0.):\n",
    "        super(DCN, self).__init__()\n",
    "        self.dense_feature_cols, self.sparse_feature_cols = feature_columns\n",
    "        \n",
    "        #embedding\n",
    "        self.embed_layers = nn.ModuleDict({\n",
    "            'embed_'+str(i):nn.Embedding(num_embeddings=feat['feat_num'], embedding_dim=feat['embed_dim']) for i, feat in enumerate(self.sparse_feature_cols)\n",
    "        })\n",
    "        \n",
    "        hidden_units.insert(0, len(self.dense_feature_cols) + len(self.sparse_feature_cols) * self.sparse_feature_cols[0]['embed_dim'])\n",
    "        self.dnn_network = Dnn(hidden_units, dnn_dropout)\n",
    "        self.cross_network = CrossNetwork(layer_num, hidden_units[0])\n",
    "        self.final_linear = nn.Linear(hidden_units[-1]+hidden_units[0], 1)\n",
    "    def forward(self, x):\n",
    "        dense_input, sparse_input = x[:, :len(self.dense_feature_cols)], x[:, len(self.dense_feature_cols):]\n",
    "        sparse_input = sparse_input.long()\n",
    "        sparse_embeds = [self.embed_layers['embed_'+str(i)](sparse_input[:,i]) for i in range(sparse_input.shape[1])]\n",
    "        sparse_embeds = torch.cat(sparse_embeds, dim=-1)\n",
    "        \n",
    "        x = torch.cat([sparse_embeds, dense_input], dim=-1)\n",
    "        \n",
    "        #cross network\n",
    "        cross_out = self.cross_network(x)\n",
    "        \n",
    "        #deep network\n",
    "        deep_out = self.dnn_network(x)\n",
    "        \n",
    "        #cross输出与dnn输出拼接\n",
    "        total_x = torch.cat([cross_out, deep_out], dim=-1)\n",
    "        \n",
    "        #out\n",
    "        outputs = F.sigmoid(self.final_linear(total_x))\n",
    "        return outputs"
   ]
  },
  {
   "cell_type": "code",
   "execution_count": 29,
   "metadata": {},
   "outputs": [
    {
     "data": {
      "text/plain": [
       "DCN(\n",
       "  (embed_layers): ModuleDict(\n",
       "    (embed_0): Embedding(79, 8)\n",
       "    (embed_1): Embedding(252, 8)\n",
       "    (embed_10): Embedding(926, 8)\n",
       "    (embed_11): Embedding(1239, 8)\n",
       "    (embed_12): Embedding(824, 8)\n",
       "    (embed_13): Embedding(20, 8)\n",
       "    (embed_14): Embedding(819, 8)\n",
       "    (embed_15): Embedding(1159, 8)\n",
       "    (embed_16): Embedding(9, 8)\n",
       "    (embed_17): Embedding(534, 8)\n",
       "    (embed_18): Embedding(201, 8)\n",
       "    (embed_19): Embedding(4, 8)\n",
       "    (embed_2): Embedding(1293, 8)\n",
       "    (embed_20): Embedding(1204, 8)\n",
       "    (embed_21): Embedding(7, 8)\n",
       "    (embed_22): Embedding(12, 8)\n",
       "    (embed_23): Embedding(729, 8)\n",
       "    (embed_24): Embedding(33, 8)\n",
       "    (embed_25): Embedding(554, 8)\n",
       "    (embed_3): Embedding(1043, 8)\n",
       "    (embed_4): Embedding(30, 8)\n",
       "    (embed_5): Embedding(7, 8)\n",
       "    (embed_6): Embedding(1164, 8)\n",
       "    (embed_7): Embedding(39, 8)\n",
       "    (embed_8): Embedding(2, 8)\n",
       "    (embed_9): Embedding(908, 8)\n",
       "  )\n",
       "  (dnn_network): Dnn(\n",
       "    (dnn_network): ModuleList(\n",
       "      (0): Linear(in_features=221, out_features=128, bias=True)\n",
       "      (1): Linear(in_features=128, out_features=64, bias=True)\n",
       "      (2): Linear(in_features=64, out_features=32, bias=True)\n",
       "    )\n",
       "    (dropout): Dropout(p=0.0)\n",
       "  )\n",
       "  (cross_network): CrossNetwork(\n",
       "    (cross_weights): ParameterList(\n",
       "        (0): Parameter containing: [torch.FloatTensor of size 221x1]\n",
       "        (1): Parameter containing: [torch.FloatTensor of size 221x1]\n",
       "        (2): Parameter containing: [torch.FloatTensor of size 221x1]\n",
       "    )\n",
       "    (cross_bias): ParameterList(\n",
       "        (0): Parameter containing: [torch.FloatTensor of size 221x1]\n",
       "        (1): Parameter containing: [torch.FloatTensor of size 221x1]\n",
       "        (2): Parameter containing: [torch.FloatTensor of size 221x1]\n",
       "    )\n",
       "  )\n",
       "  (final_linear): Linear(in_features=253, out_features=1, bias=True)\n",
       ")"
      ]
     },
     "execution_count": 29,
     "metadata": {},
     "output_type": "execute_result"
    }
   ],
   "source": [
    "#建立模型\n",
    "hidden_units = [128, 64, 32]\n",
    "dnn_dropout = 0.\n",
    "\n",
    "model = DCN(feature_columns, hidden_units, len(hidden_units), dnn_dropout)\n",
    "model"
   ]
  },
  {
   "cell_type": "code",
   "execution_count": 30,
   "metadata": {},
   "outputs": [
    {
     "name": "stdout",
     "output_type": "stream",
     "text": [
      "tensor([[9.8611e-19],\n",
      "        [0.0000e+00],\n",
      "        [1.0000e+00],\n",
      "        [1.0000e+00],\n",
      "        [0.0000e+00],\n",
      "        [1.0000e+00],\n",
      "        [9.9947e-01],\n",
      "        [1.0000e+00],\n",
      "        [1.0000e+00],\n",
      "        [1.0000e+00],\n",
      "        [1.0000e+00],\n",
      "        [1.0000e+00],\n",
      "        [3.8664e-20],\n",
      "        [0.0000e+00],\n",
      "        [1.0000e+00],\n",
      "        [1.0000e+00],\n",
      "        [1.0000e+00],\n",
      "        [1.0000e+00],\n",
      "        [1.0000e+00],\n",
      "        [0.0000e+00],\n",
      "        [1.0000e+00],\n",
      "        [1.0000e+00],\n",
      "        [1.0000e+00],\n",
      "        [7.0773e-12],\n",
      "        [0.0000e+00],\n",
      "        [0.0000e+00],\n",
      "        [2.0145e-07],\n",
      "        [5.8910e-01],\n",
      "        [8.1752e-01],\n",
      "        [0.0000e+00],\n",
      "        [1.0780e-08],\n",
      "        [1.0000e+00]], grad_fn=<SigmoidBackward>)\n"
     ]
    }
   ],
   "source": [
    "#测试一下模型\n",
    "for fea, label in iter(dl_train):\n",
    "    out = model(fea)\n",
    "    print(out)\n",
    "    break"
   ]
  },
  {
   "cell_type": "markdown",
   "metadata": {},
   "source": [
    "## 训练和评估模型"
   ]
  },
  {
   "cell_type": "code",
   "execution_count": 31,
   "metadata": {},
   "outputs": [],
   "source": [
    "# 模型的相关配置\n",
    "def auc(y_pred, y_true):\n",
    "    pred = y_pred.data\n",
    "    y = y_true.data\n",
    "    return roc_auc_score(y, pred)\n",
    "\n",
    "loss_func = nn.BCELoss()\n",
    "optimizer = optim.Adam(params=model.parameters(), lr=0.001)\n",
    "metric_func = auc\n",
    "metric_name = 'auc'"
   ]
  },
  {
   "cell_type": "code",
   "execution_count": 32,
   "metadata": {},
   "outputs": [
    {
     "name": "stdout",
     "output_type": "stream",
     "text": [
      "start_training.........\n",
      "================================================================2022-08-04 15:40:46\n",
      "[step=10] loss: 14.125, auc: 0.444\n",
      "[step=20] loss: 13.097, auc: 0.478\n",
      "[step=30] loss: 12.279, auc: 0.516\n",
      "[step=40] loss: 11.930, auc: 0.507\n",
      "\n",
      "EPOCH=1, loss=12.186, auc = 0.506, val_loss=13.436, val_auc = 0.444\n",
      "\n",
      "================================================================================2022-08-04 15:40:47\n",
      "[step=10] loss: 11.752, auc: 0.478\n",
      "[step=20] loss: 11.438, auc: 0.504\n",
      "[step=30] loss: 11.092, auc: 0.510\n",
      "[step=40] loss: 10.987, auc: 0.517\n",
      "\n",
      "EPOCH=2, loss=10.759, auc = 0.527, val_loss=12.430, val_auc = 0.467\n",
      "\n",
      "================================================================================2022-08-04 15:40:49\n",
      "[step=10] loss: 10.933, auc: 0.518\n",
      "[step=20] loss: 10.842, auc: 0.529\n",
      "[step=30] loss: 10.867, auc: 0.530\n",
      "[step=40] loss: 10.224, auc: 0.542\n",
      "\n",
      "EPOCH=3, loss=10.363, auc = 0.547, val_loss=13.029, val_auc = 0.456\n",
      "\n",
      "================================================================================2022-08-04 15:40:50\n",
      "[step=10] loss: 10.088, auc: 0.555\n",
      "[step=20] loss: 9.378, auc: 0.544\n",
      "[step=30] loss: 9.581, auc: 0.545\n",
      "[step=40] loss: 9.455, auc: 0.569\n",
      "\n",
      "EPOCH=4, loss=9.534, auc = 0.563, val_loss=12.842, val_auc = 0.463\n",
      "\n",
      "================================================================================2022-08-04 15:40:52\n",
      "[step=10] loss: 10.808, auc: 0.573\n",
      "[step=20] loss: 11.034, auc: 0.550\n",
      "[step=30] loss: 10.863, auc: 0.548\n",
      "[step=40] loss: 10.379, auc: 0.555\n",
      "\n",
      "EPOCH=5, loss=10.472, auc = 0.553, val_loss=12.080, val_auc = 0.479\n",
      "\n",
      "================================================================================2022-08-04 15:40:53\n",
      "[step=10] loss: 10.256, auc: 0.565\n",
      "[step=20] loss: 9.374, auc: 0.594\n",
      "[step=30] loss: 9.197, auc: 0.609\n",
      "[step=40] loss: 9.094, auc: 0.597\n",
      "\n",
      "EPOCH=6, loss=9.108, auc = 0.590, val_loss=11.853, val_auc = 0.461\n",
      "\n",
      "================================================================================2022-08-04 15:40:55\n",
      "[step=10] loss: 9.314, auc: 0.543\n",
      "[step=20] loss: 8.698, auc: 0.551\n",
      "[step=30] loss: 8.250, auc: 0.576\n",
      "[step=40] loss: 8.444, auc: 0.580\n",
      "\n",
      "EPOCH=7, loss=8.253, auc = 0.596, val_loss=13.280, val_auc = 0.423\n",
      "\n",
      "================================================================================2022-08-04 15:40:57\n",
      "[step=10] loss: 9.128, auc: 0.597\n",
      "[step=20] loss: 8.096, auc: 0.600\n",
      "[step=30] loss: 7.799, auc: 0.612\n",
      "[step=40] loss: 7.819, auc: 0.616\n",
      "\n",
      "EPOCH=8, loss=7.766, auc = 0.622, val_loss=12.713, val_auc = 0.419\n",
      "\n",
      "================================================================================2022-08-04 15:40:58\n",
      "[step=10] loss: 6.556, auc: 0.607\n",
      "[step=20] loss: 6.933, auc: 0.647\n",
      "[step=30] loss: 7.079, auc: 0.643\n",
      "[step=40] loss: 7.021, auc: 0.633\n",
      "\n",
      "EPOCH=9, loss=7.173, auc = 0.631, val_loss=12.390, val_auc = 0.451\n",
      "\n",
      "================================================================================2022-08-04 15:41:00\n",
      "[step=10] loss: 6.917, auc: 0.662\n",
      "[step=20] loss: 6.793, auc: 0.698\n",
      "[step=30] loss: 7.199, auc: 0.665\n",
      "[step=40] loss: 7.004, auc: 0.662\n",
      "\n",
      "EPOCH=10, loss=7.060, auc = 0.660, val_loss=13.699, val_auc = 0.400\n",
      "\n",
      "================================================================================2022-08-04 15:41:02\n",
      "Finished Training\n"
     ]
    }
   ],
   "source": [
    "epochs = 10\n",
    "log_step_freq = 10\n",
    "\n",
    "dfhistory = pd.DataFrame(columns=['epoch', 'loss', metric_name, 'val_loss', 'val_'+metric_name])\n",
    "\n",
    "print('start_training.........')\n",
    "nowtime = datetime.datetime.now().strftime('%Y-%m-%d %H:%M:%S')\n",
    "print('========'*8 + '%s' %nowtime)\n",
    "\n",
    "for epoch in range(1, epochs+1):\n",
    "    \n",
    "    # 训练阶段\n",
    "    model.train()\n",
    "    loss_sum = 0.0\n",
    "    metric_sum = 0.0\n",
    "    step = 1\n",
    "    \n",
    "    for step, (features, labels) in enumerate(dl_train, 1):\n",
    "        # 梯度清零\n",
    "        optimizer.zero_grad()\n",
    "        \n",
    "        # 正向传播\n",
    "        predictions = model(features);\n",
    "        loss = loss_func(predictions, labels)\n",
    "        try:\n",
    "            metric = metric_func(predictions, labels)\n",
    "        except ValueError:\n",
    "            pass\n",
    "        \n",
    "        # 反向传播\n",
    "        loss.backward()\n",
    "        optimizer.step()\n",
    "        \n",
    "        # 打印batch级别日志\n",
    "        loss_sum += loss.item()\n",
    "        metric_sum += metric.item()\n",
    "        if step % log_step_freq == 0:\n",
    "            print((\"[step=%d] loss: %.3f, \" + metric_name + \": %.3f\") % (step, loss_sum/step, metric_sum/step));\n",
    "    \n",
    "    # 验证阶段\n",
    "    model.eval()\n",
    "    val_loss_sum = 0.0\n",
    "    val_metric_sum = 0.0\n",
    "    val_step = 1\n",
    "    \n",
    "    for val_step, (features, labels) in enumerate(dl_val, 1):\n",
    "        with torch.no_grad():\n",
    "            predictions = model(features)\n",
    "            val_loss = loss_func(predictions, labels)\n",
    "            try:\n",
    "                val_metric = metric_func(predictions, labels)\n",
    "            except ValueError:\n",
    "                pass\n",
    "        \n",
    "        val_loss_sum += val_loss.item()\n",
    "        val_metric_sum += val_metric.item()\n",
    "    \n",
    "    # 记录日志\n",
    "    info = (epoch, loss_sum/step, metric_sum/step, val_loss_sum/val_step, val_metric_sum/val_step)\n",
    "    dfhistory.loc[epoch-1] = info\n",
    "    \n",
    "    # 打印日志\n",
    "    print((\"\\nEPOCH=%d, loss=%.3f, \" + metric_name + \" = %.3f, val_loss=%.3f, \" + \"val_\" + metric_name + \" = %.3f\") %info)\n",
    "    nowtime = datetime.datetime.now().strftime(\"%Y-%m-%d %H:%M:%S\")\n",
    "    print('\\n' + '=========='* 8 + '%s' %nowtime)\n",
    "    \n",
    "print('Finished Training')"
   ]
  },
  {
   "cell_type": "code",
   "execution_count": 33,
   "metadata": {},
   "outputs": [
    {
     "data": {
      "image/png": "[encoded data removed]",
      "text/plain": [
       "<Figure size 432x288 with 1 Axes>"
      ]
     },
     "metadata": {
      "needs_background": "light"
     },
     "output_type": "display_data"
    },
    {
     "data": {
      "image/png": "[encoded data removed]",
      "text/plain": [
       "<Figure size 432x288 with 1 Axes>"
      ]
     },
     "metadata": {
      "needs_background": "light"
     },
     "output_type": "display_data"
    }
   ],
   "source": [
    "import matplotlib.pyplot as plt\n",
    "def plot_metric(dfhistory, metric):\n",
    "    train_metrics = dfhistory[metric]\n",
    "    val_metrics = dfhistory['val_'+metric]\n",
    "    epochs = range(1, len(train_metrics) + 1)\n",
    "    plt.plot(epochs, train_metrics, 'bo--')\n",
    "    plt.plot(epochs, val_metrics, 'ro-')\n",
    "    plt.title('Training and validation '+ metric)\n",
    "    plt.xlabel(\"Epochs\")\n",
    "    plt.ylabel(metric)\n",
    "    plt.legend([\"train_\"+metric, 'val_'+metric])\n",
    "    plt.show()\n",
    "\n",
    "\n",
    "# 观察损失和准确率的变化\n",
    "plot_metric(dfhistory,\"loss\")\n",
    "plot_metric(dfhistory,\"auc\")"
   ]
  },
  {
   "cell_type": "code",
   "execution_count": 34,
   "metadata": {},
   "outputs": [
    {
     "name": "stdout",
     "output_type": "stream",
     "text": [
      "test_auc:0.545, test_acc:0.655\n"
     ]
    }
   ],
   "source": [
    "# 预测\n",
    "test_x = test.drop('label', axis=1).values\n",
    "test_y = test['label'].values\n",
    "y_pred_probs = model(torch.tensor(test_x).float())\n",
    "y_pred = torch.where(y_pred_probs>0.5, torch.ones_like(y_pred_probs), torch.zeros_like(y_pred_probs))\n",
    "test_auc = auc(y_pred_probs.data.numpy(), test_y)\n",
    "test_acc = accuracy_score(test_y, y_pred.data.numpy())\n",
    "print('test_auc:%.3f, test_acc:%.3f' % (test_auc, test_acc))"
   ]
  },
  {
   "cell_type": "code",
   "execution_count": null,
   "metadata": {},
   "outputs": [],
   "source": []
  }
 ],
 "metadata": {
  "kernelspec": {
   "display_name": "Python 3.6.10 64-bit ('anaconda3': virtualenv)",
   "language": "python",
   "name": "python3610jvsc74a57bd06b1511be9513fc759ecfb232ab57c7974d575220b70bfe4e49edc0a0cfa638a0"
  },
  "language_info": {
   "codemirror_mode": {
    "name": "ipython",
    "version": 3
   },
   "file_extension": ".py",
   "mimetype": "text/x-python",
   "name": "python",
   "nbconvert_exporter": "python",
   "pygments_lexer": "ipython3",
   "version": "3.6.10"
  }
 },
 "nbformat": 4,
 "nbformat_minor": 4
}
